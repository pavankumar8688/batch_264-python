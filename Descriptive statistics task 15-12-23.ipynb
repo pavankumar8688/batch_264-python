{
 "cells": [
  {
   "cell_type": "code",
   "execution_count": 53,
   "id": "723f3096",
   "metadata": {},
   "outputs": [],
   "source": [
    "import pandas as pd,numpy as np"
   ]
  },
  {
   "cell_type": "code",
   "execution_count": 54,
   "id": "e42c27f2",
   "metadata": {},
   "outputs": [
    {
     "name": "stdout",
     "output_type": "stream",
     "text": [
      "    productA  productB\n",
      "0         25        40\n",
      "1         30        35\n",
      "2         28        38\n",
      "3         32        41\n",
      "4         26        37\n",
      "5         29        36\n",
      "6         27        39\n",
      "7         33        42\n",
      "8         31        38\n",
      "9         28        37\n",
      "10        30        40\n",
      "11        29        36\n"
     ]
    }
   ],
   "source": [
    "Data={'productA':[25,30,28,32,26,29,27,33,31,28,30,29],\n",
    "      'productB':[40,35,38,41,37,36,39,42,38,37,40,36]}\n",
    "df=pd.DataFrame(Data)\n",
    "print(df)"
   ]
  },
  {
   "cell_type": "markdown",
   "id": "4fcc2e94",
   "metadata": {},
   "source": [
    "# Measures of Central Tendency:\n",
    "\n",
    "### 1.Calculate the mean sales for Product A and Product B. Compare the average monthly sales for the two products and discuss any observed trends.\n"
   ]
  },
  {
   "cell_type": "code",
   "execution_count": 34,
   "id": "499f2765",
   "metadata": {},
   "outputs": [
    {
     "data": {
      "text/plain": [
       "productA    29.00\n",
       "productB    38.25\n",
       "dtype: float64"
      ]
     },
     "execution_count": 34,
     "metadata": {},
     "output_type": "execute_result"
    }
   ],
   "source": [
    "df.mean()"
   ]
  },
  {
   "cell_type": "markdown",
   "id": "05fd8ef7",
   "metadata": {},
   "source": [
    "### 2.Find the median sales for each product and discuss how it reflects the central tendency of the sales distribution.\n"
   ]
  },
  {
   "cell_type": "code",
   "execution_count": 35,
   "id": "7bd59740",
   "metadata": {},
   "outputs": [
    {
     "data": {
      "text/plain": [
       "productA    29.0\n",
       "productB    38.0\n",
       "dtype: float64"
      ]
     },
     "execution_count": 35,
     "metadata": {},
     "output_type": "execute_result"
    }
   ],
   "source": [
    "df.median()"
   ]
  },
  {
   "cell_type": "markdown",
   "id": "beb2f143",
   "metadata": {},
   "source": [
    "### 3.Identify the mode of the sales data for both Product A and Product B. Discuss the significance of the mode in the context of these products.\n"
   ]
  },
  {
   "cell_type": "code",
   "execution_count": 36,
   "id": "bd43f02e",
   "metadata": {},
   "outputs": [
    {
     "data": {
      "text/html": [
       "<div>\n",
       "<style scoped>\n",
       "    .dataframe tbody tr th:only-of-type {\n",
       "        vertical-align: middle;\n",
       "    }\n",
       "\n",
       "    .dataframe tbody tr th {\n",
       "        vertical-align: top;\n",
       "    }\n",
       "\n",
       "    .dataframe thead th {\n",
       "        text-align: right;\n",
       "    }\n",
       "</style>\n",
       "<table border=\"1\" class=\"dataframe\">\n",
       "  <thead>\n",
       "    <tr style=\"text-align: right;\">\n",
       "      <th></th>\n",
       "      <th>productA</th>\n",
       "      <th>productB</th>\n",
       "    </tr>\n",
       "  </thead>\n",
       "  <tbody>\n",
       "    <tr>\n",
       "      <th>0</th>\n",
       "      <td>28.0</td>\n",
       "      <td>36</td>\n",
       "    </tr>\n",
       "    <tr>\n",
       "      <th>1</th>\n",
       "      <td>29.0</td>\n",
       "      <td>37</td>\n",
       "    </tr>\n",
       "    <tr>\n",
       "      <th>2</th>\n",
       "      <td>30.0</td>\n",
       "      <td>38</td>\n",
       "    </tr>\n",
       "    <tr>\n",
       "      <th>3</th>\n",
       "      <td>NaN</td>\n",
       "      <td>40</td>\n",
       "    </tr>\n",
       "  </tbody>\n",
       "</table>\n",
       "</div>"
      ],
      "text/plain": [
       "   productA  productB\n",
       "0      28.0        36\n",
       "1      29.0        37\n",
       "2      30.0        38\n",
       "3       NaN        40"
      ]
     },
     "execution_count": 36,
     "metadata": {},
     "output_type": "execute_result"
    }
   ],
   "source": [
    "df.mode()"
   ]
  },
  {
   "cell_type": "markdown",
   "id": "a250e241",
   "metadata": {},
   "source": [
    "### 4.Calculate the weighted mean of the sales data, assuming each month has an equal weight. Discuss any implications of using weighted mean in this context.\n"
   ]
  },
  {
   "cell_type": "code",
   "execution_count": 46,
   "id": "10c91ba5",
   "metadata": {},
   "outputs": [
    {
     "data": {
      "text/plain": [
       "28.999999999999996"
      ]
     },
     "execution_count": 46,
     "metadata": {},
     "output_type": "execute_result"
    }
   ],
   "source": [
    "A_sales = np.array([25,30,28,32,26,29,27,33,31,28,30,29])\n",
    "B_sales = np.array([40,35,38,41,37,36,39,42,38,37,40,36])\n",
    "weights = np.ones(len(A_sales))/len(A_sales)\n",
    "weighted_mean = np.average(A_sales, weights = weights)\n",
    "weighted_mean\n"
   ]
  },
  {
   "cell_type": "code",
   "execution_count": 47,
   "id": "4b3e8213",
   "metadata": {},
   "outputs": [
    {
     "data": {
      "text/plain": [
       "38.25"
      ]
     },
     "execution_count": 47,
     "metadata": {},
     "output_type": "execute_result"
    }
   ],
   "source": [
    "weights1 = np.ones(len(B_sales))/len(B_sales)\n",
    "weighted_mean1 = np.average(B_sales, weights = weights)\n",
    "weighted_mean1 # for products B"
   ]
  },
  {
   "cell_type": "markdown",
   "id": "9402b2bf",
   "metadata": {},
   "source": [
    "# Measures of Dispersion:\n",
    "### 1.Compute the range of monthly sales for both Product A and Product B. Discuss how the range provides insights into the variability of sales.\n"
   ]
  },
  {
   "cell_type": "code",
   "execution_count": 38,
   "id": "1fa4a57c",
   "metadata": {},
   "outputs": [
    {
     "name": "stdout",
     "output_type": "stream",
     "text": [
      "8\n",
      "7\n"
     ]
    }
   ],
   "source": [
    "rangeA=df['productA'].max()-df['productA'].min()\n",
    "rangeB=df['productB'].max()-df['productB'].min()\n",
    "print(rangeA)\n",
    "print(rangeB)"
   ]
  },
  {
   "cell_type": "markdown",
   "id": "c3c2e0e5",
   "metadata": {},
   "source": [
    "### 2.Calculate the variance of the sales data for both products. Discuss what the variance reveals about the spread of sales for each product.\n"
   ]
  },
  {
   "cell_type": "code",
   "execution_count": 39,
   "id": "a83ea433",
   "metadata": {},
   "outputs": [
    {
     "name": "stdout",
     "output_type": "stream",
     "text": [
      "5.636363636363637\n",
      "4.75\n"
     ]
    }
   ],
   "source": [
    "varianceA=df['productA'].var()\n",
    "varianceB=df['productB'].var()\n",
    "print(varianceA)\n",
    "print(varianceB)"
   ]
  },
  {
   "cell_type": "markdown",
   "id": "cc436a45",
   "metadata": {},
   "source": [
    "### 3.Determine the standard deviation of the sales for Product A and Product B. Discuss the significance of standard deviation in understanding the variability in sales.\n"
   ]
  },
  {
   "cell_type": "code",
   "execution_count": 40,
   "id": "8f2f4636",
   "metadata": {},
   "outputs": [
    {
     "name": "stdout",
     "output_type": "stream",
     "text": [
      "2.3741027013091993\n",
      "2.179449471770337\n"
     ]
    }
   ],
   "source": [
    "standardA=df['productA'].std()\n",
    "standardB=df['productB'].std()\n",
    "print(standardA)\n",
    "print(standardB )"
   ]
  },
  {
   "cell_type": "code",
   "execution_count": null,
   "id": "9a4d567e",
   "metadata": {},
   "outputs": [],
   "source": []
  },
  {
   "cell_type": "markdown",
   "id": "052b608c",
   "metadata": {},
   "source": [
    "# Relative Measures of Dispersion:\n",
    "### 1.Calculate the coefficient of variation for the sales data of Product A. Discuss how this relative measure of dispersion helps in comparing the variability of products with different average sales.\n"
   ]
  },
  {
   "cell_type": "code",
   "execution_count": 41,
   "id": "6bbdcde6",
   "metadata": {},
   "outputs": [
    {
     "name": "stdout",
     "output_type": "stream",
     "text": [
      "8.186561038997239\n",
      "5.697907115739443\n"
     ]
    }
   ],
   "source": [
    "meanA=df['productA'].mean()\n",
    "standardA=df['productA'].std()\n",
    "comparitionA=(standardA/meanA)*100\n",
    "\n",
    "meanB=df['productB'].mean()\n",
    "standardB=df['productB'].std()\n",
    "comparitionB=(standardB/meanB)*100\n",
    "print(comparitionA)\n",
    "print(comparitionB)"
   ]
  },
  {
   "cell_type": "markdown",
   "id": "c26560d3",
   "metadata": {},
   "source": [
    "### 2.Compute the relative range for Product B. Discuss how the relative range accounts for the scale of the sales data.\n"
   ]
  },
  {
   "cell_type": "code",
   "execution_count": 42,
   "id": "82bd125c",
   "metadata": {},
   "outputs": [
    {
     "name": "stdout",
     "output_type": "stream",
     "text": [
      "18.30065359477124\n"
     ]
    }
   ],
   "source": [
    "meanB=df['productB'].mean()\n",
    "rangeB=df['productB'].max()-df['productB'].min()\n",
    "relative_rangeB=(rangeB/meanB)*100\n",
    "print(relative_rangeB)"
   ]
  },
  {
   "cell_type": "markdown",
   "id": "98027c35",
   "metadata": {},
   "source": [
    "### 3.Determine the relative standard deviation for Product A. Interpret the result and discuss its implications for understanding the variability relative to the mean.\n",
    "\n"
   ]
  },
  {
   "cell_type": "code",
   "execution_count": 58,
   "id": "5afb0531",
   "metadata": {},
   "outputs": [
    {
     "ename": "NameError",
     "evalue": "name 'A' is not defined",
     "output_type": "error",
     "traceback": [
      "\u001b[1;31m---------------------------------------------------------------------------\u001b[0m",
      "\u001b[1;31mNameError\u001b[0m                                 Traceback (most recent call last)",
      "Cell \u001b[1;32mIn[58], line 1\u001b[0m\n\u001b[1;32m----> 1\u001b[0m mean_A \u001b[38;5;241m=\u001b[39m np\u001b[38;5;241m.\u001b[39mmean(A)\n\u001b[0;32m      2\u001b[0m mean_A \n\u001b[0;32m      4\u001b[0m std_A \u001b[38;5;241m=\u001b[39m np\u001b[38;5;241m.\u001b[39mstd(A)\n",
      "\u001b[1;31mNameError\u001b[0m: name 'A' is not defined"
     ]
    }
   ],
   "source": []
  },
  {
   "cell_type": "code",
   "execution_count": null,
   "id": "a2ece894",
   "metadata": {},
   "outputs": [],
   "source": []
  }
 ],
 "metadata": {
  "kernelspec": {
   "display_name": "Python 3 (ipykernel)",
   "language": "python",
   "name": "python3"
  },
  "language_info": {
   "codemirror_mode": {
    "name": "ipython",
    "version": 3
   },
   "file_extension": ".py",
   "mimetype": "text/x-python",
   "name": "python",
   "nbconvert_exporter": "python",
   "pygments_lexer": "ipython3",
   "version": "3.11.5"
  }
 },
 "nbformat": 4,
 "nbformat_minor": 5
}
