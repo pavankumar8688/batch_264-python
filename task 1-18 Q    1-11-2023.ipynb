{
 "cells": [
  {
   "cell_type": "markdown",
   "id": "80f113cf",
   "metadata": {},
   "source": [
    "1.Write a Python program that asks the user for their age and prints \"You are an adult\" if the age is 18 or older, otherwise prints \"You are a minor'."
   ]
  },
  {
   "cell_type": "code",
   "execution_count": 1,
   "id": "95b47178",
   "metadata": {},
   "outputs": [
    {
     "name": "stdout",
     "output_type": "stream",
     "text": [
      "enter the age17\n",
      "you are minor\n"
     ]
    }
   ],
   "source": [
    "age=int(input('enter the age'))\n",
    "if age>=18:\n",
    "    print('you are an adult')\n",
    "else:\n",
    "    print('you are minor')\n"
   ]
  },
  {
   "cell_type": "markdown",
   "id": "0e65af17",
   "metadata": {},
   "source": [
    "2.Write a program that takes a numerical grade (out of 100) as input and prints the corresponding letter grade according to the following scale:\n",
    "\n",
    "* 90-100: A\n",
    "* 80-89: B\n",
    "* 70-79: C\n",
    "* 60-69: D\n",
    "* Below 60: F"
   ]
  },
  {
   "cell_type": "code",
   "execution_count": 3,
   "id": "cfbf5e37",
   "metadata": {},
   "outputs": [
    {
     "name": "stdout",
     "output_type": "stream",
     "text": [
      "enter the marks50\n",
      "F\n"
     ]
    }
   ],
   "source": [
    "marks=int(input('enter the marks'))\n",
    "\n",
    "if marks >100:\n",
    "    print('A')\n",
    "elif marks >90:\n",
    "    print('B')\n",
    "elif marks >80:\n",
    "    print('C')\n",
    "elif marks >70:\n",
    "    print('D')\n",
    "elif marks >60:\n",
    "    print('E')\n",
    "else:\n",
    "    print('F')"
   ]
  },
  {
   "cell_type": "markdown",
   "id": "ee6276aa",
   "metadata": {},
   "source": [
    "3.Write a program that calculates the Body Mass Index (BMI) of a person. The user should input their weight in kilograms and height in meters. The program should then print whether the person is underweight, normal weight, overweight, or obese"
   ]
  },
  {
   "cell_type": "code",
   "execution_count": 4,
   "id": "52f1fb5c",
   "metadata": {},
   "outputs": [
    {
     "name": "stdout",
     "output_type": "stream",
     "text": [
      "your weight in kg18\n",
      "your height in cm6\n",
      "the weight, height, and bmi of your body are 18,6.0, are 0.5\n",
      "you are underweight\n"
     ]
    }
   ],
   "source": [
    "weight = int(input('your weight in kg'))\n",
    "height = float(input('your height in cm'))\n",
    "bmi = weight / (height ** 2)   ##-->bmi formula\n",
    "print(f'the weight, height, and bmi of your body are {weight},{height}, are {bmi}')\n",
    "\n",
    "if bmi <= 18.5: ##-->it checks directly bmi value         \n",
    "    print('you are underweight')\n",
    "elif 18.5 <= bmi < 24.9:\n",
    "    print('you are in the normal weight range')\n",
    "elif 25 <= bmi < 29.9:\n",
    "    print('you are overweight')\n",
    "else:\n",
    "    print('you are obese')\n"
   ]
  },
  {
   "cell_type": "markdown",
   "id": "5d3b4a4d",
   "metadata": {},
   "source": [
    "4.Write a program that asks the user for three numbers and prints the maximum of the three."
   ]
  },
  {
   "cell_type": "code",
   "execution_count": 6,
   "id": "7ef44aff",
   "metadata": {},
   "outputs": [
    {
     "name": "stdout",
     "output_type": "stream",
     "text": [
      "enter first number4\n",
      "enter second number5\n",
      "enter thrd number6\n",
      "thrd number highest(z)\n"
     ]
    }
   ],
   "source": [
    "x=int(input('enter first number'))\n",
    "y=int(input('enter second number'))\n",
    "z=int(input('enter thrd number'))\n",
    "if x>y and x>z:\n",
    "    print('first number highest(x)')\n",
    "elif y<x and y<z:\n",
    "    print('second number highest(y)')\n",
    "else:\n",
    "    print('thrd number highest(z)')"
   ]
  },
  {
   "cell_type": "markdown",
   "id": "3342ba74",
   "metadata": {},
   "source": [
    "5.Write a program that asks the user for a temperature (in Celsius) and prints \"It's freezing\" if the temperature is below 0, \"It's cool\" if it's between 0 and 10, \"It's warm\" if it's between 10 and 20, and \"It's hot\" if it's above 20"
   ]
  },
  {
   "cell_type": "code",
   "execution_count": 2,
   "id": "7c797ae1",
   "metadata": {},
   "outputs": [
    {
     "name": "stdout",
     "output_type": "stream",
     "text": [
      "enter room temp : -2\n",
      "its freezing\n"
     ]
    }
   ],
   "source": [
    "temp = float(input('enter room temp : '))\n",
    "\n",
    "if temp<=0:\n",
    "    print('its freezing')\n",
    "elif temp in range(0, 11):\n",
    "    print('its cool')\n",
    "elif temp in range(10, 21): ##-->it checks if and elif conditions (range) ,if the given number is not in range it will print else statement\n",
    "    print('its Warm')\n",
    "else:\n",
    "    print('its hot')\n",
    "          "
   ]
  },
  {
   "cell_type": "markdown",
   "id": "88c8c6e9",
   "metadata": {},
   "source": [
    "6.Write a program that asks the user for a number (1-7) and prints the corresponding day of the week."
   ]
  },
  {
   "cell_type": "code",
   "execution_count": 5,
   "id": "af5db32a",
   "metadata": {},
   "outputs": [
    {
     "name": "stdout",
     "output_type": "stream",
     "text": [
      "enter a number : 7\n",
      "day 7\n"
     ]
    }
   ],
   "source": [
    "x=int(input('enter a number : '))\n",
    "if x==1:   ##--> if the given number is equal to 1 then it will executes print statement   \n",
    "    print('day 1')\n",
    "elif x==2:\n",
    "    print('day 2')\n",
    "elif x==3:\n",
    "    print('day 3')\n",
    "elif x==4:\n",
    "    print('day 4')\n",
    "elif x==5:\n",
    "    print('day 5')\n",
    "elif x==6:\n",
    "    print('day 6')##-->if and elif statements will not correct then it executes else statement\n",
    "elif x==7:\n",
    "    print('day 7')\n",
    "\n",
    "else:\n",
    "    print('invalid')"
   ]
  },
  {
   "cell_type": "markdown",
   "id": "86137b85",
   "metadata": {},
   "source": [
    "7.Write a program that asks the user for a number and prints \"In range\" if the number is between 10 and 20 (inclusive), and \"Out of range\" otherwise."
   ]
  },
  {
   "cell_type": "code",
   "execution_count": 6,
   "id": "bc206a8b",
   "metadata": {},
   "outputs": [
    {
     "name": "stdout",
     "output_type": "stream",
     "text": [
      "enter a number15\n",
      "in range\n"
     ]
    }
   ],
   "source": [
    "x=int(input('enter a number'))\n",
    "if x in range(10,20):\n",
    "      print('in range')\n",
    "else:\n",
    "    print('out range')"
   ]
  },
  {
   "cell_type": "markdown",
   "id": "cead63f4",
   "metadata": {},
   "source": [
    "8.Write a program that asks the user for an integer and prints whether it's even or odd."
   ]
  },
  {
   "cell_type": "code",
   "execution_count": 9,
   "id": "dfafa6f2",
   "metadata": {},
   "outputs": [
    {
     "name": "stdout",
     "output_type": "stream",
     "text": [
      "Enter number: 5\n",
      "Odd\n"
     ]
    }
   ],
   "source": [
    "num = int(input('Enter number: '))\n",
    "\n",
    "if num%2 == 0:\n",
    "    print('Even')\n",
    "else:\n",
    "    print('Odd')"
   ]
  },
  {
   "cell_type": "markdown",
   "id": "029fcc0f",
   "metadata": {},
   "source": [
    "9 Write a Python program to add 'ing' at the end of a given string (string length should be equal to or more than 3). If the given string already ends with 'ing' then add 'ly' instead.If the string length of the given string is less than 3, leave it unchanged"
   ]
  },
  {
   "cell_type": "code",
   "execution_count": 10,
   "id": "358cc3c6",
   "metadata": {},
   "outputs": [
    {
     "name": "stdout",
     "output_type": "stream",
     "text": [
      "enter a string  hii\n",
      "hiiing\n"
     ]
    }
   ],
   "source": [
    "y=input('enter a string  ')\n",
    "\n",
    "if len(y)==2:\n",
    "    print((y))\n",
    "elif y.endswith('ing'):\n",
    "    print((y).replace('ing','ly'))\n",
    "else:\n",
    "    print((y)+('ing'))"
   ]
  },
  {
   "cell_type": "code",
   "execution_count": 12,
   "id": "8345ff63",
   "metadata": {},
   "outputs": [
    {
     "name": "stdout",
     "output_type": "stream",
     "text": [
      "enter a string  hi\n",
      "hi\n"
     ]
    }
   ],
   "source": [
    "y=input('enter a string  ')\n",
    "\n",
    "if len(y)==2:   #3-->it checks len of elements in the given input ,whether len is equal to 2 or not if yes it will executes its print statement.\n",
    "    print((y))\n",
    "elif y.endswith('ing'):  ##--> when y is endswith --> that mean if y is ended with ing it executes print statement\n",
    "    print((y).replace('ing','ly')) ##-->if input was ended with 'ing',it replaces 'ly' in the place of 'ing'\n",
    "else:\n",
    "    print((y)+('ing'))\n"
   ]
  },
  {
   "cell_type": "markdown",
   "id": "fe6bda35",
   "metadata": {},
   "source": [
    "10.Create rock-paper-scissors by using the if condition.\n"
   ]
  },
  {
   "cell_type": "code",
   "execution_count": 8,
   "id": "8d25a8e1",
   "metadata": {},
   "outputs": [
    {
     "name": "stdout",
     "output_type": "stream",
     "text": [
      "enter a's input rock or paper or scissor:r\n",
      "enter b's input rock or paper or scissor:p\n"
     ]
    }
   ],
   "source": [
    "r='rock'\n",
    "p='paper'\n",
    "s='scissor'\n",
    "x=('rock,paper,scissor')\n",
    "a=input('enter a\\'s input rock or paper or scissor:')\n",
    "b=input('enter b\\'s input rock or paper or scissor:')\n",
    "if a in x and b in x:\n",
    "    if a==r and b==p:\n",
    "        print('b win')\n",
    "    elif a==r and b==s:\n",
    "        print('a win')\n",
    "    elif a==p  and b==s:\n",
    "        print('b win')\n",
    "    elif  a==p and b==r:\n",
    "        print('a win')\n",
    "    elif a==s and b==r:\n",
    "        print('b win')\n",
    "    elif a==s  and b==p:\n",
    "        print('a win')\n",
    "    elif a==r and b==r:\n",
    "        print('both wins')\n",
    "    elif a==p and b==p:\n",
    "        print('both wins')\n",
    "    elif a==s and b==s:\n",
    "        print('both wins')\n",
    "else :\n",
    "    print('enter valide name')\n"
   ]
  },
  {
   "cell_type": "markdown",
   "id": "6c6e39b5",
   "metadata": {},
   "source": [
    "\n"
   ]
  },
  {
   "cell_type": "markdown",
   "id": "1f8cbe4f",
   "metadata": {},
   "source": [
    "11.Create a dynamic calculator which asks for numbers and operator and return the answers,\n",
    "             Example\n",
    "    Input: Type first number: 10\",\n",
    "    Type any of this (+, -, *, /, %, **): ,*\n",
    "    Assignment-2 ,\n",
    "   Type second number: 19,\n",
    "    Output:Answer is 190\n"
   ]
  },
  {
   "cell_type": "code",
   "execution_count": 6,
   "id": "00c8721d",
   "metadata": {},
   "outputs": [
    {
     "name": "stdout",
     "output_type": "stream",
     "text": [
      "enter the number10\n",
      "enter the second number20\n",
      "enter any this of operater  (+, -, *, /, %, **)*\n",
      "200.0\n"
     ]
    }
   ],
   "source": [
    "a=(int(input('enter the number')))\n",
    "b=float(input('enter the second number'))\n",
    "c=input('enter any this of operater  (+, -, *, /, %, **)')\n",
    "\n",
    "if c=='+':      #adds two numbers and prints \n",
    "    print(a+b)\n",
    "elif c=='-':\n",
    "    print(a-b)  # subtracts two numbers and prints \n",
    "elif c=='*':\n",
    "    print(a*b)  #multiplies two numbers and prints \n",
    "elif c=='/':\n",
    "    print(a/b)  # divides two numbers and prints \n",
    "elif c=='%':\n",
    "    print(a%b)  #modulus  and prints \n",
    "elif c=='**':\n",
    "    print(a**b)  #exponential and prints \n",
    "else:\n",
    "    print(invalid)"
   ]
  },
  {
   "cell_type": "markdown",
   "id": "43ba5ed7",
   "metadata": {},
   "source": [
    "12.Manoj Kumar has family and friends. Help him remind them who is who. Given a string with a name, return the relation of that person to Manoj Kumar.,\n",
    " Person Relation,\n",
    "* Shiva father,\n",
    "* Letha mother,\n",
    "* Tarun brother,\n",
    "* Kavitha sister,\n",
    "\n",
    " Strange Coder.\n"
   ]
  },
  {
   "cell_type": "code",
   "execution_count": 18,
   "id": "80201811",
   "metadata": {},
   "outputs": [
    {
     "name": "stdout",
     "output_type": "stream",
     "text": [
      "enter the name:shiva\n",
      "father\n"
     ]
    }
   ],
   "source": [
    "x=input('enter the name:')\n",
    "y=('shiva,letha,tarun,kavitha')\n",
    "if x in y:\n",
    "    if x=='shiva':      #assigning  name as Shiva  \n",
    "        print('father')\n",
    "    elif x=='letha':    #assinging name as  Letha\n",
    "        print('mather')\n",
    "    elif x=='tarun':    #assigning name as Tarun \n",
    "        print('brother')\n",
    "    elif x=='kavitha':  #assigning name as Kavitha\n",
    "        print('sister')\n",
    "    elif x=='stranger':\n",
    "        print('coder')\n",
    "    else:\n",
    "        print('valid name')"
   ]
  },
  {
   "cell_type": "markdown",
   "id": "27df52f7",
   "metadata": {},
   "source": [
    "13.Write a python program that takes in a word and determines whether or not it is plural. A plural word is one that ends with “s”\n"
   ]
  },
  {
   "cell_type": "code",
   "execution_count": 27,
   "id": "9584a03c",
   "metadata": {},
   "outputs": [
    {
     "name": "stdout",
     "output_type": "stream",
     "text": [
      "Enter a word: pavans\n",
      "plural\n"
     ]
    }
   ],
   "source": [
    "x = input(\"Enter a word: \")\n",
    "\n",
    "if x.endswith ('s'):   #checks  ifinput  ends with 's'\n",
    "    print('plural')    # if  it is true then it prints plural\n",
    "elif not x.endswith('s'):\n",
    "    print('not plural')\n",
    "else:\n",
    "    print('enter a currect word')"
   ]
  },
  {
   "cell_type": "markdown",
   "id": "076d99de",
   "metadata": {},
   "source": [
    "14.A company decided to give a bonus of 5% to employees if his/her year of service is more than 5 years.Ask user for their salary and year of service and print the net bonus amount.\n"
   ]
  },
  {
   "cell_type": "code",
   "execution_count": 15,
   "id": "3f697a59",
   "metadata": {},
   "outputs": [
    {
     "name": "stdout",
     "output_type": "stream",
     "text": [
      "Salary: 15000\n",
      "Years of service:7\n",
      "Yours salary(+Bonus) =  15750.0\n"
     ]
    }
   ],
   "source": [
    "   salary = float(input(\"Salary: \")) \n",
    "\n",
    "\n",
    "service_yrs = int(input(\"Years of service:\")) \n",
    "\n",
    "\n",
    "if service_yrs > 5: # checks service years is  more than 5 years\n",
    "    print(\"Yours salary(+Bonus) = \",salary + (salary)*5/100) # calculating bonus \n",
    "    \n",
    "else: # if statement is false it executes else \n",
    "    print(\"You are not eligible for bonus as you have less service years\")"
   ]
  },
  {
   "cell_type": "markdown",
   "id": "668d114d",
   "metadata": {},
   "source": [
    "15.Take values of length and breadth of a rectangle from the user and check if it is square or not.\n"
   ]
  },
  {
   "cell_type": "code",
   "execution_count": 35,
   "id": "e576fd2f",
   "metadata": {},
   "outputs": [
    {
     "name": "stdout",
     "output_type": "stream",
     "text": [
      "enter length: 2\n",
      "enter breadth: 3\n",
      "not square\n"
     ]
    }
   ],
   "source": [
    "a = int(input(\"enter length: \"))\n",
    "b = int(input(\"enter breadth: \"))\n",
    "\n",
    "if a == b : #squre formula is lxb, so chceking if they are equal or not.\n",
    "    print(\"square\")\n",
    "else:\n",
    "    print(\"not square\")"
   ]
  },
  {
   "cell_type": "markdown",
   "id": "6e578435",
   "metadata": {},
   "source": [
    "16.Accept any city from the user and display the momentum of the city \n",
    "* Hyderabad  : “charminar”\n",
    "* “Delhi”         : “red fort\n",
    "* “Agra           : Taj mahal\n",
    "\n",
    "  If the city name is not given correctly, give him a warning message.\n"
   ]
  },
  {
   "cell_type": "code",
   "execution_count": 2,
   "id": "69738071",
   "metadata": {},
   "outputs": [
    {
     "name": "stdout",
     "output_type": "stream",
     "text": [
      "City name: warangal\n",
      "Warning: Wrong City Name\n"
     ]
    }
   ],
   "source": [
    "x = str(input((\"City name: \"))) \n",
    "if x == \"Hyderabad\": \n",
    "    print(\"Charminar\")\n",
    "elif x == \"Delhi\":\n",
    "    print(\"Red Fort\")\n",
    "elif x== \"Agra\":\n",
    "    print(\"Taj Mahal\")\n",
    "else:        # if above mentioned cities are not available then it  print wrong city name\n",
    "    print(\"Warning: Wrong City Name\")"
   ]
  },
  {
   "cell_type": "markdown",
   "id": "5722ddc4",
   "metadata": {},
   "source": [
    "17.Write a program to check whether a person is eligible for voting or not  (voting age>=18).\n"
   ]
  },
  {
   "cell_type": "code",
   "execution_count": 4,
   "id": "069852a2",
   "metadata": {},
   "outputs": [
    {
     "name": "stdout",
     "output_type": "stream",
     "text": [
      "Age: 17\n",
      "You are not eligible to vote\n"
     ]
    }
   ],
   "source": [
    "a = int(input(\"Age: \")) \n",
    "if a>=18:# checks age is above '18'\n",
    "    print(\"You are eligible to vote\") #if it is true prints eligible to vote\n",
    "else: # if above condition is false then it executes else\n",
    "    print(\"You are not eligible to vote\") "
   ]
  },
  {
   "cell_type": "markdown",
   "id": "bd146d59",
   "metadata": {},
   "source": [
    "18.Accept three sides of the triangle and check whether the triangle is possible or not.(Triangle is possible only when the sum of any two sides is greater than 3 rd side).\n"
   ]
  },
  {
   "cell_type": "code",
   "execution_count": 6,
   "id": "c1cff779",
   "metadata": {},
   "outputs": [
    {
     "name": "stdout",
     "output_type": "stream",
     "text": [
      "Enter the first angle: 20\n",
      "Enter the second angle: 19\n",
      "Enter the third angle: 18\n",
      "No,triangle not possible\n"
     ]
    }
   ],
   "source": [
    "a = int(input(\"Enter the first angle: \"))\n",
    "b = int(input(\"Enter the second angle: \"))\n",
    "c = int(input(\"Enter the third angle: \")) # to check whether sum of angles are 180 and each angle\n",
    "if(a != 0 and b != 0 and c != 0 and (a + b + c)== 180): # not equal to 0\n",
    "  if((a + b)>= c or (a + c)>= b or (b + c)>= a):   # Checking sum of 2 angles greater than the third \n",
    "      print(\"Yes,triangle is valid\")\n",
    "else: \n",
    "      print(\"No,triangle not possible\")"
   ]
  },
  {
   "cell_type": "code",
   "execution_count": null,
   "id": "e0ab39a3",
   "metadata": {},
   "outputs": [],
   "source": []
  }
 ],
 "metadata": {
  "kernelspec": {
   "display_name": "Python 3 (ipykernel)",
   "language": "python",
   "name": "python3"
  },
  "language_info": {
   "codemirror_mode": {
    "name": "ipython",
    "version": 3
   },
   "file_extension": ".py",
   "mimetype": "text/x-python",
   "name": "python",
   "nbconvert_exporter": "python",
   "pygments_lexer": "ipython3",
   "version": "3.11.5"
  }
 },
 "nbformat": 4,
 "nbformat_minor": 5
}
