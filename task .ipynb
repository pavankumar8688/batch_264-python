{
 "cells": [
  {
   "cell_type": "markdown",
   "id": "7e80fcc5",
   "metadata": {},
   "source": [
    "# STRING FUNCTIONS\n",
    "find():\n",
    "\n",
    "find() method is used to find the index of a substring in a string.\n",
    "It returns the index of the first occurrence of the substring, or -1 if the substring is not found in the string."
   ]
  },
  {
   "cell_type": "code",
   "execution_count": 7,
   "id": "2e191f59",
   "metadata": {},
   "outputs": [
    {
     "data": {
      "text/plain": [
       "\"Data science involves data collection, analysis, and interpretation to make informed decisions. It plays a critical role in today's data-driven world, helping businesses optimize operations and predict trends. Its applications are diverse, impacting fields such as finance, healthcare, and technology.\""
      ]
     },
     "execution_count": 7,
     "metadata": {},
     "output_type": "execute_result"
    }
   ],
   "source": [
    "# a=\"Data science involves data collection, analysis, and interpretation to make informed decisions. It plays a critical role in today's data-driven world, helping businesses optimize operations and predict trends. Its applications are diverse, impacting fields such as finance, healthcare, and technology.\"\n",
    "a"
   ]
  },
  {
   "cell_type": "code",
   "execution_count": 48,
   "id": "da72f739",
   "metadata": {},
   "outputs": [
    {
     "data": {
      "text/plain": [
       "71"
      ]
     },
     "execution_count": 48,
     "metadata": {},
     "output_type": "execute_result"
    }
   ],
   "source": [
    "a.find('m')"
   ]
  },
  {
   "cell_type": "code",
   "execution_count": 49,
   "id": "289a58ac",
   "metadata": {},
   "outputs": [
    {
     "data": {
      "text/plain": [
       "151"
      ]
     },
     "execution_count": 49,
     "metadata": {},
     "output_type": "execute_result"
    }
   ],
   "source": [
    "a.find('h')"
   ]
  },
  {
   "cell_type": "markdown",
   "id": "84a2ca0e",
   "metadata": {},
   "source": [
    "string.find(substring, start, end)"
   ]
  },
  {
   "cell_type": "code",
   "execution_count": 51,
   "id": "aaf764fa",
   "metadata": {},
   "outputs": [
    {
     "data": {
      "text/plain": [
       "58"
      ]
     },
     "execution_count": 51,
     "metadata": {},
     "output_type": "execute_result"
    }
   ],
   "source": [
    "a.find('p',20) ##find() start from index 20 onwards"
   ]
  },
  {
   "cell_type": "code",
   "execution_count": 52,
   "id": "faabc5a2",
   "metadata": {},
   "outputs": [
    {
     "data": {
      "text/plain": [
       "23"
      ]
     },
     "execution_count": 52,
     "metadata": {},
     "output_type": "execute_result"
    }
   ],
   "source": [
    "a.find('a',10,30)  "
   ]
  },
  {
   "cell_type": "code",
   "execution_count": 53,
   "id": "2f2ab288",
   "metadata": {},
   "outputs": [
    {
     "data": {
      "text/plain": [
       "15"
      ]
     },
     "execution_count": 53,
     "metadata": {},
     "output_type": "execute_result"
    }
   ],
   "source": [
    "a.find('v',10,20)"
   ]
  },
  {
   "cell_type": "markdown",
   "id": "04b59055",
   "metadata": {},
   "source": [
    "# rfind():\n",
    "*rfind()used to find the highest (rightmost) index at which a specified substring is found within a string.\n",
    "\n",
    "*If the substring is not found, it returns -1"
   ]
  },
  {
   "cell_type": "code",
   "execution_count": 54,
   "id": "ae676187",
   "metadata": {},
   "outputs": [
    {
     "data": {
      "text/plain": [
       "'bro i dont care.'"
      ]
     },
     "execution_count": 54,
     "metadata": {},
     "output_type": "execute_result"
    }
   ],
   "source": [
    "x=\"bro i dont care.\"\n",
    "x"
   ]
  },
  {
   "cell_type": "code",
   "execution_count": 55,
   "id": "58d189dd",
   "metadata": {},
   "outputs": [
    {
     "data": {
      "text/plain": [
       "12"
      ]
     },
     "execution_count": 55,
     "metadata": {},
     "output_type": "execute_result"
    }
   ],
   "source": [
    "x.rfind('a')"
   ]
  },
  {
   "cell_type": "markdown",
   "id": "c1e05212",
   "metadata": {},
   "source": [
    "string.rfind(substring, start, end)"
   ]
  },
  {
   "cell_type": "code",
   "execution_count": 56,
   "id": "83267daa",
   "metadata": {},
   "outputs": [
    {
     "data": {
      "text/plain": [
       "8"
      ]
     },
     "execution_count": 56,
     "metadata": {},
     "output_type": "execute_result"
    }
   ],
   "source": [
    "x.rfind('n',2)"
   ]
  },
  {
   "cell_type": "code",
   "execution_count": 57,
   "id": "812f2605",
   "metadata": {},
   "outputs": [
    {
     "data": {
      "text/plain": [
       "-1"
      ]
     },
     "execution_count": 57,
     "metadata": {},
     "output_type": "execute_result"
    }
   ],
   "source": [
    "x.rfind(\"k\",6,11)"
   ]
  },
  {
   "cell_type": "code",
   "execution_count": 58,
   "id": "f2818201",
   "metadata": {},
   "outputs": [
    {
     "data": {
      "text/plain": [
       "-1"
      ]
     },
     "execution_count": 58,
     "metadata": {},
     "output_type": "execute_result"
    }
   ],
   "source": [
    "x.rfind(\"u\",8,15)"
   ]
  },
  {
   "cell_type": "markdown",
   "id": "bc59bca8",
   "metadata": {},
   "source": [
    "# count():\n",
    "The count() functions return the numbers of times a specified values appears in the string"
   ]
  },
  {
   "cell_type": "code",
   "execution_count": 63,
   "id": "7218834d",
   "metadata": {},
   "outputs": [
    {
     "data": {
      "text/plain": [
       "4"
      ]
     },
     "execution_count": 63,
     "metadata": {},
     "output_type": "execute_result"
    }
   ],
   "source": [
    "s=\"MISSISSIPPI\"\n",
    "s.count(\"I\")"
   ]
  },
  {
   "cell_type": "code",
   "execution_count": 75,
   "id": "a85ac87a",
   "metadata": {},
   "outputs": [
    {
     "data": {
      "text/plain": [
       "2"
      ]
     },
     "execution_count": 75,
     "metadata": {},
     "output_type": "execute_result"
    }
   ],
   "source": [
    "s.count(\"p\")"
   ]
  },
  {
   "cell_type": "code",
   "execution_count": 76,
   "id": "97d77fdc",
   "metadata": {},
   "outputs": [
    {
     "data": {
      "text/plain": [
       "1"
      ]
     },
     "execution_count": 76,
     "metadata": {},
     "output_type": "execute_result"
    }
   ],
   "source": [
    "s.count('s',6,10)"
   ]
  },
  {
   "cell_type": "code",
   "execution_count": 78,
   "id": "fed2bd18",
   "metadata": {},
   "outputs": [
    {
     "data": {
      "text/plain": [
       "2"
      ]
     },
     "execution_count": 78,
     "metadata": {},
     "output_type": "execute_result"
    }
   ],
   "source": [
    "l=[7,8,9,5,2,4,2,1,3]\n",
    "l.count(2)"
   ]
  },
  {
   "cell_type": "markdown",
   "id": "c66b20e4",
   "metadata": {},
   "source": [
    "# index():\n",
    "*This function obtains index of the specified value\n",
    "\n",
    "*If the specified values doesnot exist the we get value Error\n",
    "\n",
    "*It is similar to the find() method, but with one key difference: if the element or substring is not found, index() raises a ValueError"
   ]
  },
  {
   "cell_type": "code",
   "execution_count": 66,
   "id": "860e2afa",
   "metadata": {},
   "outputs": [
    {
     "data": {
      "text/plain": [
       "2"
      ]
     },
     "execution_count": 66,
     "metadata": {},
     "output_type": "execute_result"
    }
   ],
   "source": [
    "s=\"python\"\n",
    "s.index(\"t\")"
   ]
  },
  {
   "cell_type": "code",
   "execution_count": 67,
   "id": "6964ce9c",
   "metadata": {},
   "outputs": [
    {
     "data": {
      "text/plain": [
       "3"
      ]
     },
     "execution_count": 67,
     "metadata": {},
     "output_type": "execute_result"
    }
   ],
   "source": [
    "s.index(\"h\")"
   ]
  },
  {
   "cell_type": "code",
   "execution_count": 25,
   "id": "138fa09c",
   "metadata": {},
   "outputs": [
    {
     "data": {
      "text/plain": [
       "5"
      ]
     },
     "execution_count": 25,
     "metadata": {},
     "output_type": "execute_result"
    }
   ],
   "source": [
    "s.index(\"n\")"
   ]
  },
  {
   "cell_type": "markdown",
   "id": "81ebb501",
   "metadata": {},
   "source": [
    "# rindex():\n",
    "*This Function obtains index of last occurrence of the specified element or substring.\n",
    "\n",
    "*If the specified values doesnot exist then we get value error\n",
    "\n",
    "string.rindex(substring, start, end)"
   ]
  },
  {
   "cell_type": "code",
   "execution_count": 79,
   "id": "0b2edeb5",
   "metadata": {},
   "outputs": [
    {
     "data": {
      "text/plain": [
       "'programmig of language'"
      ]
     },
     "execution_count": 79,
     "metadata": {},
     "output_type": "execute_result"
    }
   ],
   "source": [
    "v=\"programmig of language\"\n",
    "v\n"
   ]
  },
  {
   "cell_type": "code",
   "execution_count": 29,
   "id": "6d87ea6b",
   "metadata": {},
   "outputs": [
    {
     "data": {
      "text/plain": [
       "24"
      ]
     },
     "execution_count": 29,
     "metadata": {},
     "output_type": "execute_result"
    }
   ],
   "source": [
    "v.rindex(\"a\",10,25)"
   ]
  },
  {
   "cell_type": "markdown",
   "id": "cd35d8b8",
   "metadata": {},
   "source": [
    "# replace():\n",
    "*The replace() method replaces a specified phrase with another specified phrase.\n",
    "\n",
    "*If the substring not exist then it give entire string"
   ]
  },
  {
   "cell_type": "code",
   "execution_count": 30,
   "id": "8426f51d",
   "metadata": {},
   "outputs": [
    {
     "data": {
      "text/plain": [
       "'python programming language'"
      ]
     },
     "execution_count": 30,
     "metadata": {},
     "output_type": "execute_result"
    }
   ],
   "source": [
    "v=\"python programming language\"\n",
    "v"
   ]
  },
  {
   "cell_type": "markdown",
   "id": "274b2464",
   "metadata": {},
   "source": [
    "new_string = original_string.replace(old_substring, new_substring, count)"
   ]
  },
  {
   "cell_type": "code",
   "execution_count": 32,
   "id": "9eb5131c",
   "metadata": {},
   "outputs": [
    {
     "data": {
      "text/plain": [
       "'Python Programming language'"
      ]
     },
     "execution_count": 32,
     "metadata": {},
     "output_type": "execute_result"
    }
   ],
   "source": [
    "b=v.replace('p','P')\n",
    "b"
   ]
  },
  {
   "cell_type": "code",
   "execution_count": 33,
   "id": "355c641d",
   "metadata": {},
   "outputs": [
    {
     "data": {
      "text/plain": [
       "'mississippi'"
      ]
     },
     "execution_count": 33,
     "metadata": {},
     "output_type": "execute_result"
    }
   ],
   "source": [
    "t=\"mississippi\"\n",
    "t"
   ]
  },
  {
   "cell_type": "code",
   "execution_count": 34,
   "id": "e8ae1d95",
   "metadata": {},
   "outputs": [
    {
     "data": {
      "text/plain": [
       "'miSSissippi'"
      ]
     },
     "execution_count": 34,
     "metadata": {},
     "output_type": "execute_result"
    }
   ],
   "source": [
    "t.replace('s','S',2)"
   ]
  },
  {
   "cell_type": "code",
   "execution_count": 35,
   "id": "dc200996",
   "metadata": {
    "scrolled": false
   },
   "outputs": [
    {
     "data": {
      "text/plain": [
       "'mississippi'"
      ]
     },
     "execution_count": 35,
     "metadata": {},
     "output_type": "execute_result"
    }
   ],
   "source": [
    "t.replace(\"z\",\"Z\")"
   ]
  },
  {
   "cell_type": "markdown",
   "id": "607f37a2",
   "metadata": {},
   "source": [
    "# split():\n",
    "This Function is used for splitting the give string data into different words base specified delimter(- , _ ,#,%,^,;,...etc)\n",
    "\n",
    "The default delimeter is space\n",
    "\n",
    "The function return splitting data in to form of list object\n"
   ]
  },
  {
   "cell_type": "code",
   "execution_count": 80,
   "id": "dea28321",
   "metadata": {},
   "outputs": [
    {
     "data": {
      "text/plain": [
       "'pavan bhanu naveen karthik'"
      ]
     },
     "execution_count": 80,
     "metadata": {},
     "output_type": "execute_result"
    }
   ],
   "source": [
    "s=\"pavan bhanu naveen karthik\"\n",
    "s"
   ]
  },
  {
   "cell_type": "code",
   "execution_count": 81,
   "id": "b7c76291",
   "metadata": {},
   "outputs": [
    {
     "data": {
      "text/plain": [
       "['pavan', 'bhanu', 'naveen', 'karthik']"
      ]
     },
     "execution_count": 81,
     "metadata": {},
     "output_type": "execute_result"
    }
   ],
   "source": [
    "s.split()"
   ]
  },
  {
   "cell_type": "code",
   "execution_count": 82,
   "id": "9caac670",
   "metadata": {},
   "outputs": [
    {
     "data": {
      "text/plain": [
       "['11', '22', '33']"
      ]
     },
     "execution_count": 82,
     "metadata": {},
     "output_type": "execute_result"
    }
   ],
   "source": [
    "s=\"11-22-33\"\n",
    "s.split('-')"
   ]
  },
  {
   "cell_type": "code",
   "execution_count": 83,
   "id": "20da4367",
   "metadata": {},
   "outputs": [
    {
     "data": {
      "text/plain": [
       "'CAT%ELEPHANT%TIGER'"
      ]
     },
     "execution_count": 83,
     "metadata": {},
     "output_type": "execute_result"
    }
   ],
   "source": [
    "c=\"CAT%ELEPHANT%TIGER\"\n",
    "c"
   ]
  },
  {
   "cell_type": "code",
   "execution_count": 44,
   "id": "9ac5e632",
   "metadata": {},
   "outputs": [
    {
     "data": {
      "text/plain": [
       "['CAT', 'ELEPHANT', 'TIGER']"
      ]
     },
     "execution_count": 44,
     "metadata": {},
     "output_type": "execute_result"
    }
   ],
   "source": [
    "c.split('%')"
   ]
  },
  {
   "cell_type": "code",
   "execution_count": 45,
   "id": "b8ebf805",
   "metadata": {},
   "outputs": [
    {
     "data": {
      "text/plain": [
       "'This Function is used for splitting the give string data into different words base specified delimter'"
      ]
     },
     "execution_count": 45,
     "metadata": {},
     "output_type": "execute_result"
    }
   ],
   "source": [
    "s=\"This Function is used for splitting the give string data into different words base specified delimter\"\n",
    "s"
   ]
  },
  {
   "cell_type": "code",
   "execution_count": 85,
   "id": "94f6a9fb",
   "metadata": {},
   "outputs": [
    {
     "data": {
      "text/plain": [
       "['11-22-33']"
      ]
     },
     "execution_count": 85,
     "metadata": {},
     "output_type": "execute_result"
    }
   ],
   "source": [
    "s.split(maxsplit=2)"
   ]
  },
  {
   "cell_type": "code",
   "execution_count": 88,
   "id": "44f2985f",
   "metadata": {},
   "outputs": [
    {
     "data": {
      "text/plain": [
       "['11-22-33']"
      ]
     },
     "execution_count": 88,
     "metadata": {},
     "output_type": "execute_result"
    }
   ],
   "source": [
    "s.split(maxsplit=5)"
   ]
  },
  {
   "cell_type": "markdown",
   "id": "6dc10f45",
   "metadata": {},
   "source": [
    "# rsplit():\n",
    "*This Function is used for splitting the give string data into different words base specified delimter\n",
    "\n",
    "*The only difference between the split() and rsplit() is when the maxsplit parameter is specified. If the maxsplit parameter is specified, then the rsplit() method starts splitting a string from the right side (from the last character), whereas the split() method starts splitting from the left side (from the first character)."
   ]
  },
  {
   "cell_type": "code",
   "execution_count": 89,
   "id": "822143b9",
   "metadata": {},
   "outputs": [
    {
     "data": {
      "text/plain": [
       "'python is an oop language'"
      ]
     },
     "execution_count": 89,
     "metadata": {},
     "output_type": "execute_result"
    }
   ],
   "source": [
    "s=\"python is an oop language\"\n",
    "s"
   ]
  },
  {
   "cell_type": "code",
   "execution_count": 90,
   "id": "847b3816",
   "metadata": {},
   "outputs": [
    {
     "data": {
      "text/plain": [
       "['python', 'is', 'an', 'oop', 'language']"
      ]
     },
     "execution_count": 90,
     "metadata": {},
     "output_type": "execute_result"
    }
   ],
   "source": [
    "s.rsplit()"
   ]
  },
  {
   "cell_type": "code",
   "execution_count": 91,
   "id": "1e7d0424",
   "metadata": {},
   "outputs": [
    {
     "data": {
      "text/plain": [
       "['python is an', 'oop', 'language']"
      ]
     },
     "execution_count": 91,
     "metadata": {},
     "output_type": "execute_result"
    }
   ],
   "source": [
    "s.rsplit(maxsplit=2)"
   ]
  },
  {
   "cell_type": "markdown",
   "id": "37ba65ee",
   "metadata": {},
   "source": [
    "# partition():\n",
    "*This function splits the string at the first occurrence of the specified separator argument and returns a tuple containing the part before the separator,\n",
    "\n",
    "*If the specified separator is not found, then the partition() function returns the string itself as a first element and two empty string elements."
   ]
  },
  {
   "cell_type": "code",
   "execution_count": 94,
   "id": "e1464817",
   "metadata": {},
   "outputs": [
    {
     "data": {
      "text/plain": [
       "'what are you doing?'"
      ]
     },
     "execution_count": 94,
     "metadata": {},
     "output_type": "execute_result"
    }
   ],
   "source": [
    "a=\"what are you doing?\"\n",
    "a"
   ]
  },
  {
   "cell_type": "code",
   "execution_count": 95,
   "id": "7d3385ba",
   "metadata": {},
   "outputs": [
    {
     "data": {
      "text/plain": [
       "('what ', 'are', ' you doing?')"
      ]
     },
     "execution_count": 95,
     "metadata": {},
     "output_type": "execute_result"
    }
   ],
   "source": [
    "a.partition('are')"
   ]
  },
  {
   "cell_type": "code",
   "execution_count": 96,
   "id": "192c8716",
   "metadata": {},
   "outputs": [
    {
     "data": {
      "text/plain": [
       "('what are ', 'you', ' doing?')"
      ]
     },
     "execution_count": 96,
     "metadata": {},
     "output_type": "execute_result"
    }
   ],
   "source": [
    "a.partition('you')"
   ]
  },
  {
   "cell_type": "code",
   "execution_count": 97,
   "id": "5cff2227",
   "metadata": {},
   "outputs": [
    {
     "data": {
      "text/plain": [
       "('what are you doing?', '', '')"
      ]
     },
     "execution_count": 97,
     "metadata": {},
     "output_type": "execute_result"
    }
   ],
   "source": [
    "a.partition('m')"
   ]
  },
  {
   "cell_type": "markdown",
   "id": "528a6f5b",
   "metadata": {},
   "source": [
    "# rpartition():\n",
    "*this function searches for the last occurrence of a specified string, and splits the string into a tuple containing three elements."
   ]
  },
  {
   "cell_type": "code",
   "execution_count": 98,
   "id": "183e2a7b",
   "metadata": {},
   "outputs": [
    {
     "data": {
      "text/plain": [
       "'How are you?'"
      ]
     },
     "execution_count": 98,
     "metadata": {},
     "output_type": "execute_result"
    }
   ],
   "source": [
    "b=\"How are you?\"\n",
    "b"
   ]
  },
  {
   "cell_type": "code",
   "execution_count": 99,
   "id": "11f41ec9",
   "metadata": {},
   "outputs": [
    {
     "data": {
      "text/plain": [
       "('How are you?', '', '')"
      ]
     },
     "execution_count": 99,
     "metadata": {},
     "output_type": "execute_result"
    }
   ],
   "source": [
    "b.partition(\"how\")"
   ]
  },
  {
   "cell_type": "code",
   "execution_count": 100,
   "id": "dcbcd4a7",
   "metadata": {},
   "outputs": [
    {
     "data": {
      "text/plain": [
       "('', '', 'How are you?')"
      ]
     },
     "execution_count": 100,
     "metadata": {},
     "output_type": "execute_result"
    }
   ],
   "source": [
    "b.rpartition('p')"
   ]
  },
  {
   "cell_type": "markdown",
   "id": "39dbab4f",
   "metadata": {},
   "source": [
    "# splitlines():\n",
    "*The splitlines() method splits the string at line breaks and returns a list.."
   ]
  },
  {
   "cell_type": "code",
   "execution_count": 101,
   "id": "c777c606",
   "metadata": {},
   "outputs": [
    {
     "data": {
      "text/plain": [
       "'The serene beach at sunset painted a breathtaking scene with its golden hues reflecting on the calm, azure waters. The gentle, rhythmic sound of waves provided a soothing melody to the evening. As the sun dipped below the horizon, it marked the end of another perfect day by the sea'"
      ]
     },
     "execution_count": 101,
     "metadata": {},
     "output_type": "execute_result"
    }
   ],
   "source": [
    "d=\"The serene beach at sunset painted a breathtaking scene with its golden hues reflecting on the calm, azure waters. The gentle, rhythmic sound of waves provided a soothing melody to the evening. As the sun dipped below the horizon, it marked the end of another perfect day by the sea\"\n",
    "d"
   ]
  },
  {
   "cell_type": "code",
   "execution_count": 102,
   "id": "85865c23",
   "metadata": {},
   "outputs": [
    {
     "data": {
      "text/plain": [
       "['The serene beach at sunset painted a breathtaking scene with its golden hues reflecting on the calm, azure waters. The gentle, rhythmic sound of waves provided a soothing melody to the evening. As the sun dipped below the horizon, it marked the end of another perfect day by the sea']"
      ]
     },
     "execution_count": 102,
     "metadata": {},
     "output_type": "execute_result"
    }
   ],
   "source": [
    "d.splitlines()"
   ]
  },
  {
   "cell_type": "code",
   "execution_count": null,
   "id": "68a9df05",
   "metadata": {},
   "outputs": [],
   "source": []
  }
 ],
 "metadata": {
  "kernelspec": {
   "display_name": "Python 3 (ipykernel)",
   "language": "python",
   "name": "python3"
  },
  "language_info": {
   "codemirror_mode": {
    "name": "ipython",
    "version": 3
   },
   "file_extension": ".py",
   "mimetype": "text/x-python",
   "name": "python",
   "nbconvert_exporter": "python",
   "pygments_lexer": "ipython3",
   "version": "3.11.5"
  }
 },
 "nbformat": 4,
 "nbformat_minor": 5
}
