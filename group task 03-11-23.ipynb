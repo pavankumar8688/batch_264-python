{
 "cells": [
  {
   "cell_type": "markdown",
   "id": "84b160cb",
   "metadata": {},
   "source": [
    "# 18E. Create a function that returns the mean of all digits."
   ]
  },
  {
   "cell_type": "markdown",
   "id": "e626bc7c",
   "metadata": {},
   "source": [
    "# while loop"
   ]
  },
  {
   "cell_type": "code",
   "execution_count": 3,
   "id": "6c00ca52",
   "metadata": {},
   "outputs": [
    {
     "name": "stdout",
     "output_type": "stream",
     "text": [
      "2\n"
     ]
    }
   ],
   "source": [
    "li=[1,2,3,4]\n",
    "x=0\n",
    "sum=0\n",
    "while x<len(li):\n",
    "    sum=sum+li[x]\n",
    "    x+=1\n",
    "print(sum//len(li))"
   ]
  },
  {
   "cell_type": "markdown",
   "id": "b92e3166",
   "metadata": {},
   "source": [
    "# for loop"
   ]
  },
  {
   "cell_type": "code",
   "execution_count": 1,
   "id": "56222c49",
   "metadata": {},
   "outputs": [
    {
     "name": "stdout",
     "output_type": "stream",
     "text": [
      "2\n"
     ]
    }
   ],
   "source": [
    "l=[1,2,3,4]\n",
    "sum=0\n",
    "for x in l:\n",
    "    sum=sum+x\n",
    "print(sum//len(li))"
   ]
  },
  {
   "cell_type": "markdown",
   "id": "ad7993e7",
   "metadata": {},
   "source": [
    "## 19E.Create a function that takes in two lists: the list of user-typed words, and the list of correctly-typed words and outputs a list containing 1s (correctly-typed words) and -1s (incorrectly-typed words)."
   ]
  },
  {
   "cell_type": "markdown",
   "id": "f99e746f",
   "metadata": {},
   "source": [
    "# while loop"
   ]
  },
  {
   "cell_type": "code",
   "execution_count": 4,
   "id": "025ec2a9",
   "metadata": {},
   "outputs": [
    {
     "name": "stdout",
     "output_type": "stream",
     "text": [
      "[1, 1, -1, -1, 1]\n"
     ]
    }
   ],
   "source": [
    "l1 = [\"cat\", \"blue\", \"skt\", \"umbrells\", \"paddy\"]\n",
    "l2 = [\"cat\", \"blue\", \"sky\", \"umbrella\", \"paddy\"]\n",
    "z = []\n",
    "x = 0\n",
    "while x < len(l1):\n",
    "    if l1[x]==l2[x]:\n",
    "        z.append(1)\n",
    "    else:\n",
    "        z.append(-1)\n",
    "    x+=1\n",
    "print(z)"
   ]
  },
  {
   "cell_type": "markdown",
   "id": "88b77c0e",
   "metadata": {},
   "source": [
    "# for loop"
   ]
  },
  {
   "cell_type": "code",
   "execution_count": 5,
   "id": "4314dfcf",
   "metadata": {},
   "outputs": [
    {
     "name": "stdout",
     "output_type": "stream",
     "text": [
      "[1, 1, -1, -1, 1]\n"
     ]
    }
   ],
   "source": [
    "\n",
    "l1 = [\"cat\", \"blue\", \"skt\", \"umbrells\", \"paddy\"]\n",
    "l2 = [\"cat\", \"blue\", \"sky\", \"umbrella\", \"paddy\"]\n",
    "z = []\n",
    "x = 0\n",
    "for x in range(0,5):\n",
    "    if l1[x]==l2[x]:\n",
    "        z.append(1)\n",
    "    else:\n",
    "        z.append(-1)\n",
    "    x+=1\n",
    "print(z)"
   ]
  },
  {
   "cell_type": "code",
   "execution_count": null,
   "id": "bf3b961e",
   "metadata": {},
   "outputs": [],
   "source": []
  },
  {
   "cell_type": "markdown",
   "id": "6e67935b",
   "metadata": {},
   "source": [
    "## 20E. Create a function which returns a list of booleans, from a given number. Iterating through the number one digit at a time, append True if the digit is 1 and False if it is 0."
   ]
  },
  {
   "cell_type": "markdown",
   "id": "1dddfe03",
   "metadata": {},
   "source": [
    "# while loop"
   ]
  },
  {
   "cell_type": "code",
   "execution_count": 9,
   "id": "c07ae5e7",
   "metadata": {},
   "outputs": [
    {
     "name": "stdout",
     "output_type": "stream",
     "text": [
      "Enter a number: 10011\n",
      "[True, False, False, True, True]\n"
     ]
    }
   ],
   "source": [
    "input_number = input('Enter a number: ')\n",
    "boolean_list = []\n",
    "index = 0\n",
    "\n",
    "while index < len(input_number):\n",
    "    if input_number[index] == '1':\n",
    "        boolean_list.append(True)\n",
    "    elif input_number[index] == '0':\n",
    "        boolean_list.append(False)\n",
    "    index += 1\n",
    "\n",
    "print(boolean_list)\n"
   ]
  },
  {
   "cell_type": "markdown",
   "id": "86f57ac7",
   "metadata": {},
   "source": [
    "# for loop"
   ]
  },
  {
   "cell_type": "code",
   "execution_count": 2,
   "id": "c8a1cff3",
   "metadata": {},
   "outputs": [
    {
     "name": "stdout",
     "output_type": "stream",
     "text": [
      "Enter a number: 10020\n",
      "invalid number\n",
      "[True, False, False, False]\n"
     ]
    }
   ],
   "source": [
    "input_number = input('Enter a number: ')\n",
    "boolean_list = []\n",
    "\n",
    "for digit in input_number:\n",
    "    if digit == '1':\n",
    "        boolean_list.append(True)\n",
    "    elif digit == '0':\n",
    "        boolean_list.append(False)\n",
    "        \n",
    "    else:\n",
    "        print(\"invalid number\")\n",
    "\n",
    "print(boolean_list)\n"
   ]
  },
  {
   "cell_type": "code",
   "execution_count": null,
   "id": "38612655",
   "metadata": {},
   "outputs": [],
   "source": []
  },
  {
   "cell_type": "markdown",
   "id": "0072e2f6",
   "metadata": {},
   "source": [
    "## 21E. Create a function that returns True if the first list is a subset of the second. Return False otherwise."
   ]
  },
  {
   "cell_type": "markdown",
   "id": "1ae9b969",
   "metadata": {},
   "source": [
    "# while loop"
   ]
  },
  {
   "cell_type": "code",
   "execution_count": 8,
   "id": "9acb67d0",
   "metadata": {},
   "outputs": [
    {
     "name": "stdout",
     "output_type": "stream",
     "text": [
      "Enter number of values you want to enter in aset : 4\n",
      "Enter elements : 2\n",
      "Enter elements : 1\n",
      "Enter elements : 3\n",
      "Enter elements : 1\n",
      "{1, 2, 3}\n",
      "Enter number of values you want to enter in aset : 3\n",
      "Enter elements : 5\n",
      "Enter elements : 2\n",
      "Enter elements : 1\n",
      "{1, 2, 5}\n",
      "False\n"
     ]
    }
   ],
   "source": [
    "num1 = int(input(\"Enter number of values you want to enter in aset : \"))\n",
    "aset=set()\n",
    "bset=set()\n",
    "i=0\n",
    "while (i<num1):\n",
    "    element1=int(input(\"Enter elements : \"))\n",
    "    aset.add(element1)\n",
    "    i+=1\n",
    "print(aset)\n",
    "num2 = int(input(\"Enter number of values you want to enter in aset : \"))\n",
    "j=0\n",
    "while (j<num2):\n",
    "    element2=int(input(\"Enter elements : \"))\n",
    "    bset.add(element2)\n",
    "    j+=1\n",
    "print(bset)\n",
    "if bset.issubset(aset):\n",
    "    print(\"True\")\n",
    "else:\n",
    "    print(\"False\")"
   ]
  },
  {
   "cell_type": "markdown",
   "id": "edbec494",
   "metadata": {},
   "source": [
    "# for loop"
   ]
  },
  {
   "cell_type": "code",
   "execution_count": 11,
   "id": "431c1acf",
   "metadata": {},
   "outputs": [
    {
     "name": "stdout",
     "output_type": "stream",
     "text": [
      "Enter number of values you want to enter in aset : 5\n",
      "Enter elements : 5\n",
      "Enter elements : 4\n",
      "Enter elements : 6\n",
      "Enter elements : 3\n",
      "Enter elements : 2\n",
      "Enter number of values you want to enter in bset : 3\n",
      "Enter elements : 6\n",
      "Enter elements : 5\n",
      "Enter elements : 4\n",
      "True\n",
      "[2, 3, 4, 5, 6]\n",
      "[4, 5, 6]\n"
     ]
    }
   ],
   "source": [
    "num1 = int(input(\"Enter number of values you want to enter in aset : \"))\n",
    "aset=set()\n",
    "bset=set()\n",
    "for i in range(num1):\n",
    "    element1=int(input(\"Enter elements : \"))\n",
    "    aset.add(element1)\n",
    "num2 = int(input(\"Enter number of values you want to enter in bset : \"))\n",
    "for j in range(num2):\n",
    "    element2=int(input(\"Enter elements : \"))\n",
    "    bset.add(element2)\n",
    "if bset.issubset(aset):\n",
    "    print(\"True\")\n",
    "else:\n",
    "    print(\"False\")\n",
    "print(list(aset))\n",
    "print(list(bset))"
   ]
  },
  {
   "cell_type": "code",
   "execution_count": null,
   "id": "1748cf73",
   "metadata": {},
   "outputs": [],
   "source": []
  },
  {
   "cell_type": "markdown",
   "id": "c012c8ba",
   "metadata": {},
   "source": [
    " ## 22E. create a function that outputs the maximum possible score a player can achieve by summing up the total number of points for all the tiles in their hand. Each hand contains 7 scrabble tiles."
   ]
  },
  {
   "cell_type": "markdown",
   "id": "3232af12",
   "metadata": {},
   "source": [
    "# while loop"
   ]
  },
  {
   "cell_type": "code",
   "execution_count": 18,
   "id": "22b19026",
   "metadata": {},
   "outputs": [
    {
     "name": "stdout",
     "output_type": "stream",
     "text": [
      "Enter a tile (or 'done' to finish): h\n",
      "Enter the score for tile h: 4\n",
      "Enter a tile (or 'done' to finish): u\n",
      "Enter the score for tile u: 7\n",
      "Enter a tile (or 'done' to finish): exit\n",
      "11\n"
     ]
    }
   ],
   "source": [
    "tile_hand = []\n",
    "while True:\n",
    "    tile = input(\"Enter a tile (or 'exit' to finish): \")\n",
    "    \n",
    "    if tile == 'exit':\n",
    "        break                   \n",
    "    \n",
    "    score = int(input(f\"Enter the score for tile {tile}: \"))\n",
    "    tile_hand.append({'tile': tile, 'score': score})\n",
    "\n",
    "max_score = 0\n",
    "index = 0\n",
    "\n",
    "while index < len(tile_hand):\n",
    "    max_score += tile_hand[index]['score']\n",
    "    index += 1\n",
    "\n",
    "print(max_score)\n"
   ]
  },
  {
   "cell_type": "markdown",
   "id": "dea3e468",
   "metadata": {},
   "source": [
    "# for loop"
   ]
  },
  {
   "cell_type": "code",
   "execution_count": 19,
   "id": "d1980283",
   "metadata": {},
   "outputs": [
    {
     "name": "stdout",
     "output_type": "stream",
     "text": [
      "Enter a tile: h\n",
      "Enter the score for tile h: 2\n",
      "Enter a tile: y\n",
      "Enter the score for tile y: 4\n",
      "Enter a tile: r\n",
      "Enter the score for tile r: 1\n",
      "The maximum score of the tiles is: 7\n"
     ]
    }
   ],
   "source": [
    "tile_hand = []\n",
    "limit = 3          \n",
    "\n",
    "for _ in range(limit):          \n",
    "    tile = input(\"Enter a tile: \") \n",
    "    score = int(input(f\"Enter the score for tile {tile}: \")) \n",
    "    tile_hand.append({'tile': tile, 'score': score}) \n",
    "\n",
    "max_score = 0      maximum score and set it to 0.\n",
    "\n",
    "for tile in tile_hand:  \n",
    "    max_score += tile['score']     \n",
    "\n",
    "print(f\"The maximum score of the tiles is: {max_score}\")\n"
   ]
  },
  {
   "cell_type": "code",
   "execution_count": null,
   "id": "f90680d7",
   "metadata": {},
   "outputs": [],
   "source": []
  },
  {
   "cell_type": "markdown",
   "id": "da55903a",
   "metadata": {},
   "source": [
    "## 23E.Create a function that takes an integer and returns a list from 1 to the given number, where:\n",
    "\n",
    "# If the number can be divided evenly by 4, amplify it by 10 (i.e. return 10 times the number).\n",
    "# If the number cannot be divided evenly by 4, simply return the number."
   ]
  },
  {
   "cell_type": "markdown",
   "id": "de7f3b53",
   "metadata": {},
   "source": [
    "# while loop"
   ]
  },
  {
   "cell_type": "code",
   "execution_count": 14,
   "id": "378d9cad",
   "metadata": {},
   "outputs": [
    {
     "name": "stdout",
     "output_type": "stream",
     "text": [
      "[1, 2, 3, 40, 5, 6, 7, 80, 9]\n"
     ]
    }
   ],
   "source": [
    "n=10\n",
    "x=[]\n",
    "i=1\n",
    "while i<n:\n",
    "    if i%4==0:\n",
    "        x.append(i*10)\n",
    "    else:\n",
    "        x.append(i)\n",
    "    i+=1\n",
    "print(x)"
   ]
  },
  {
   "cell_type": "markdown",
   "id": "dd44fa47",
   "metadata": {},
   "source": [
    "# for loop"
   ]
  },
  {
   "cell_type": "code",
   "execution_count": 13,
   "id": "93f24a06",
   "metadata": {
    "scrolled": true
   },
   "outputs": [
    {
     "name": "stdout",
     "output_type": "stream",
     "text": [
      "[1, 2, 3, 40, 5, 6, 7, 80, 9, 10]\n"
     ]
    }
   ],
   "source": [
    "n=10\n",
    "x=[]\n",
    "for i in range(1,n+1):\n",
    "    if i%4==0:\n",
    "        x.append(i*10)\n",
    "    else:\n",
    "        x.append(i)\n",
    "print(x)\n"
   ]
  },
  {
   "cell_type": "markdown",
   "id": "0e606111",
   "metadata": {},
   "source": [
    "## 24E.Return the smallest number of steps it takes to convert a string entirely into uppercase or entirely into lower case, whichever takes the fewest number of steps. A step consists of changing one character from lower to upper case, or vice versa."
   ]
  },
  {
   "cell_type": "markdown",
   "id": "179d99b1",
   "metadata": {},
   "source": [
    "# for loop "
   ]
  },
  {
   "cell_type": "code",
   "execution_count": 85,
   "id": "32afafcf",
   "metadata": {},
   "outputs": [
    {
     "name": "stdout",
     "output_type": "stream",
     "text": [
      "Enter a string: Alex\n",
      "Minimum steps to convert: 1\n",
      "Converted string: alex\n"
     ]
    }
   ],
   "source": [
    "input_string = input(\"Enter a string: \")\n",
    "\n",
    "countU = 0\n",
    "countL = 0\n",
    "\n",
    "for t in input_string:\n",
    "    if t.isupper():\n",
    "        countU += 1\n",
    "    if t.islower():\n",
    "        countL += 1\n",
    "\n",
    "if countL > countU:\n",
    "    steps = countU\n",
    "    converted_string = input_string.lower()\n",
    "else:\n",
    "    steps = countL\n",
    "    converted_string = input_string.upper()\n",
    "\n",
    "print(\"Minimum steps to convert:\", steps)\n",
    "print(\"Converted string:\", converted_string)\n"
   ]
  },
  {
   "cell_type": "markdown",
   "id": "1dc8aaf8",
   "metadata": {},
   "source": [
    "## while loop"
   ]
  },
  {
   "cell_type": "code",
   "execution_count": 34,
   "id": "7cef843f",
   "metadata": {},
   "outputs": [
    {
     "name": "stdout",
     "output_type": "stream",
     "text": [
      "Enter a string (or type 'quit' to exit): Hotel\n",
      "Minimum steps to convert: 1\n",
      "Converted string: hotel\n",
      "Enter a string (or type 'quit' to exit): FOOTBAll\n",
      "Minimum steps to convert: 2\n",
      "Converted string: FOOTBALL\n",
      "Enter a string (or type 'quit' to exit): quit\n"
     ]
    }
   ],
   "source": [
    "while True:\n",
    "    input_string = input(\"Enter a string (or type 'quit' to exit): \")\n",
    "\n",
    "    if input_string.lower() == 'quit':\n",
    "        break\n",
    "\n",
    "    countU = 0\n",
    "    countL = 0\n",
    "\n",
    "    for t in input_string:\n",
    "        if t.isupper():\n",
    "            countU += 1\n",
    "        if t.islower():\n",
    "            countL += 1\n",
    "\n",
    "    if countL > countU:\n",
    "        steps = countU\n",
    "        converted_string = input_string.lower()\n",
    "    else:\n",
    "        steps = countL\n",
    "        converted_string = input_string.upper()\n",
    "\n",
    "    print(\"Minimum steps to convert:\", steps)\n",
    "    print(\"Converted string:\", converted_string)"
   ]
  },
  {
   "cell_type": "markdown",
   "id": "1f96fda1",
   "metadata": {},
   "source": [
    "## 25E. Create a function that compares two words based on the sum of their ASCII codes and returns the word with the smaller ASCII sum."
   ]
  },
  {
   "cell_type": "markdown",
   "id": "3ea5c542",
   "metadata": {},
   "source": [
    "# while loop"
   ]
  },
  {
   "cell_type": "code",
   "execution_count": 20,
   "id": "bdb58a10",
   "metadata": {},
   "outputs": [
    {
     "name": "stdout",
     "output_type": "stream",
     "text": [
      "Enter the first word: hotel\n",
      "Enter the second word: football\n",
      "hotel has a smaller ASCII sum than football.\n"
     ]
    }
   ],
   "source": [
    "word1 = input(\"Enter the first word: \")\n",
    "word2 = input(\"Enter the second word: \")\n",
    "\n",
    "\n",
    "ascii_sum_word1 = 0   \n",
    "i = 0\n",
    "while i < len(word1):\n",
    "    ascii_sum_word1 += ord(word1[i])\n",
    "    i += 1\n",
    "\n",
    "\n",
    "ascii_sum_word2 = 0      \n",
    "i = 0\n",
    "while i < len(word2):\n",
    "    ascii_sum_word2 += ord(word2\n",
    "if ascii_sum_word1 < ascii_sum_word2:\n",
    "    print(f\"{word1} has a smaller ASCII sum than {word2}.\")\n",
    "elif ascii_sum_word1 > ascii_sum_word2:\n",
    "    print(f\"{word2} has a smaller ASCII sum than {word1}.\")\n",
    "else:\n",
    "    print(\"Both words have the same ASCII sum.\")\n",
    "\n"
   ]
  },
  {
   "cell_type": "markdown",
   "id": "51c63cc3",
   "metadata": {},
   "source": [
    "# for loop"
   ]
  },
  {
   "cell_type": "code",
   "execution_count": 1,
   "id": "8bdc26fe",
   "metadata": {},
   "outputs": [
    {
     "ename": "SyntaxError",
     "evalue": "invalid syntax (3927547917.py, line 10)",
     "output_type": "error",
     "traceback": [
      "\u001b[1;36m  Cell \u001b[1;32mIn[1], line 10\u001b[1;36m\u001b[0m\n\u001b[1;33m    ascii_sum y += ord(char)\u001b[0m\n\u001b[1;37m              ^\u001b[0m\n\u001b[1;31mSyntaxError\u001b[0m\u001b[1;31m:\u001b[0m invalid syntax\n"
     ]
    }
   ],
   "source": [
    "x = input(\"Enter the first word: \")\n",
    "y = input(\"Enter the second word: \")\n",
    "\n",
    "ascii_sum_x = 0\n",
    "for chr in x:\n",
    "    ascii_sum_x += ord(char)\n",
    "\n",
    "ascii_sum_y = 0\n",
    "for char in y:\n",
    "    ascii_sum y += ord(char)\n",
    "\n",
    "if ascii_sum_x < ascii_sum_y:\n",
    "    print(f\"{x} has a smaller ASCII sum than {y}.\")\n",
    "elif ascii_sum_x > ascii_sum_y:\n",
    "    print(f\"{y} has a smaller ASCII sum than {x}.\")\n",
    "else:\n",
    "    print(\"Both words have the same ASCII sum.\")\n"
   ]
  },
  {
   "cell_type": "markdown",
   "id": "25f68e99",
   "metadata": {},
   "source": [
    "## 26E. Imagine a messaging device with only one button. For the letter A, you press the button one time, for E, you press it five times, for G, it's pressed seven times, etc, etc.\n",
    "\n",
    "# Write a function that takes a string (the message) and returns the total number of times the button is pressed."
   ]
  },
  {
   "cell_type": "markdown",
   "id": "244cbf7a",
   "metadata": {},
   "source": [
    "# while loop"
   ]
  },
  {
   "cell_type": "code",
   "execution_count": 5,
   "id": "0278469d",
   "metadata": {},
   "outputs": [
    {
     "name": "stdout",
     "output_type": "stream",
     "text": [
      "Enter the message: acddey\n",
      "Total button presses: 42\n"
     ]
    }
   ],
   "source": [
    "                                                       \n",
    "message = input(\"Enter the message: \")\n",
    "\n",
    "letters = 'abcdefghijklmnopqrstuvwxyz'           \n",
    "\n",
    "total = 0                          \n",
    "\n",
    "i = 0                 \n",
    "\n",
    "while i < len(message):            \n",
    "    char = message[i]     \n",
    "    index = letters.find(char)\n",
    "    if index >= 0:\n",
    "        total += index + 1\n",
    "    i += 1\n",
    "\n",
    "\n",
    "print(f\"Total button presses: {total}\")         \n"
   ]
  },
  {
   "cell_type": "markdown",
   "id": "1b6b40b3",
   "metadata": {},
   "source": [
    "# for loop"
   ]
  },
  {
   "cell_type": "code",
   "execution_count": 6,
   "id": "efdac8c4",
   "metadata": {},
   "outputs": [
    {
     "name": "stdout",
     "output_type": "stream",
     "text": [
      "Enter the message: hottel\n",
      "Total button presses: 80\n"
     ]
    }
   ],
   "source": [
    "message = input(\"Enter the message: \")\n",
    "\n",
    "letters = 'abcdefghijklmnopqrstuvwxyz'      \n",
    "\n",
    "total = 0            \n",
    "\n",
    "\n",
    "for char in message:                   \n",
    "    index = letters.find(char)\n",
    "    if index >= 0:\n",
    "        total += index + 1\n",
    "\n",
    "\n",
    "print(f\"Total button presses: {total}\")       \n"
   ]
  },
  {
   "cell_type": "markdown",
   "id": "5df40a97",
   "metadata": {},
   "source": [
    "## 27E.Your job is to help me create a function that takes a string and checks to see if it contains the following words or phrases:\n",
    "# If it does, return \"NO!\". Otherwise, return \"Safe watching!\"."
   ]
  },
  {
   "cell_type": "markdown",
   "id": "4ff91ccd",
   "metadata": {},
   "source": [
    "# while loop"
   ]
  },
  {
   "cell_type": "code",
   "execution_count": 12,
   "id": "0ee467d6",
   "metadata": {},
   "outputs": [
    {
     "name": "stdout",
     "output_type": "stream",
     "text": [
      "Enter the text: free pubg online\n",
      "NO!\n"
     ]
    }
   ],
   "source": [
    "\n",
    "txt = input(\"Enter the text: \")\n",
    "\n",
    "\n",
    "lst = ['facebook', 'meme', 'instagram', 'twitter', 'pubg'] \n",
    "\n",
    "\n",
    "txt = txt.lower() \n",
    "\n",
    "distraction_found = False\n",
    "\n",
    "\n",
    "i = 0        \n",
    "\n",
    "\n",
    "while i < len(lst):\n",
    "    word = lst[i]        \n",
    "    if word in txt:\n",
    "        print(\"NO!\")\n",
    "        distraction_found = True\n",
    "        break\n",
    "    i += 1\n",
    "\n",
    "\n",
    "if not distraction_found:\n",
    "    print(\"Safe watching!\")\n"
   ]
  },
  {
   "cell_type": "markdown",
   "id": "6e50d08e",
   "metadata": {},
   "source": [
    "# for loop"
   ]
  },
  {
   "cell_type": "code",
   "execution_count": 38,
   "id": "84854279",
   "metadata": {},
   "outputs": [
    {
     "name": "stdout",
     "output_type": "stream",
     "text": [
      "Enter the text: free gta GAMES\n",
      "NO!\n"
     ]
    }
   ],
   "source": [
    "txt = input(\"Enter the text: \")\n",
    "\n",
    "lst = ['facebook', 'instagram', 'tiktok', 'blood', 'games'] \n",
    "\n",
    "txt = txt.lower()\n",
    "\n",
    "\n",
    "for word in lst:\n",
    "    if word in txt:    \n",
    "        print(\"NO!\")\n",
    "        break\n",
    "else:\n",
    "    print(\"Safe watching!\")\n"
   ]
  },
  {
   "cell_type": "code",
   "execution_count": null,
   "id": "8e443d30",
   "metadata": {},
   "outputs": [],
   "source": []
  },
  {
   "cell_type": "markdown",
   "id": "597c879b",
   "metadata": {},
   "source": [
    "## 28E.You are given a list of dates in the format Dec 11 and a month in the format Dec as arguments. Each date represents a video that was uploaded on that day. Return the number of uploads for a given month."
   ]
  },
  {
   "cell_type": "markdown",
   "id": "88483afb",
   "metadata": {},
   "source": [
    "# while loop"
   ]
  },
  {
   "cell_type": "code",
   "execution_count": 21,
   "id": "29f94be4",
   "metadata": {},
   "outputs": [
    {
     "name": "stdout",
     "output_type": "stream",
     "text": [
      "Enter a list of dates separated by spaces: 10 sept\n",
      "Enter the month to count (e.g., '01' for January): 10\n",
      "1\n"
     ]
    }
   ],
   "source": [
    "dates_input = input(\"Enter a list of dates separated by spaces: \")\n",
    "dates = dates_input.split()\n",
    "month = input(\"Enter the month to count (e.g., '01' for January): \") \n",
    "count = 0           \n",
    "i = 0           \n",
    "while i < len(dates):      \n",
    "    date = dates[i]\n",
    "    if date.endswith(month):\n",
    "        count += 1\n",
    "    i += 1\n",
    "print(count)\n"
   ]
  },
  {
   "cell_type": "markdown",
   "id": "183ff291",
   "metadata": {},
   "source": [
    "# for loop"
   ]
  },
  {
   "cell_type": "code",
   "execution_count": 23,
   "id": "4a564e7c",
   "metadata": {},
   "outputs": [
    {
     "name": "stdout",
     "output_type": "stream",
     "text": [
      "Enter a list of dates separated by spaces: 10 sept\n",
      "Enter the month to count (e.g., '01' for January): 9\n",
      "0\n"
     ]
    }
   ],
   "source": [
    "dates_input = input(\"Enter a list of dates separated by spaces: \")\n",
    "dates = dates_input.split()\n",
    "month = input(\"Enter the month to count (e.g., '01' for January): \")     \n",
    "count = 0                                                 \n",
    "for date in dates:\n",
    "    if date.endswith(month):                             \n",
    "        count += 1\n",
    "print(count)\n"
   ]
  },
  {
   "cell_type": "markdown",
   "id": "7de7e70c",
   "metadata": {},
   "source": [
    "## 29E.Create a function that returns the sum of all even elements in a 2D matrix."
   ]
  },
  {
   "cell_type": "markdown",
   "id": "f5e647a4",
   "metadata": {},
   "source": [
    "# while loop"
   ]
  },
  {
   "cell_type": "code",
   "execution_count": 27,
   "id": "8ef25b23",
   "metadata": {},
   "outputs": [
    {
     "name": "stdout",
     "output_type": "stream",
     "text": [
      "Enter the number of rows: 3\n",
      "Enter the number of columns: 3\n",
      "Enter the element at row 1, column 1: 1\n",
      "Enter the element at row 1, column 2: 0\n",
      "Enter the element at row 1, column 3: 2\n",
      "Enter the element at row 2, column 1: 5\n",
      "Enter the element at row 2, column 2: 5\n",
      "Enter the element at row 2, column 3: 7\n",
      "Enter the element at row 3, column 1: 9\n",
      "Enter the element at row 3, column 2: 4\n",
      "Enter the element at row 3, column 3: 3\n",
      "The sum of even elements in the matrix is: 6\n"
     ]
    }
   ],
   "source": [
    "rows = int(input(\"Enter the number of rows: \"))   \n",
    "cols = int(input(\"Enter the number of columns: \"))\n",
    "\n",
    "matrix = []          \n",
    "row = 0\n",
    "\n",
    "while row < rows:  \n",
    "    col = 0\n",
    "    matrix_row = []\n",
    "    while col < cols:\n",
    "        element = int(input(f\"Enter the element at row {row + 1}, column {col + 1}: \"))\n",
    "        matrix_row.append(element)\n",
    "        col += 1\n",
    "    matrix.append(matrix_row)\n",
    "    row += 1\n",
    "\n",
    "even_sum = 0  \n",
    "\n",
    "row = 0\n",
    "while row < rows:  \n",
    "    col = 0\n",
    "    while col < cols:\n",
    "        if matrix[row][col] % 2 == 0:\n",
    "            even_sum += matrix[row][col]\n",
    "        col += 1\n",
    "    row += 1\n",
    "\n",
    "\n",
    "print(f\"The sum of even elements in the matrix is: {even_sum}\")\n"
   ]
  },
  {
   "cell_type": "markdown",
   "id": "709d2969",
   "metadata": {},
   "source": [
    "# for loop"
   ]
  },
  {
   "cell_type": "code",
   "execution_count": 26,
   "id": "4369167d",
   "metadata": {},
   "outputs": [
    {
     "name": "stdout",
     "output_type": "stream",
     "text": [
      "Enter the number of rows: 2\n",
      "Enter the number of columns: 2\n",
      "Enter the element at row 1, column 1: 2\n",
      "Enter the element at row 1, column 2: 4\n",
      "Enter the element at row 2, column 1: 1\n",
      "Enter the element at row 2, column 2: 2\n",
      "The sum of even elements in the matrix is: 8\n"
     ]
    }
   ],
   "source": [
    "\n",
    "rows = int(input(\"Enter the number of rows: \"))\n",
    "cols = int(input(\"Enter the number of columns: \"))\n",
    "matrix = []\n",
    "for row in range(rows): \n",
    "    matrix_row = []\n",
    "    for col in range(cols):\n",
    "        element = int(input(f\"Enter the element at row {row + 1}, column {col + 1}: \"))\n",
    "        matrix_row.append(element)\n",
    "    matrix.append(matrix_row)\n",
    "even_sum = 0  \n",
    "for row in range(rows): \n",
    "    for col in range(cols):\n",
    "        if matrix[row][col] % 2 == 0:\n",
    "            even_sum += matrix[row][col]\n",
    "print(f\"The sum of even elements in the matrix is: {even_sum}\")\n"
   ]
  },
  {
   "cell_type": "markdown",
   "id": "08569b5a",
   "metadata": {},
   "source": [
    "## 30E. A factor chain is a list where each previous element is a factor of the next consecutive element. The following is a factor chain:"
   ]
  },
  {
   "cell_type": "markdown",
   "id": "bd1ee1ee",
   "metadata": {},
   "source": [
    "# while loop"
   ]
  },
  {
   "cell_type": "code",
   "execution_count": 29,
   "id": "6ac0b5a3",
   "metadata": {},
   "outputs": [
    {
     "name": "stdout",
     "output_type": "stream",
     "text": [
      "Enter a list of numbers separated by spaces: 2 4 6 7 12\n",
      "False\n"
     ]
    }
   ],
   "source": [
    "\n",
    "numbers = input(\"Enter a list of numbers separated by spaces: \").split()\n",
    "numbers = [int(num) for num in numbers]\n",
    "is_factor_chain = True  \n",
    "i = 1 \n",
    "while i < len(numbers):\n",
    "    if numbers[i] % numbers[i - 1] != 0:   \n",
    "        is_factor_chain = False\n",
    "        break\n",
    "    i += 1\n",
    "if is_factor_chain:\n",
    "    print(\"True\")  \n",
    "else:\n",
    "    print(\"False\")\n"
   ]
  },
  {
   "cell_type": "markdown",
   "id": "b880665e",
   "metadata": {},
   "source": [
    "# for loop"
   ]
  },
  {
   "cell_type": "code",
   "execution_count": 33,
   "id": "dd3303f2",
   "metadata": {},
   "outputs": [
    {
     "name": "stdout",
     "output_type": "stream",
     "text": [
      "Enter a list of numbers separated by spaces: 1 2 4 8 16 32\n",
      "True\n"
     ]
    }
   ],
   "source": [
    "\n",
    "numbers = input(\"Enter a list of numbers separated by spaces: \").split()\n",
    "numbers = [int(num) for num in numbers] \n",
    "is_factor_chain = True \n",
    "for i in range(1, len(numbers)):\n",
    "    if numbers[i] % numbers[i - 1] != 0:\n",
    "        is_factor_chain = False\n",
    "        break\n",
    "if is_factor_chain:\n",
    "    print(\"True\")\n",
    "else:\n",
    "    print(\"False\")\n"
   ]
  },
  {
   "cell_type": "markdown",
   "id": "8820f75c",
   "metadata": {},
   "source": [
    "## 31ECreate a function, that will for a given a, b, c, do the following:\n",
    "\n",
    "## Add a to itself b times.\n",
    "## Check if the result is divisible by c."
   ]
  },
  {
   "cell_type": "markdown",
   "id": "cb78d062",
   "metadata": {},
   "source": [
    "# while loop"
   ]
  },
  {
   "cell_type": "code",
   "execution_count": 36,
   "id": "3c70762d",
   "metadata": {},
   "outputs": [
    {
     "name": "stdout",
     "output_type": "stream",
     "text": [
      "Enter a value for 'a': 5\n",
      "Enter a value for 'b': 2\n",
      "Enter a value for 'c': 1\n",
      "Is 20 + (20 * 2) divisible by 1 True\n"
     ]
    }
   ],
   "source": [
    "a = int(input(\"Enter a value for 'a': \"))\n",
    "b = int(input(\"Enter a value for 'b': \"))\n",
    "c = int(input(\"Enter a value for 'c': \"))\n",
    "\n",
    "i = 0\n",
    "while i < b:\n",
    "    a += a\n",
    "    i += 1\n",
    "is_divisible = a % c == 0  \n",
    "print(f\"Is {a} + ({a} * {b}) divisible by {c} {is_divisible}\")\n"
   ]
  },
  {
   "cell_type": "markdown",
   "id": "37256b75",
   "metadata": {},
   "source": [
    "# for loop"
   ]
  },
  {
   "cell_type": "code",
   "execution_count": null,
   "id": "a94e032f",
   "metadata": {},
   "outputs": [],
   "source": [
    "a = int(input(\"Enter a value for 'a': \"))\n",
    "b = int(input(\"Enter a value for 'b': \"))\n",
    "c = int(input(\"Enter a value for 'c': \"))\n",
    "\n",
    "for i in range(b):   \n",
    "    a += a\n",
    "\n",
    "is_divisible = a % c == 0   \n",
    "print(f\"Is {a} + ({a} * {b}) divisible by {c} {  is_divisible  }\") "
   ]
  },
  {
   "cell_type": "markdown",
   "id": "e2fe4d9f",
   "metadata": {},
   "source": [
    "## 32)  Write a function that takes three arguments (x, y, z) and returns a list containing x sublists (e.g. [[], [], []]), each containing y number of item z.\n",
    "\n",
    "# x Number of sublists contained within the main list.\n",
    "# y Number of items contained within each sublist.\n",
    "# z Item contained within each sublist."
   ]
  },
  {
   "cell_type": "markdown",
   "id": "69470da8",
   "metadata": {},
   "source": [
    "# while loop"
   ]
  },
  {
   "cell_type": "code",
   "execution_count": 5,
   "id": "35acde3c",
   "metadata": {},
   "outputs": [
    {
     "name": "stdout",
     "output_type": "stream",
     "text": [
      "Enter the number of sublists: 3\n",
      "Enter the number of items in each sublist: 2\n",
      "Enter the item value: 0\n",
      "[[0, 0], [0, 0], [0, 0]]\n"
     ]
    }
   ],
   "source": [
    "x = int(input(\"Enter the number of sublists: \"))\n",
    "y = int(input(\"Enter the number of items in each sublist: \"))\n",
    "z = int(input(\"Enter the item value: \"))\n",
    "\n",
    "matrix = []    \n",
    "row = 0          \n",
    "while row < x: \n",
    "    column = 0    \n",
    "    row_data = []\n",
    "    while column < y:   \n",
    "        row_data.append(z)  \n",
    "        column += 1         \n",
    "    matrix.append(row_data)\n",
    "    row += 1   \n",
    "\n",
    "print(matrix)\n"
   ]
  },
  {
   "cell_type": "markdown",
   "id": "bd527d4a",
   "metadata": {},
   "source": [
    "# for loop"
   ]
  },
  {
   "cell_type": "code",
   "execution_count": 9,
   "id": "d246d9e8",
   "metadata": {},
   "outputs": [
    {
     "name": "stdout",
     "output_type": "stream",
     "text": [
      "Enter the number of sublists: 3\n",
      "Enter the number of items in each sublist: 2\n",
      "Enter the item value: 6\n",
      "[[6, 6], [6, 6], [6, 6]]\n"
     ]
    }
   ],
   "source": [
    "x = int(input(\"Enter the number of sublists: \"))\n",
    "y = int(input(\"Enter the number of items in each sublist: \"))\n",
    "z = int(input(\"Enter the item value: \"))\n",
    "\n",
    "matrix = []\n",
    "for _ in range(x): \n",
    "    row_data = [z] * y\n",
    "    matrix.append(row_data)\n",
    "print(matrix)"
   ]
  },
  {
   "cell_type": "markdown",
   "id": "99f0b94f",
   "metadata": {},
   "source": [
    "## 33) The insurance guy calls again and apologizes. They found another policy made by your spouse, but this one is limited to cover a particular maximum in losses (for example, 50,000€). You send a bill to your spouse for the difference you lost.\n",
    "\n",
    "## Given a dict of the stolen items and a limit, return the difference between the total value of those items and the limit of the policy."
   ]
  },
  {
   "cell_type": "markdown",
   "id": "02e08463",
   "metadata": {},
   "source": [
    "# while loop"
   ]
  },
  {
   "cell_type": "code",
   "execution_count": 11,
   "id": "36b95fcb",
   "metadata": {},
   "outputs": [
    {
     "name": "stdout",
     "output_type": "stream",
     "text": [
      "Enter a key (or 'done' to finish): baseball bat\n",
      "Enter the value for baseball bat: 20\n",
      "Enter a key (or 'done' to finish): done\n",
      "Enter the limit: 5\n",
      "The difference between the sum of values and the limit is: 15\n"
     ]
    }
   ],
   "source": [
    "obj = {}\n",
    "\n",
    "while True:\n",
    "    key = input(\"Enter a key (or 'done' to finish): \")\n",
    "    \n",
    "    if key == 'done': \n",
    "        break  \n",
    "    value = int(input(f\"Enter the value for {key}: \"))\n",
    "    obj[key] = value\n",
    "limit = int(input(\"Enter the limit: \")) \n",
    "total = sum(obj.values()) \n",
    "difference = total - limit\n",
    "print(f\"The difference between the sum of values and the limit is: {difference}\")\n"
   ]
  },
  {
   "cell_type": "markdown",
   "id": "17c86b34",
   "metadata": {},
   "source": [
    "# for loop"
   ]
  },
  {
   "cell_type": "code",
   "execution_count": 12,
   "id": "bb51cedf",
   "metadata": {},
   "outputs": [
    {
     "name": "stdout",
     "output_type": "stream",
     "text": [
      "Enter a key (or 'done' to finish): skate\n",
      "Enter the value for skate: 10\n",
      "Enter a key (or 'done' to finish): painting\n",
      "Enter the value for painting: 20\n",
      "Enter a key (or 'done' to finish): done\n",
      "Enter the limit: 19\n",
      "The difference between the sum of values and the limit is: 11\n"
     ]
    }
   ],
   "source": [
    "obj = {}\n",
    "\n",
    "for i in range(0,20):   \n",
    "    key = input(\"Enter a key (or 'done' to finish): \")\n",
    "\n",
    "    if key == 'done':\n",
    "        break        \n",
    "    value = int(input(f\"Enter the value for {key}: \"))\n",
    "    obj[key] = value\n",
    "\n",
    "limit = int(input(\"Enter the limit: \"))\n",
    "total = sum(obj.values())\n",
    "difference = total - limit\n",
    "\n",
    "print(f\"The difference between the sum of values and the limit is: {difference}\")\n",
    "\n"
   ]
  },
  {
   "cell_type": "markdown",
   "id": "39fd1025",
   "metadata": {},
   "source": [
    "## 34) Create a function that takes a list of integers, sums the even and odd numbers separately, then returns the difference between the sums of the even and odd numbers."
   ]
  },
  {
   "cell_type": "markdown",
   "id": "455c15dd",
   "metadata": {},
   "source": [
    "# while loop"
   ]
  },
  {
   "cell_type": "code",
   "execution_count": 13,
   "id": "2587c7b6",
   "metadata": {},
   "outputs": [
    {
     "name": "stdout",
     "output_type": "stream",
     "text": [
      "Enter a list of numbers separated by spaces: 5 9 45 6 2 7 34 8 6 90 5 243\n",
      "168\n"
     ]
    }
   ],
   "source": [
    "input_numbers = input(\"Enter a list of numbers separated by spaces: \") \n",
    "lst = [int(num) for num in input_numbers.split()]\n",
    "even_sum = 0\n",
    "odd_sum = 0  \n",
    "index = 0 \n",
    "while index < len(lst):  \n",
    "    if lst[index] % 2 == 0:\n",
    "        even_sum += lst[index] \n",
    "    else:\n",
    "        odd_sum += lst[index] \n",
    "    index += 1\n",
    "result = abs(even_sum - odd_sum)\n",
    "print(result)\n"
   ]
  },
  {
   "cell_type": "markdown",
   "id": "f105be91",
   "metadata": {},
   "source": [
    "# for loop"
   ]
  },
  {
   "cell_type": "code",
   "execution_count": 16,
   "id": "ea3ef6d2",
   "metadata": {},
   "outputs": [
    {
     "name": "stdout",
     "output_type": "stream",
     "text": [
      "Enter a list of numbers separated by spaces: 2 8 7 5\n",
      "2\n"
     ]
    }
   ],
   "source": [
    "input_numbers = input(\"Enter a list of numbers separated by spaces: \")\n",
    "lst = [int(num) for num in input_numbers.split()]\n",
    "even_sum = 0\n",
    "odd_sum = 0\n",
    "\n",
    "for num in lst:  \n",
    "    if num % 2 == 0:\n",
    "        even_sum += num  \n",
    "    else:\n",
    "        odd_sum += num \n",
    "result = abs(even_sum - odd_sum) \n",
    "print(result)\n"
   ]
  },
  {
   "cell_type": "markdown",
   "id": "3e6a0af9",
   "metadata": {},
   "source": [
    "# mediam"
   ]
  },
  {
   "cell_type": "markdown",
   "id": "74770f70",
   "metadata": {},
   "source": [
    "# 9M.Create a function that takes an integer and outputs an n x n square solely consisting of the integer n."
   ]
  },
  {
   "cell_type": "markdown",
   "id": "d9318fc4",
   "metadata": {},
   "source": [
    "# for loop"
   ]
  },
  {
   "cell_type": "code",
   "execution_count": 2,
   "id": "7f0086ce",
   "metadata": {},
   "outputs": [
    {
     "name": "stdout",
     "output_type": "stream",
     "text": [
      "Enter the side length of the square: 5\n",
      "* * * * * \n",
      "* * * * * \n",
      "* * * * * \n",
      "* * * * * \n",
      "* * * * * \n"
     ]
    }
   ],
   "source": [
    "side_length = int(input(\"Enter the side length of the square: \"))\n",
    "for i in range(side_length):\n",
    "    for j in range(side_length):\n",
    "        print(\"*\", end=\" \") \n",
    "    print() \n"
   ]
  },
  {
   "cell_type": "markdown",
   "id": "32a37c88",
   "metadata": {},
   "source": [
    "# while loop"
   ]
  },
  {
   "cell_type": "code",
   "execution_count": 3,
   "id": "494e918d",
   "metadata": {},
   "outputs": [
    {
     "name": "stdout",
     "output_type": "stream",
     "text": [
      "Enter the side length of the square: 5\n",
      "* * * * * \n",
      "* * * * * \n",
      "* * * * * \n",
      "* * * * * \n",
      "* * * * * \n"
     ]
    }
   ],
   "source": [
    "side_length = int(input(\"Enter the side length of the square: \"))\n",
    "\n",
    "row = 0\n",
    "while row < side_length:\n",
    "    col = 0\n",
    "    while col < side_length:\n",
    "        print(\"*\", end=\" \") \n",
    "        col += 1\n",
    "    print()\n",
    "    row += 1"
   ]
  },
  {
   "cell_type": "markdown",
   "id": "2281ff23",
   "metadata": {},
   "source": [
    "# 10M.This is a reverse coding challenge. Normally you're given explicit directions with how to create a function. Here, you must generate your own function to satisfy the relationship between the inputs and outputs.\n",
    "\n",
    "Your task is to create a function that, when fed the inputs below, produces the sample outputs shown."
   ]
  },
  {
   "cell_type": "markdown",
   "id": "1954c6c1",
   "metadata": {},
   "source": [
    "# for loop"
   ]
  },
  {
   "cell_type": "code",
   "execution_count": 5,
   "id": "079592d5",
   "metadata": {},
   "outputs": [
    {
     "name": "stdout",
     "output_type": "stream",
     "text": [
      "Enter a positive integer: 5\n",
      "12345\n",
      "12345\n",
      "12345\n",
      "12345\n",
      "12345\n"
     ]
    }
   ],
   "source": [
    "n = int(input(\"Enter a positive integer: \"))\n",
    "\n",
    "# Loop to generate the pattern\n",
    "for i in range(1, n + 1):\n",
    "    for j in range(1, n + 1):\n",
    "        print(j, end=\"\")\n",
    "    print()"
   ]
  },
  {
   "cell_type": "markdown",
   "id": "175df203",
   "metadata": {},
   "source": [
    "# while loop"
   ]
  },
  {
   "cell_type": "code",
   "execution_count": 6,
   "id": "66cdff14",
   "metadata": {},
   "outputs": [
    {
     "name": "stdout",
     "output_type": "stream",
     "text": [
      "Enter a positive integer: 5\n",
      "12345\n",
      "12345\n",
      "12345\n",
      "12345\n",
      "12345\n"
     ]
    }
   ],
   "source": [
    "n = int(input(\"Enter a positive integer: \"))\n",
    "row = 1\n",
    "\n",
    "# Loop to generate the pattern\n",
    "while row <= n:\n",
    "    col = 1\n",
    "    while col <= n:\n",
    "        print(col, end=\"\")\n",
    "        col += 1\n",
    "    print()\n",
    "    row += 1"
   ]
  },
  {
   "cell_type": "markdown",
   "id": "565a2dbc",
   "metadata": {},
   "source": [
    "# 11M.Given two strings comprised of + and -, return a new string which shows how the two strings interact in the following way:\n",
    "\n",
    "When positives and positives interact, they remain positive.\n",
    "When negatives and negatives interact, they remain negative.\n",
    "But when negatives and positives interact, they become neutral, and are shown as the number 0."
   ]
  },
  {
   "cell_type": "markdown",
   "id": "f9578e81",
   "metadata": {},
   "source": [
    "# for loop"
   ]
  },
  {
   "cell_type": "code",
   "execution_count": 8,
   "id": "08a9ff33",
   "metadata": {},
   "outputs": [
    {
     "name": "stdout",
     "output_type": "stream",
     "text": [
      "Enter the volume of acid (in mL): 100\n",
      "Enter the volume of base (in mL): 100\n",
      "Neutralization complete. The reaction is balanced.\n"
     ]
    }
   ],
   "source": [
    "acid_volume = int(input(\"Enter the volume of acid (in mL): \"))\n",
    "base_volume = int(input(\"Enter the volume of base (in mL): \"))\n",
    "\n",
    "if acid_volume < 0 or base_volume < 0:\n",
    "    print(\"Volumes must be positive.\")\n",
    "else:\n",
    "    remaining_acid = acid_volume\n",
    "    remaining_base = base_volume\n",
    "    for i in range(min(acid_volume, base_volume)):\n",
    "        remaining_acid -= 1\n",
    "        remaining_base -= 1\n",
    "    if remaining_acid == 0 and remaining_base == 0:\n",
    "        print(\"Neutralization complete. The reaction is balanced.\")\n",
    "    else:\n",
    "        print(\"Neutralization incomplete. Some reactants remain.\")"
   ]
  },
  {
   "cell_type": "markdown",
   "id": "62976d71",
   "metadata": {},
   "source": [
    "# while loop"
   ]
  },
  {
   "cell_type": "code",
   "execution_count": 9,
   "id": "417890b2",
   "metadata": {},
   "outputs": [
    {
     "name": "stdout",
     "output_type": "stream",
     "text": [
      "Enter the volume of acid (in mL): 50\n",
      "Enter the volume of base (in mL): 20\n",
      "Neutralization incomplete. Some reactants remain.\n"
     ]
    }
   ],
   "source": [
    "acid_volume = int(input(\"Enter the volume of acid (in mL): \"))\n",
    "base_volume = int(input(\"Enter the volume of base (in mL): \"))\n",
    "if acid_volume < 0 or base_volume < 0:\n",
    "    print(\"Volumes must be positive.\")\n",
    "else:\n",
    "    remaining_acid = acid_volume\n",
    "    remaining_base = base_volume\n",
    "\n",
    "    while remaining_acid > 0 and remaining_base> 0:\n",
    "        remaining_acid -= 1\n",
    "        remaining_base -= 1\n",
    "    if remaining_acid == 0 and remaining_base == 0:\n",
    "        print(\"Neutralization complete. The reaction is balanced.\")\n",
    "    else:\n",
    "        print(\"Neutralization incomplete. Some reactants remain.\")"
   ]
  },
  {
   "cell_type": "markdown",
   "id": "9e31bd76",
   "metadata": {},
   "source": [
    "# 12M.The iterated square root of a number is the number of times the square root function must be applied to bring the number strictly under 2.\n",
    "\n",
    "Given an integer, return its iterated square root. Return \"invalid\" if it is negative."
   ]
  },
  {
   "cell_type": "markdown",
   "id": "9ad12b96",
   "metadata": {},
   "source": [
    "# for loop"
   ]
  },
  {
   "cell_type": "code",
   "execution_count": 10,
   "id": "349b907b",
   "metadata": {},
   "outputs": [
    {
     "name": "stdout",
     "output_type": "stream",
     "text": [
      "After 5 iterations, the result is: 1.0746078283213176\n"
     ]
    }
   ],
   "source": [
    "x = 10 \n",
    "iterations = 5\n",
    "for _ in range(iterations):\n",
    "    x = x ** 0.5  # Calculate the square root of x and update x\n",
    "\n",
    "# Print the final result\n",
    "print(\"After\", iterations, \"iterations, the result is:\", x)"
   ]
  },
  {
   "cell_type": "markdown",
   "id": "bfc8c207",
   "metadata": {},
   "source": [
    "# while loop"
   ]
  },
  {
   "cell_type": "code",
   "execution_count": 11,
   "id": "ee7a8da9",
   "metadata": {},
   "outputs": [
    {
     "name": "stdout",
     "output_type": "stream",
     "text": [
      "After 5 iterations, the result is: 1.0746078283213176\n"
     ]
    }
   ],
   "source": [
    "x = 10 \n",
    "iterations = 5 \n",
    "count = 0\n",
    "while count < iterations:\n",
    "    x = x ** 0.5 \n",
    "    count += 1\n",
    "print(\"After\", iterations, \"iterations, the result is:\", x)"
   ]
  },
  {
   "cell_type": "markdown",
   "id": "ec0f9511",
   "metadata": {},
   "source": [
    "# 13M.Syncopation means an emphasis on a weak beat of a bar of music; most commonly, beats 2 and 4 (and all other even-numbered beats if applicable).\n",
    "\n",
    "You will be given a string representing beats, where hashtags # represent emphasized beats. Create a function that returns if True the line of music contains any syncopation, and False otherwise."
   ]
  },
  {
   "cell_type": "markdown",
   "id": "c830efc6",
   "metadata": {},
   "source": [
    "# while loop"
   ]
  },
  {
   "cell_type": "code",
   "execution_count": 12,
   "id": "4d8c2125",
   "metadata": {},
   "outputs": [
    {
     "name": "stdout",
     "output_type": "stream",
     "text": [
      "Syncopated Rhythm Pattern:\n",
      "X X . X . X . X X . X . X . X X\n"
     ]
    }
   ],
   "source": [
    "rhythm_pattern = [\"X\", \"X\", \".\", \"X\", \".\", \"X\", \".\"]\n",
    "iterations = 16\n",
    "rhythm_sequence = []\n",
    "count = 0\n",
    "\n",
    "while count < iterations:\n",
    "    rhythm_sequence.append(rhythm_pattern[count % len(rhythm_pattern)])\n",
    "    count += 1\n",
    "print(\"Syncopated Rhythm Pattern:\")\n",
    "print(\" \".join(rhythm_sequence))"
   ]
  },
  {
   "cell_type": "markdown",
   "id": "24437089",
   "metadata": {},
   "source": [
    "# for loop"
   ]
  },
  {
   "cell_type": "code",
   "execution_count": null,
   "id": "ba04ff77",
   "metadata": {},
   "outputs": [],
   "source": []
  },
  {
   "cell_type": "markdown",
   "id": "97b143c3",
   "metadata": {},
   "source": [
    "# 14M.Create a function that returns the amount of duplicate characters in a string. It will be case sensitive and spaces are included. If there are no duplicates, return 0."
   ]
  },
  {
   "cell_type": "markdown",
   "id": "13526222",
   "metadata": {},
   "source": [
    "# for loop"
   ]
  },
  {
   "cell_type": "code",
   "execution_count": 13,
   "id": "b1519e5e",
   "metadata": {},
   "outputs": [
    {
     "name": "stdout",
     "output_type": "stream",
     "text": [
      "Total number of duplicate characters: 5\n"
     ]
    }
   ],
   "source": [
    "input_string = \"hello world\"\n",
    "duplicate_count = 0\n",
    "for char in input_string:\n",
    "    char_occurrences = input_string.count(char)\n",
    "    if char_occurrences > 1:\n",
    "        duplicate_count += 1\n",
    "print(\"Total number of duplicate characters:\", duplicate_count)"
   ]
  },
  {
   "cell_type": "markdown",
   "id": "67ef9e25",
   "metadata": {},
   "source": [
    "# while loop"
   ]
  },
  {
   "cell_type": "code",
   "execution_count": 14,
   "id": "743992f5",
   "metadata": {},
   "outputs": [
    {
     "name": "stdout",
     "output_type": "stream",
     "text": [
      "Total number of duplicate characters: 5\n"
     ]
    }
   ],
   "source": [
    "input_string = \"hello world\"\n",
    "duplicate_count = 0\n",
    "index = 0\n",
    "while index < len(input_string):\n",
    "    char = input_string[index]\n",
    "    char_occurrences = input_string.count(char)\n",
    "    if char_occurrences > 1:\n",
    "        duplicate_count += 1\n",
    "    index += 1\n",
    "print(\"Total number of duplicate characters:\", duplicate_count)"
   ]
  },
  {
   "cell_type": "markdown",
   "id": "35c19e57",
   "metadata": {},
   "source": [
    "# 15M.John is playing a dice game. The rules are as follows.\n",
    "\n",
    "Roll two dice.\n",
    "Add the numbers on the dice together.\n",
    "Add the total to your overall score.\n",
    "Repeat this for three rounds.\n",
    "But if you roll DOUBLES, your score is instantly wiped to 0 and your game ends immediately!\n",
    "\n",
    "Create a function that takes in a list of tuples as input, and return John's score after his game has ended."
   ]
  },
  {
   "cell_type": "markdown",
   "id": "1eb05eb0",
   "metadata": {},
   "source": [
    "# for loop"
   ]
  },
  {
   "cell_type": "code",
   "execution_count": 15,
   "id": "1f1a7088",
   "metadata": {},
   "outputs": [
    {
     "name": "stdout",
     "output_type": "stream",
     "text": [
      "Rolling two dice: Die 1 = 5, Die 2 = 1\n",
      "You didn't roll doubles!\n"
     ]
    }
   ],
   "source": [
    "import random\n",
    "\n",
    "for _ in range(100):\n",
    "    die1 = random.randint(1, 6)\n",
    "    die2 = random.randint(1, 6)\n",
    "    \n",
    "    print(f\"Rolling two dice: Die 1 = {die1}, Die 2 = {die2}\")\n",
    "    \n",
    "    if die1 != die2:\n",
    "        print(\"You didn't roll doubles!\")\n",
    "        break"
   ]
  },
  {
   "cell_type": "markdown",
   "id": "3d430bcb",
   "metadata": {},
   "source": [
    "# while loop"
   ]
  },
  {
   "cell_type": "code",
   "execution_count": 16,
   "id": "4f52469d",
   "metadata": {},
   "outputs": [
    {
     "name": "stdout",
     "output_type": "stream",
     "text": [
      "Rolling two dice: Die 1 = 5, Die 2 = 1\n",
      "You didn't roll doubles!\n"
     ]
    }
   ],
   "source": [
    "import random\n",
    "doubles = True \n",
    "while doubles:\n",
    "    die1 = random.randint(1, 6)\n",
    "    die2 = random.randint(1, 6)\n",
    "    print(f\"Rolling two dice: Die 1 = {die1}, Die 2 = {die2}\")   \n",
    "    if die1 != die2:\n",
    "        print(\"You didn't roll doubles!\")\n",
    "        doubles = False"
   ]
  },
  {
   "cell_type": "markdown",
   "id": "04c90622",
   "metadata": {},
   "source": [
    "# 16M.Create a function that takes in a list of button inputs and returns the final state."
   ]
  },
  {
   "cell_type": "markdown",
   "id": "d04443b7",
   "metadata": {},
   "source": [
    "# for loop"
   ]
  },
  {
   "cell_type": "code",
   "execution_count": 17,
   "id": "62eaeeeb",
   "metadata": {},
   "outputs": [
    {
     "name": "stdout",
     "output_type": "stream",
     "text": [
      "Likes: 6\n",
      "Dislikes: 4\n"
     ]
    }
   ],
   "source": [
    "likes = 0\n",
    "dislikes = 0\n",
    "votes = [1, 1, -1, 1, -1, -1, 1, 1, 1, -1]\n",
    "for vote in votes:\n",
    "    if vote == 1:\n",
    "        likes += 1\n",
    "    elif vote == -1:\n",
    "        dislikes += 1\n",
    "\n",
    "# Display the results\n",
    "print(f\"Likes: {likes}\")\n",
    "print(f\"Dislikes: {dislikes}\")"
   ]
  },
  {
   "cell_type": "markdown",
   "id": "7c4e6590",
   "metadata": {},
   "source": [
    "# while loop"
   ]
  },
  {
   "cell_type": "code",
   "execution_count": 18,
   "id": "0496e3a7",
   "metadata": {},
   "outputs": [
    {
     "name": "stdout",
     "output_type": "stream",
     "text": [
      "Likes: 6\n",
      "Dislikes: 4\n"
     ]
    }
   ],
   "source": [
    "likes = 0\n",
    "dislikes = 0\n",
    "votes = [1, -1, 1, 1, -1, -1, 1, 1, -1, 1]\n",
    "index = 0\n",
    "while index < len(votes):\n",
    "    vote = votes[index]\n",
    "    if vote == 1:\n",
    "        likes += 1\n",
    "    elif vote == -1:\n",
    "        dislikes += 1\n",
    "    index += 1\n",
    "print(f\"Likes: {likes}\")\n",
    "print(f\"Dislikes: {dislikes}\")"
   ]
  },
  {
   "cell_type": "code",
   "execution_count": null,
   "id": "a8cfd32b",
   "metadata": {},
   "outputs": [],
   "source": []
  }
 ],
 "metadata": {
  "kernelspec": {
   "display_name": "Python 3 (ipykernel)",
   "language": "python",
   "name": "python3"
  },
  "language_info": {
   "codemirror_mode": {
    "name": "ipython",
    "version": 3
   },
   "file_extension": ".py",
   "mimetype": "text/x-python",
   "name": "python",
   "nbconvert_exporter": "python",
   "pygments_lexer": "ipython3",
   "version": "3.11.5"
  }
 },
 "nbformat": 4,
 "nbformat_minor": 5
}
