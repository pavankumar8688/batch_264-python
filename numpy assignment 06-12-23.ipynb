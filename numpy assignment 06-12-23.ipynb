{
 "cells": [
  {
   "cell_type": "code",
   "execution_count": 1,
   "id": "f1b000a5",
   "metadata": {},
   "outputs": [],
   "source": [
    "import numpy as np"
   ]
  },
  {
   "cell_type": "code",
   "execution_count": 2,
   "id": "d9368866",
   "metadata": {},
   "outputs": [],
   "source": [
    "f=r'C:\\Users\\dudya\\Downloads\\tipsf - tipsf.csv'\n"
   ]
  },
  {
   "cell_type": "code",
   "execution_count": 3,
   "id": "7424b833",
   "metadata": {},
   "outputs": [],
   "source": [
    "values=np.genfromtxt(f,delimiter=',',skip_header=True)"
   ]
  },
  {
   "cell_type": "code",
   "execution_count": 4,
   "id": "0290ef76",
   "metadata": {},
   "outputs": [
    {
     "data": {
      "text/plain": [
       "array([[  0.  ,  16.99,   1.01, ...,   1.  ,   0.  ,   2.  ],\n",
       "       [  1.  ,  10.34,   1.66, ...,   1.  ,   0.  ,   3.  ],\n",
       "       [  2.  ,  21.01,   3.5 , ...,   1.  ,   0.  ,   3.  ],\n",
       "       ...,\n",
       "       [241.  ,  22.67,   2.  , ...,   0.  ,   0.  ,   2.  ],\n",
       "       [242.  ,  17.82,   1.75, ...,   0.  ,   0.  ,   2.  ],\n",
       "       [243.  ,  18.78,   3.  , ...,   2.  ,   0.  ,   2.  ]])"
      ]
     },
     "execution_count": 4,
     "metadata": {},
     "output_type": "execute_result"
    }
   ],
   "source": [
    "values"
   ]
  },
  {
   "cell_type": "markdown",
   "id": "05c5d7f4",
   "metadata": {},
   "source": [
    "# 1 what is the total bill value"
   ]
  },
  {
   "cell_type": "code",
   "execution_count": 5,
   "id": "fda02208",
   "metadata": {},
   "outputs": [
    {
     "data": {
      "text/plain": [
       "4827.77"
      ]
     },
     "execution_count": 5,
     "metadata": {},
     "output_type": "execute_result"
    }
   ],
   "source": [
    "## Q1\n",
    "sum_total_bill_values=np.sum(values[:,1])\n",
    "sum_total_bill_values"
   ]
  },
  {
   "cell_type": "markdown",
   "id": "c060d662",
   "metadata": {},
   "source": [
    "# 2 what is the total tip value"
   ]
  },
  {
   "cell_type": "code",
   "execution_count": 6,
   "id": "808ad131",
   "metadata": {},
   "outputs": [
    {
     "data": {
      "text/plain": [
       "731.5799999999999"
      ]
     },
     "execution_count": 6,
     "metadata": {},
     "output_type": "execute_result"
    }
   ],
   "source": [
    "## Q2\n",
    "sum_of_tip_values=np.sum(values[:,2])\n",
    "sum_of_tip_values"
   ]
  },
  {
   "cell_type": "markdown",
   "id": "cac2d5e9",
   "metadata": {},
   "source": [
    "# 3 count how many sun,sat,thu,fri are there"
   ]
  },
  {
   "cell_type": "code",
   "execution_count": 7,
   "id": "005903bc",
   "metadata": {},
   "outputs": [],
   "source": [
    "## Q3\n",
    "fifth_column=values[:,5]\n",
    "unique_values,counts=np.unique(fifth_column,return_counts=True)"
   ]
  },
  {
   "cell_type": "code",
   "execution_count": 8,
   "id": "8e3de6b5",
   "metadata": {},
   "outputs": [
    {
     "data": {
      "text/plain": [
       "(array([0., 1., 2., 3.]), array([87, 76, 62, 19], dtype=int64))"
      ]
     },
     "execution_count": 8,
     "metadata": {},
     "output_type": "execute_result"
    }
   ],
   "source": [
    "unique_values,counts"
   ]
  },
  {
   "cell_type": "code",
   "execution_count": 9,
   "id": "23f0d802",
   "metadata": {},
   "outputs": [
    {
     "name": "stdout",
     "output_type": "stream",
     "text": [
      "0,87\n",
      "1,76\n",
      "2,62\n",
      "3,19\n"
     ]
    }
   ],
   "source": [
    "for i,j in zip(unique_values,counts):\n",
    "    print(f'{int(i)},{j}')"
   ]
  },
  {
   "cell_type": "markdown",
   "id": "31975ff4",
   "metadata": {},
   "source": [
    "# 4 how many smokers are there"
   ]
  },
  {
   "cell_type": "code",
   "execution_count": 10,
   "id": "d2ed910a",
   "metadata": {},
   "outputs": [
    {
     "data": {
      "text/plain": [
       "93.0"
      ]
     },
     "execution_count": 10,
     "metadata": {},
     "output_type": "execute_result"
    }
   ],
   "source": [
    "## Q4\n",
    "smokers=np.sum(values[:,4])\n",
    "smokers"
   ]
  },
  {
   "cell_type": "code",
   "execution_count": 11,
   "id": "1a39ef76",
   "metadata": {},
   "outputs": [],
   "source": [
    "fourth_column=values[:,4]\n",
    "unique_values,counts=np.unique(fourth_column,return_counts=True)"
   ]
  },
  {
   "cell_type": "code",
   "execution_count": 12,
   "id": "01f96aee",
   "metadata": {},
   "outputs": [
    {
     "name": "stdout",
     "output_type": "stream",
     "text": [
      "0,151\n",
      "1,93\n"
     ]
    }
   ],
   "source": [
    "for i,j in zip(unique_values,counts):\n",
    "    print(f'{int(i)},{j}')"
   ]
  },
  {
   "cell_type": "markdown",
   "id": "6a415284",
   "metadata": {},
   "source": [
    "# 5 what is the avg tip given by female and male"
   ]
  },
  {
   "cell_type": "code",
   "execution_count": 13,
   "id": "155c5f38",
   "metadata": {},
   "outputs": [
    {
     "name": "stdout",
     "output_type": "stream",
     "text": [
      "avg tip of females: 3.0896178343949043\n",
      "avg tip of males: 2.8334482758620685\n"
     ]
    }
   ],
   "source": [
    "## Q5\n",
    "tip_column=values[:,2]\n",
    "gender_column=values[:,3]\n",
    "\n",
    "males=np.mean(tip_column[gender_column==0])\n",
    "females=np.mean(tip_column[gender_column==1])\n",
    "print(f'avg tip of females: {females}')\n",
    "print(f'avg tip of males: {males}')"
   ]
  },
  {
   "cell_type": "markdown",
   "id": "3528fdba",
   "metadata": {},
   "source": [
    "# 6 how much amount have been spent by female and male"
   ]
  },
  {
   "cell_type": "code",
   "execution_count": 16,
   "id": "9e641366",
   "metadata": {},
   "outputs": [
    {
     "name": "stdout",
     "output_type": "stream",
     "text": [
      "Total bill spent by males: 1570.9499999999996\n",
      "Total bill spent by females: 3256.8199999999997\n"
     ]
    }
   ],
   "source": [
    "total_bill_column = values[:,1]\n",
    "gender_column = values[:, 3]\n",
    "male = np.sum(total_bill_column[gender_column == 0])\n",
    "female = np.sum(total_bill_column[gender_column == 1])\n",
    "print(f\"Total bill spent by males:\",male)\n",
    "print(f\"Total bill spent by females:\",female)"
   ]
  },
  {
   "cell_type": "markdown",
   "id": "3198f59e",
   "metadata": {},
   "source": [
    "# 7  what is mean and max tip given"
   ]
  },
  {
   "cell_type": "code",
   "execution_count": 17,
   "id": "045537e6",
   "metadata": {},
   "outputs": [
    {
     "name": "stdout",
     "output_type": "stream",
     "text": [
      "The min tip given is : 1.0\n",
      "The max tip given is : 10.0\n"
     ]
    }
   ],
   "source": [
    "tip_column = values[:, 2]\n",
    "\n",
    "min_tip = np.min(tip_column)\n",
    "max_tip = np.max(tip_column)\n",
    "\n",
    "print(f\"The min tip given is : {min_tip}\")\n",
    "print(f\"The max tip given is : {max_tip}\")"
   ]
  },
  {
   "cell_type": "markdown",
   "id": "715d6e22",
   "metadata": {},
   "source": [
    "# 8 how many male and female are going for dinner and lunch"
   ]
  },
  {
   "cell_type": "code",
   "execution_count": 18,
   "id": "4b3f93f8",
   "metadata": {},
   "outputs": [
    {
     "name": "stdout",
     "output_type": "stream",
     "text": [
      "males going for lunch: 35\n",
      "females going for lunch: 33\n",
      "males going for dinner: 52\n",
      "females going for dinner: 124\n"
     ]
    }
   ],
   "source": [
    "gender_column = values[:, 3]\n",
    "time_column = values[:, 6]\n",
    "\n",
    "male_lunch_count = np.sum((gender_column == 0) & (time_column == 1))\n",
    "female_lunch_count = np.sum((gender_column == 1) & (time_column == 1))\n",
    "\n",
    "male_dinner_count = np.sum((gender_column == 0) & (time_column == 0))\n",
    "female_dinner_count = np.sum((gender_column == 1) & (time_column == 0))\n",
    "print(\"males going for lunch:\", male_lunch_count)\n",
    "print(\"females going for lunch:\", female_lunch_count)\n",
    "print(\"males going for dinner:\", male_dinner_count)\n",
    "print(\"females going for dinner:\", female_dinner_count)"
   ]
  },
  {
   "cell_type": "markdown",
   "id": "d08e829d",
   "metadata": {},
   "source": [
    "# 9 find out the avg size"
   ]
  },
  {
   "cell_type": "code",
   "execution_count": 19,
   "id": "06d03c66",
   "metadata": {},
   "outputs": [
    {
     "name": "stdout",
     "output_type": "stream",
     "text": [
      "The Avg size is : 2.569672131147541\n"
     ]
    }
   ],
   "source": [
    "size_column = values[:, 7]\n",
    "avg_size = np.mean(size_column)\n",
    "print(f\"The Avg size is : {avg_size}\")"
   ]
  },
  {
   "cell_type": "markdown",
   "id": "0d3fe771",
   "metadata": {},
   "source": [
    "# 10 how many females smokes are there and male smokes are there"
   ]
  },
  {
   "cell_type": "code",
   "execution_count": 20,
   "id": "3d08b680",
   "metadata": {},
   "outputs": [
    {
     "name": "stdout",
     "output_type": "stream",
     "text": [
      "male smokers: 33\n",
      "female smokers: 60\n"
     ]
    }
   ],
   "source": [
    "gender_column = values[:, 3]\n",
    "smokers = values[:, 4]\n",
    "male_smokers_count = np.sum((gender_column == 0) & (smokers == 1))\n",
    "female_smokers_count = np.sum((gender_column == 1) & (smokers == 1))\n",
    "print(\"male smokers:\", male_smokers_count)\n",
    "print(\"female smokers:\", female_smokers_count)"
   ]
  },
  {
   "cell_type": "code",
   "execution_count": null,
   "id": "3a8b9f3f",
   "metadata": {},
   "outputs": [],
   "source": [
    "\n"
   ]
  }
 ],
 "metadata": {
  "kernelspec": {
   "display_name": "Python 3 (ipykernel)",
   "language": "python",
   "name": "python3"
  },
  "language_info": {
   "codemirror_mode": {
    "name": "ipython",
    "version": 3
   },
   "file_extension": ".py",
   "mimetype": "text/x-python",
   "name": "python",
   "nbconvert_exporter": "python",
   "pygments_lexer": "ipython3",
   "version": "3.11.5"
  }
 },
 "nbformat": 4,
 "nbformat_minor": 5
}
