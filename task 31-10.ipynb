{
 "cells": [
  {
   "cell_type": "markdown",
   "id": "78e252e8",
   "metadata": {},
   "source": [
    "1.Write a Python program that asks the user for their age and prints \"You are an adult\" if the age is 18 or older, otherwise prints \"You are a minor'.\n"
   ]
  },
  {
   "cell_type": "code",
   "execution_count": 6,
   "id": "a09c1564",
   "metadata": {},
   "outputs": [
    {
     "name": "stdout",
     "output_type": "stream",
     "text": [
      "enter the age17\n",
      "you are minor\n"
     ]
    }
   ],
   "source": [
    "age=int(input('enter the age'))\n",
    "if age>=18:\n",
    "    print('you are an adult')\n",
    "else:\n",
    "    print('you are minor')\n"
   ]
  },
  {
   "cell_type": "markdown",
   "id": "0a81bc9d",
   "metadata": {},
   "source": [
    "2.Write a program that takes a numerical grade (out of 100) as input and prints the corresponding letter grade according to the following scale:\n",
    "\n",
    "* 90-100: A\n",
    "* 80-89: B\n",
    "* 70-79: C\n",
    "* 60-69: D\n",
    "* Below 60: F\n"
   ]
  },
  {
   "cell_type": "code",
   "execution_count": 11,
   "id": "9c901a78",
   "metadata": {},
   "outputs": [
    {
     "name": "stdout",
     "output_type": "stream",
     "text": [
      "enter the marks50\n",
      "F\n"
     ]
    }
   ],
   "source": [
    "marks=int(input('enter the marks'))\n",
    "\n",
    "if marks >100:\n",
    "    print('A')\n",
    "elif marks >90:\n",
    "    print('B')\n",
    "elif marks >80:\n",
    "    print('C')\n",
    "elif marks >70:\n",
    "    print('D')\n",
    "elif marks >60:\n",
    "    print('E')\n",
    "else:\n",
    "    print('F')"
   ]
  },
  {
   "cell_type": "markdown",
   "id": "430be14b",
   "metadata": {},
   "source": [
    "3.Write a program that calculates the Body Mass Index (BMI) of a person. The user should input their weight in kilograms and height in meters. The program should then print whether the person is underweight, normal weight, overweight, or obese\n"
   ]
  },
  {
   "cell_type": "code",
   "execution_count": 4,
   "id": "2d61e942",
   "metadata": {},
   "outputs": [
    {
     "name": "stdout",
     "output_type": "stream",
     "text": [
      "your weight in kg18\n",
      "your height in cm6\n",
      "the weight, height, and bmi of your body are 18.0,6.0, are 0.5\n",
      "you are underweight\n"
     ]
    }
   ],
   "source": [
    "weight = int(input('your weight in kg'))\n",
    "height = float(input('your height in cm'))\n",
    "bmi = weight / (height ** 2)   ##-->bmi formula\n",
    "print(f'the weight, height, and bmi of your body are {weight},{height}, are {bmi}')\n",
    "\n",
    "if bmi <= 18.5: ##-->it checks directly bmi value         \n",
    "    print('you are underweight')\n",
    "elif 18.5 <= bmi < 24.9:\n",
    "    print('you are in the normal weight range')\n",
    "elif 25 <= bmi < 29.9:\n",
    "    print('you are overweight')\n",
    "else:\n",
    "    print('you are obese')\n"
   ]
  },
  {
   "cell_type": "markdown",
   "id": "314ac707",
   "metadata": {},
   "source": [
    "4.Write a program that asks the user for three numbers and prints the maximum of the three.\n"
   ]
  },
  {
   "cell_type": "code",
   "execution_count": 7,
   "id": "3c7f54ef",
   "metadata": {},
   "outputs": [
    {
     "name": "stdout",
     "output_type": "stream",
     "text": [
      "enter first number4\n",
      "enter second number5\n",
      "enter thrd number6\n",
      "thrd number highest(z)\n"
     ]
    }
   ],
   "source": [
    "x=int(input('enter first number'))\n",
    "y=int(input('enter second number'))\n",
    "z=int(input('enter thrd number'))\n",
    "if x>y and x>z:\n",
    "    print('first number highest(x)')\n",
    "elif y<x and y<z:\n",
    "    print('second number highest(y)')\n",
    "else:\n",
    "    print('thrd number highest(z)')"
   ]
  },
  {
   "cell_type": "markdown",
   "id": "9c3cf3d2",
   "metadata": {},
   "source": [
    "5.Write a program that asks the user for a temperature (in Celsius) and prints \"It's freezing\" if the temperature is below 0, \"It's cool\" if it's between 0 and 10, \"It's warm\" if it's between 10 and 20, and \"It's hot\" if it's above 20\n"
   ]
  },
  {
   "cell_type": "code",
   "execution_count": 11,
   "id": "5a6a0a45",
   "metadata": {},
   "outputs": [
    {
     "name": "stdout",
     "output_type": "stream",
     "text": [
      "enter room temp : -2\n",
      "its freezing\n"
     ]
    }
   ],
   "source": [
    "temp = float(input('enter room temp : '))\n",
    "\n",
    "if temp<=0:\n",
    "    print('its freezing')\n",
    "elif temp in range(0, 11):\n",
    "    print('its cool')\n",
    "elif temp in range(10, 21): ##-->it checks if and elif conditions (range) ,if the given number is not in range it will print else statement\n",
    "    print('its Warm')\n",
    "else:\n",
    "    print('its hot')\n",
    "          \n",
    "  \n",
    "    print('its warm')\n",
    "else:\n",
    "    print('its hot')"
   ]
  },
  {
   "cell_type": "markdown",
   "id": "0724b95e",
   "metadata": {},
   "source": [
    "\n",
    "6.Write a program that asks the user for a number (1-7) and prints the corresponding day of the week.\n"
   ]
  },
  {
   "cell_type": "code",
   "execution_count": 13,
   "id": "61979898",
   "metadata": {},
   "outputs": [
    {
     "name": "stdout",
     "output_type": "stream",
     "text": [
      "enter a number : 7\n",
      "day 7\n"
     ]
    }
   ],
   "source": [
    "x=int(input('enter a number : '))\n",
    "if x==1:   ##--> if the given number is equal to 1 then it will executes print statement   \n",
    "    print('day 1')\n",
    "elif x==2:\n",
    "    print('day 2')\n",
    "elif x==3:\n",
    "    print('day 3')\n",
    "elif x==4:\n",
    "    print('day 4')\n",
    "elif x==5:\n",
    "    print('day 5')\n",
    "elif x==6:\n",
    "    print('day 6')##-->if and elif statements will not correct then it executes else statement\n",
    "else:\n",
    "    print('SATURDAY')\n",
    "\n",
    "elif x==7:\n",
    "    print('day 7')\n",
    "else:\n",
    "    print('invalid')"
   ]
  },
  {
   "cell_type": "markdown",
   "id": "03fdaa3d",
   "metadata": {},
   "source": [
    "7.Write a program that asks the user for a number and prints \"In range\" if the number is between 10 and 20 (inclusive), and \"Out of range\" otherwise.\n"
   ]
  },
  {
   "cell_type": "code",
   "execution_count": 21,
   "id": "e8d82d8c",
   "metadata": {},
   "outputs": [
    {
     "name": "stdout",
     "output_type": "stream",
     "text": [
      "enter a number15\n",
      "in range\n"
     ]
    }
   ],
   "source": [
    "x=int(input('enter a number'))\n",
    "if x in range(10,20):\n",
    "      print('in range')\n",
    "else:\n",
    "    print('out range')"
   ]
  },
  {
   "cell_type": "markdown",
   "id": "145de19e",
   "metadata": {},
   "source": [
    "8.Write a program that asks the user for an integer and prints whether it's even or odd.\n",
    "\n"
   ]
  },
  {
   "cell_type": "code",
   "execution_count": 14,
   "id": "34b7c613",
   "metadata": {},
   "outputs": [
    {
     "name": "stdout",
     "output_type": "stream",
     "text": [
      "enter a number : 44\n",
      "even number\n"
     ]
    }
   ],
   "source": [
    "x = int(input('enter a number : '))\n",
    "\n",
    "if x % 4 == 0:\n",
    "    print('even number')    ##-->if the given number was divisible by 2 ,then it is even number otherwise odd number\n",
    "else:\n",
    "    print('the given number is'   'ODD')\n",
    "          \n",
    "\n",
    "else:\n",
    "    print('odd number')"
   ]
  },
  {
   "cell_type": "code",
   "execution_count": 15,
   "id": "437f1a75",
   "metadata": {},
   "outputs": [
    {
     "name": "stdout",
     "output_type": "stream",
     "text": [
      "enter a number : 3\n",
      "odd number\n"
     ]
    }
   ],
   "source": [
    "n = int(input('enter a number : '))\n",
    "\n",
    "if n % 2 == 0:\n",
    "    print('even number')\n",
    "else:\n",
    "    print('odd number')"
   ]
  },
  {
   "cell_type": "markdown",
   "id": "0dfb51e1",
   "metadata": {},
   "source": [
    "9. Write a Python program to add 'ing' at the end of a given string (string length should be equal to or more than 3). If the given string already ends with 'ing' then add 'ly' instead.If the string length of the given string is less than 3, leave it unchanged\n"
   ]
  },
  {
   "cell_type": "code",
   "execution_count": 18,
   "id": "0abb1e42",
   "metadata": {},
   "outputs": [
    {
     "name": "stdout",
     "output_type": "stream",
     "text": [
      "enter a string  hii\n",
      "hiiing\n"
     ]
    }
   ],
   "source": [
    "y=input('enter a string  ')\n",
    "\n",
    "if len(y)==2:\n",
    "    print((y))\n",
    "elif y.endswith('ing'):\n",
    "    print((y).replace('ing','ly'))\n",
    "else:\n",
    "    print((y)+('ing'))"
   ]
  },
  {
   "cell_type": "code",
   "execution_count": 19,
   "id": "1ce4d6c8",
   "metadata": {},
   "outputs": [
    {
     "name": "stdout",
     "output_type": "stream",
     "text": [
      "enter a string  hi\n",
      "hi\n"
     ]
    }
   ],
   "source": [
    "y=input('enter a string  ')\n",
    "\n",
    "if len(y)==2:   #3-->it checks len of elements in the given input ,whether len is equal to 2 or not if yes it will executes its print statement.\n",
    "    print((y))\n",
    "elif y.endswith('ing'):  ##--> when y is endswith --> that mean if y is ended with ing it executes print statement\n",
    "    print((y).replace('ing','ly')) ##-->if input was ended with 'ing',it replaces 'ly' in the place of 'ing'\n",
    "else:\n",
    "    print((y)+('ing'))\n",
    "\n",
    "else:\n",
    "    print((y)+('ing'))"
   ]
  },
  {
   "cell_type": "code",
   "execution_count": null,
   "id": "d1d530e2",
   "metadata": {},
   "outputs": [],
   "source": []
  }
 ],
 "metadata": {
  "kernelspec": {
   "display_name": "Python 3 (ipykernel)",
   "language": "python",
   "name": "python3"
  },
  "language_info": {
   "codemirror_mode": {
    "name": "ipython",
    "version": 3
   },
   "file_extension": ".py",
   "mimetype": "text/x-python",
   "name": "python",
   "nbconvert_exporter": "python",
   "pygments_lexer": "ipython3",
   "version": "3.11.5"
  }
 },
 "nbformat": 4,
 "nbformat_minor": 5
}
