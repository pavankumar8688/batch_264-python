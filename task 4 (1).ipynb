{
 "cells": [
  {
   "cell_type": "markdown",
   "id": "5a6c6523",
   "metadata": {},
   "source": [
    "# List\n",
    "* Creating a List\n",
    "* You can create a list by enclosing items in square brackets [ ].\n",
    "\n",
    "Accessing Elements:\n",
    "* You can access elements in a list using indexing. Python uses zero-based indexing, so the first element is at index 0. Negative indexing is also possible, where -1 refers to the last element, -2 to the second-to-last, and so on.\n",
    "\n",
    "Slicing:\n",
    "* You can extract a portion of the list using slicing.\n",
    "\n",
    "* Modifying Lists:\n",
    "* You can change the value of a specific element by assigning a new value.\n",
    "\n",
    "Adding and Removing Elements:\n",
    "* Appending: Add an element to the end of the list using append(). Inserting: Insert an element at a specific position using insert(). Removing: Remove an element by value using remove(). Popping: Remove and return an element by index using pop().\n",
    "\n",
    "List Length:\n",
    "* You can find the length of a list using len().\n",
    "\n",
    "Iterating through a List:\n",
    "* You can use a loop to go through each item in a list."
   ]
  },
  {
   "cell_type": "code",
   "execution_count": 1,
   "id": "f9fd23fd",
   "metadata": {},
   "outputs": [
    {
     "name": "stdout",
     "output_type": "stream",
     "text": [
      "[]\n",
      "<class 'list'>\n",
      "0\n",
      "1669666324288\n",
      "0x184bfde3f40\n"
     ]
    }
   ],
   "source": [
    "g = [ ]\n",
    "print(g, type(g), len(g), id(g), hex(id(g)), sep='\\n') #length of empty string is zero"
   ]
  },
  {
   "cell_type": "code",
   "execution_count": 2,
   "id": "fb14697b",
   "metadata": {},
   "outputs": [
    {
     "name": "stdout",
     "output_type": "stream",
     "text": [
      "[]\n",
      "<class 'list'>\n",
      "0\n",
      "0x184bfd14bc0\n"
     ]
    }
   ],
   "source": [
    "l = list()\n",
    "print(l, type(l), len(l), hex(id(l)), sep = '\\n')"
   ]
  },
  {
   "cell_type": "code",
   "execution_count": 7,
   "id": "bce9642a",
   "metadata": {},
   "outputs": [
    {
     "name": "stdout",
     "output_type": "stream",
     "text": [
      "['pavan']\n",
      "<class 'list'>\n",
      "1\n",
      "0x184bfd72940\n"
     ]
    }
   ],
   "source": [
    "l = ['pavan'] # if we use sqaure braces it will directly take the string\n",
    "print(l, type(l), len(l), hex(id(l)), sep = '\\n')"
   ]
  },
  {
   "cell_type": "code",
   "execution_count": 8,
   "id": "7abab46a",
   "metadata": {},
   "outputs": [
    {
     "name": "stdout",
     "output_type": "stream",
     "text": [
      "['p', 'a', 'v', 'a', 'n']\n",
      "<class 'list'>\n",
      "5\n",
      "0x184bfde0dc0\n"
     ]
    }
   ],
   "source": [
    "l = list('pavan') # it will take the string into the sub-strings if we use the list \"keyword\" and add to the new string.\n",
    "print(l, type(l), len(l), hex(id(l)), sep = '\\n')"
   ]
  },
  {
   "cell_type": "code",
   "execution_count": 11,
   "id": "8ede2f9c",
   "metadata": {},
   "outputs": [
    {
     "data": {
      "text/plain": [
       "['pavan',\n",
       " 7,\n",
       " 7.2,\n",
       " (5-3j),\n",
       " 'six',\n",
       " True,\n",
       " <function print(*args, sep=' ', end='\\n', file=None, flush=False)>,\n",
       " range]"
      ]
     },
     "execution_count": 11,
     "metadata": {},
     "output_type": "execute_result"
    }
   ],
   "source": [
    "S = ['pavan', 7, 7.2, 5-3j, 'six', True, print, range]\n",
    "S"
   ]
  },
  {
   "cell_type": "markdown",
   "id": "c0033a5e",
   "metadata": {},
   "source": [
    "# Indexing and Slicing in Lists\n",
    "\n",
    "     \n",
    "   examples"
   ]
  },
  {
   "cell_type": "code",
   "execution_count": 12,
   "id": "28a91d05",
   "metadata": {},
   "outputs": [
    {
     "name": "stdout",
     "output_type": "stream",
     "text": [
      "bhanu Male\n",
      "['bhanu', 77, True, 4.0, 'Male']\n",
      "['Male', 4.0, True, 77, 'bhanu']\n",
      "['naveen', 'bhanu', 'karthik']\n",
      "<class 'list'>\n",
      "1669666318208\n",
      "['bhanu', 77, True, 4.0, 'Male']\n",
      "<class 'list'>\n",
      "1669666344640\n"
     ]
    }
   ],
   "source": [
    "list1 = [\"naveen\", \"bhanu\", \"karthik\"] \n",
    "list2 = [\"bhanu\", 77, True, 4.0, \"Male\"]\n",
    "print(list2[0], list2[-1])    #indexing\n",
    "print(list2[::], list2[::-1], sep ='\\n')      #slicing\n",
    "\n",
    "print(list1, type(list1), id(list1), sep ='\\n')\n",
    "print(list2, type(list2), id(list2), sep ='\\n')\n"
   ]
  },
  {
   "cell_type": "code",
   "execution_count": 13,
   "id": "e40bae1b",
   "metadata": {},
   "outputs": [
    {
     "data": {
      "text/plain": [
       "('r', 'rajesh', 'hsejar')"
      ]
     },
     "execution_count": 13,
     "metadata": {},
     "output_type": "execute_result"
    }
   ],
   "source": [
    "y='rajesh'\n",
    "y[0],y[::],y[::-1]"
   ]
  },
  {
   "cell_type": "code",
   "execution_count": 15,
   "id": "840080fd",
   "metadata": {},
   "outputs": [
    {
     "data": {
      "text/plain": [
       "['s', 'a', 'n', 'j', 'u', ' ', 's', 'r', 'i', 's', 'a', 'i', 'l', 'a', 'm']"
      ]
     },
     "execution_count": 15,
     "metadata": {},
     "output_type": "execute_result"
    }
   ],
   "source": [
    "x = 'sanju srisailam'\n",
    "list(x)    # takes each individually"
   ]
  },
  {
   "cell_type": "code",
   "execution_count": 16,
   "id": "7f750706",
   "metadata": {},
   "outputs": [
    {
     "data": {
      "text/plain": [
       "{' ', 'a', 'i', 'j', 'l', 'm', 'n', 'r', 's', 'u'}"
      ]
     },
     "execution_count": 16,
     "metadata": {},
     "output_type": "execute_result"
    }
   ],
   "source": [
    "set(list(x)) #takes unique elements only"
   ]
  },
  {
   "cell_type": "code",
   "execution_count": 17,
   "id": "d6cd36f5",
   "metadata": {},
   "outputs": [
    {
     "data": {
      "text/plain": [
       "10"
      ]
     },
     "execution_count": 17,
     "metadata": {},
     "output_type": "execute_result"
    }
   ],
   "source": [
    "len(set(list(x)))"
   ]
  },
  {
   "cell_type": "markdown",
   "id": "f5938327",
   "metadata": {},
   "source": [
    "# Nested list\n",
    "* A list within another list is referred to as a nested list in Python. We can also say that a list that has other lists as its elements is a nested list."
   ]
  },
  {
   "cell_type": "code",
   "execution_count": 19,
   "id": "b335482f",
   "metadata": {},
   "outputs": [
    {
     "name": "stdout",
     "output_type": "stream",
     "text": [
      "[1, 2, 3, [11, 22, 33]]\n",
      "<class 'list'>\n",
      "4\n",
      "0x184bfde8b00\n"
     ]
    }
   ],
   "source": [
    "l=[1,2,3,[11,22,33]]\n",
    "\n",
    "print(l, type(l), len(l), hex(id(l)), sep ='\\n')"
   ]
  },
  {
   "cell_type": "code",
   "execution_count": 20,
   "id": "ed2f75f5",
   "metadata": {},
   "outputs": [
    {
     "data": {
      "text/plain": [
       "(list, [11, 22, 33], 11, [33, 22, 11], [33, 11], 33)"
      ]
     },
     "execution_count": 20,
     "metadata": {},
     "output_type": "execute_result"
    }
   ],
   "source": [
    "type(l[3]), l[3], l[3][0], l[3][::-1], l[3][::-2], l[3][2]"
   ]
  },
  {
   "cell_type": "markdown",
   "id": "ca93885e",
   "metadata": {},
   "source": [
    "# Range"
   ]
  },
  {
   "cell_type": "code",
   "execution_count": 24,
   "id": "58739b2d",
   "metadata": {},
   "outputs": [
    {
     "name": "stdout",
     "output_type": "stream",
     "text": [
      "range(1, 22)\n",
      "<class 'range'>\n",
      "21\n",
      "0x184bfd6fd50\n"
     ]
    }
   ],
   "source": [
    "r = range(1,22)\n",
    "print(r, type(r), len(r), hex(id(r)), sep='\\n')"
   ]
  },
  {
   "cell_type": "code",
   "execution_count": 25,
   "id": "2c4753f5",
   "metadata": {},
   "outputs": [
    {
     "data": {
      "text/plain": [
       "[1, 2, 3, 4, 5, 6, 7, 8, 9, 10, 11, 12, 13, 14, 15, 16, 17, 18, 19, 20, 21]"
      ]
     },
     "execution_count": 25,
     "metadata": {},
     "output_type": "execute_result"
    }
   ],
   "source": [
    "list(r)"
   ]
  },
  {
   "cell_type": "code",
   "execution_count": 26,
   "id": "3d05910f",
   "metadata": {},
   "outputs": [
    {
     "name": "stdout",
     "output_type": "stream",
     "text": [
      "[22, 21, 20, 19, 18, 17, 16, 15, 14, 13, 12, 11, 10, 9, 8, 7, 6, 5, 4, 3, 2, 1]\n",
      "<class 'range'>\n",
      "22\n",
      "0x184bfd6fab0\n"
     ]
    }
   ],
   "source": [
    "r = range(22,0,-1)\n",
    "print(list(r), type(r), len(r), hex(id(r)), sep='\\n')\n",
    "# included numbers from 20 to 1 backwards , didnt include 0 , step was -1 so it is in decreasing order."
   ]
  },
  {
   "cell_type": "code",
   "execution_count": 27,
   "id": "37682750",
   "metadata": {},
   "outputs": [
    {
     "name": "stdout",
     "output_type": "stream",
     "text": [
      "range(20, 1, -1)\n",
      "<class 'range'>\n",
      "19\n",
      "0x184bfd6f8d0\n"
     ]
    }
   ],
   "source": [
    "r = range(20, 1, -1)\n",
    "print(r, type(r), len(r), hex(id(r)), sep = '\\n')"
   ]
  },
  {
   "cell_type": "code",
   "execution_count": 28,
   "id": "c9723647",
   "metadata": {},
   "outputs": [
    {
     "data": {
      "text/plain": [
       "[20, 19, 18, 17, 16, 15, 14, 13, 12, 11, 10, 9, 8, 7, 6, 5, 4, 3, 2]"
      ]
     },
     "execution_count": 28,
     "metadata": {},
     "output_type": "execute_result"
    }
   ],
   "source": [
    "list(r)\n"
   ]
  },
  {
   "cell_type": "code",
   "execution_count": 31,
   "id": "210be725",
   "metadata": {},
   "outputs": [
    {
     "data": {
      "text/plain": [
       "range(0, 5)"
      ]
     },
     "execution_count": 31,
     "metadata": {},
     "output_type": "execute_result"
    }
   ],
   "source": [
    "range(5) #if we mention only 1 number so range takes it as end point and starts it from 0."
   ]
  },
  {
   "cell_type": "code",
   "execution_count": 34,
   "id": "71b114fc",
   "metadata": {},
   "outputs": [
    {
     "data": {
      "text/plain": [
       "([0,\n",
       "  1,\n",
       "  2,\n",
       "  3,\n",
       "  4,\n",
       "  5,\n",
       "  6,\n",
       "  7,\n",
       "  8,\n",
       "  9,\n",
       "  10,\n",
       "  11,\n",
       "  12,\n",
       "  13,\n",
       "  14,\n",
       "  15,\n",
       "  16,\n",
       "  17,\n",
       "  18,\n",
       "  19,\n",
       "  20,\n",
       "  21],\n",
       " [0, 1, 2, 3, 4, 5, 6, 7, 8, 9, 10, 11, 12, 13, 14])"
      ]
     },
     "execution_count": 34,
     "metadata": {},
     "output_type": "execute_result"
    }
   ],
   "source": [
    "list(range(0,22,1)), list(range(0,15))"
   ]
  },
  {
   "cell_type": "code",
   "execution_count": 35,
   "id": "f836d6e0",
   "metadata": {},
   "outputs": [
    {
     "data": {
      "text/plain": [
       "['__add__',\n",
       " '__class__',\n",
       " '__class_getitem__',\n",
       " '__contains__',\n",
       " '__delattr__',\n",
       " '__delitem__',\n",
       " '__dir__',\n",
       " '__doc__',\n",
       " '__eq__',\n",
       " '__format__',\n",
       " '__ge__',\n",
       " '__getattribute__',\n",
       " '__getitem__',\n",
       " '__getstate__',\n",
       " '__gt__',\n",
       " '__hash__',\n",
       " '__iadd__',\n",
       " '__imul__',\n",
       " '__init__',\n",
       " '__init_subclass__',\n",
       " '__iter__',\n",
       " '__le__',\n",
       " '__len__',\n",
       " '__lt__',\n",
       " '__mul__',\n",
       " '__ne__',\n",
       " '__new__',\n",
       " '__reduce__',\n",
       " '__reduce_ex__',\n",
       " '__repr__',\n",
       " '__reversed__',\n",
       " '__rmul__',\n",
       " '__setattr__',\n",
       " '__setitem__',\n",
       " '__sizeof__',\n",
       " '__str__',\n",
       " '__subclasshook__',\n",
       " 'append',\n",
       " 'clear',\n",
       " 'copy',\n",
       " 'count',\n",
       " 'extend',\n",
       " 'index',\n",
       " 'insert',\n",
       " 'pop',\n",
       " 'remove',\n",
       " 'reverse',\n",
       " 'sort']"
      ]
     },
     "execution_count": 35,
     "metadata": {},
     "output_type": "execute_result"
    }
   ],
   "source": [
    "dir(list)"
   ]
  },
  {
   "cell_type": "markdown",
   "id": "03a0d145",
   "metadata": {},
   "source": [
    "# append()\n",
    "* the append() method is used to add an element to the end of a list. Lists are a built-in data type in Python that can hold multiple values. The append() method is a list method that modifies the list in place by adding the specified element to the end of the list.\n",
    "* Here's the basic syntax for the append() method:\n",
    "\n",
    "* list_name.append(element) list_name: The name of the list to which you want to add an element. element: The value you want to add to the end of the list.\n",
    "\n",
    "    Example:"
   ]
  },
  {
   "cell_type": "code",
   "execution_count": 46,
   "id": "d1822a71",
   "metadata": {},
   "outputs": [
    {
     "name": "stdout",
     "output_type": "stream",
     "text": [
      "[11, 22, 33, 44]\n"
     ]
    }
   ],
   "source": [
    "my_list = [11,22,33]\n",
    "my_list.append(44)\n",
    "print(my_list)"
   ]
  },
  {
   "cell_type": "code",
   "execution_count": 47,
   "id": "b1e69f32",
   "metadata": {},
   "outputs": [
    {
     "name": "stdout",
     "output_type": "stream",
     "text": [
      "[11, 22, 33, 44, [55, 66]]\n"
     ]
    }
   ],
   "source": [
    "my_list = [11,22,33,44]\n",
    "my_list.append([55,66])  # Appends the entire list as a single element\n",
    "print(my_list)"
   ]
  },
  {
   "cell_type": "markdown",
   "id": "ecbb67c8",
   "metadata": {},
   "source": [
    "# Extend()"
   ]
  },
  {
   "cell_type": "code",
   "execution_count": 50,
   "id": "b77208f2",
   "metadata": {},
   "outputs": [
    {
     "name": "stdout",
     "output_type": "stream",
     "text": [
      "[55, 22, 33, 44, 11, 66]\n"
     ]
    }
   ],
   "source": [
    "my_list = [55,22,33,44]\n",
    "my_list.extend([11,66])  # Extends the list with individual elements\n",
    "print(my_list)"
   ]
  },
  {
   "cell_type": "code",
   "execution_count": 51,
   "id": "044161f6",
   "metadata": {},
   "outputs": [
    {
     "name": "stdout",
     "output_type": "stream",
     "text": [
      "[55, 66, 88, 22, 11]\n"
     ]
    }
   ],
   "source": [
    "my_list = [55,66,88]\n",
    "my_list = my_list + [22,11]\n",
    "print(my_list)"
   ]
  },
  {
   "cell_type": "markdown",
   "id": "248f8dab",
   "metadata": {},
   "source": [
    "# Insert()\n",
    "It allows you to insert an element at a specific index in a list."
   ]
  },
  {
   "cell_type": "code",
   "execution_count": 53,
   "id": "e1ce8936",
   "metadata": {},
   "outputs": [
    {
     "name": "stdout",
     "output_type": "stream",
     "text": [
      "[5, 6, 44, 77, 8]\n"
     ]
    }
   ],
   "source": [
    "my_list = [5,6,77,8]\n",
    "my_list.insert(2,44)  # Inserts 6 at index 2\n",
    "print(my_list)"
   ]
  },
  {
   "cell_type": "code",
   "execution_count": 61,
   "id": "d18fde25",
   "metadata": {},
   "outputs": [
    {
     "name": "stdout",
     "output_type": "stream",
     "text": [
      "[1, 2, 3, 7, 4, 5]\n"
     ]
    }
   ],
   "source": [
    "my_list=[1,2,3,4,5]\n",
    "my_list.insert(3,7)\n",
    "print(my_list)"
   ]
  },
  {
   "cell_type": "markdown",
   "id": "fcd7cdd0",
   "metadata": {},
   "source": [
    "# Count()"
   ]
  },
  {
   "cell_type": "code",
   "execution_count": 63,
   "id": "1cb96965",
   "metadata": {},
   "outputs": [
    {
     "data": {
      "text/plain": [
       "3"
      ]
     },
     "execution_count": 63,
     "metadata": {},
     "output_type": "execute_result"
    }
   ],
   "source": [
    "[1,2,3,4,1,2,3,5,6,1,2,7,5].count(1)"
   ]
  },
  {
   "cell_type": "markdown",
   "id": "9bc13498",
   "metadata": {},
   "source": [
    "# Remove()\n",
    "* Removes given element's first occurance from left to right. \n",
    "\n",
    "syntax: list.remove('a')"
   ]
  },
  {
   "cell_type": "code",
   "execution_count": 64,
   "id": "c4325f44",
   "metadata": {},
   "outputs": [
    {
     "data": {
      "text/plain": [
       "['m', 'a', 'l', 'a', 'y', 'a', 'l', 'a', 'm']"
      ]
     },
     "execution_count": 64,
     "metadata": {},
     "output_type": "execute_result"
    }
   ],
   "source": [
    "x  = list('malayalam')\n",
    "x"
   ]
  },
  {
   "cell_type": "code",
   "execution_count": 66,
   "id": "339ac441",
   "metadata": {},
   "outputs": [
    {
     "data": {
      "text/plain": [
       "['m', 'a', 'y', 'a', 'l', 'a', 'm']"
      ]
     },
     "execution_count": 66,
     "metadata": {},
     "output_type": "execute_result"
    }
   ],
   "source": [
    "x.remove('l')\n",
    "x"
   ]
  },
  {
   "cell_type": "markdown",
   "id": "35b52d11",
   "metadata": {},
   "source": [
    "# Pop()\n",
    "* pop gives back the last value from the list by default and removes that value from the list if you print it after that. If you mention the index number so it will give it back and remove kit from the list."
   ]
  },
  {
   "cell_type": "code",
   "execution_count": 67,
   "id": "d2d4de3f",
   "metadata": {},
   "outputs": [
    {
     "data": {
      "text/plain": [
       "5"
      ]
     },
     "execution_count": 67,
     "metadata": {},
     "output_type": "execute_result"
    }
   ],
   "source": [
    "l = [0,1,2,3,4,5] # 5 will be taken out and return to user.\n",
    "l.pop()"
   ]
  },
  {
   "cell_type": "code",
   "execution_count": 9,
   "id": "07af3805",
   "metadata": {},
   "outputs": [
    {
     "name": "stdout",
     "output_type": "stream",
     "text": [
      "['apple', 'cherry']\n"
     ]
    }
   ],
   "source": [
    "l = ['apple', 'banana', 'cherry']\n",
    "l.pop(1)\n",
    "print(l)"
   ]
  },
  {
   "cell_type": "code",
   "execution_count": 17,
   "id": "e4fbf345",
   "metadata": {},
   "outputs": [
    {
     "data": {
      "text/plain": [
       "'apple'"
      ]
     },
     "execution_count": 17,
     "metadata": {},
     "output_type": "execute_result"
    }
   ],
   "source": [
    "l.pop()"
   ]
  },
  {
   "cell_type": "code",
   "execution_count": null,
   "id": "b42380a9",
   "metadata": {},
   "outputs": [],
   "source": []
  }
 ],
 "metadata": {
  "kernelspec": {
   "display_name": "Python 3 (ipykernel)",
   "language": "python",
   "name": "python3"
  },
  "language_info": {
   "codemirror_mode": {
    "name": "ipython",
    "version": 3
   },
   "file_extension": ".py",
   "mimetype": "text/x-python",
   "name": "python",
   "nbconvert_exporter": "python",
   "pygments_lexer": "ipython3",
   "version": "3.11.5"
  }
 },
 "nbformat": 4,
 "nbformat_minor": 5
}
