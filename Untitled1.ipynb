{
 "cells": [
  {
   "cell_type": "markdown",
   "id": "aa1e53f9",
   "metadata": {},
   "source": [
    "# strings()\n",
    "* A String is a data structure in Python that represents a sequence of characters. It is an immutable data type, meaning that once you have created a string, you cannot change it. Strings are used widely in many different applications, such as storing and manipulating text data, representing names, addresses, and other types of data that can be represented as text. "
   ]
  },
  {
   "cell_type": "markdown",
   "id": "48eb7b29",
   "metadata": {},
   "source": [
    "# capitalize()"
   ]
  },
  {
   "cell_type": "code",
   "execution_count": 28,
   "id": "ffc583ec",
   "metadata": {},
   "outputs": [
    {
     "name": "stdout",
     "output_type": "stream",
     "text": [
      "Hello, and welcome to my world.\n"
     ]
    }
   ],
   "source": [
    "txt = \"hello, and welcome to my world.\"\n",
    "x = txt.capitalize()\n",
    "print (x)"
   ]
  },
  {
   "cell_type": "code",
   "execution_count": 29,
   "id": "463b6cd8",
   "metadata": {},
   "outputs": [
    {
     "name": "stdout",
     "output_type": "stream",
     "text": [
      "My selp pavan kumar\n"
     ]
    }
   ],
   "source": [
    "txt = \"my selp pavan kumar\"\n",
    "x= txt.capitalize()\n",
    "print(x)"
   ]
  },
  {
   "cell_type": "markdown",
   "id": "d66f58e2",
   "metadata": {},
   "source": [
    "# Syntax\n",
    "\n",
    "* The first character is converted to upper case, and the rest are converted to lower case:\n",
    "\n"
   ]
  },
  {
   "cell_type": "code",
   "execution_count": 24,
   "id": "914a5258",
   "metadata": {},
   "outputs": [
    {
     "name": "stdout",
     "output_type": "stream",
     "text": [
      "Karthik is a romantic boy!\n"
     ]
    }
   ],
   "source": [
    "txt = \"karthik is a romantic boy!\"\n",
    "x = txt.capitalize()\n",
    "print (x)"
   ]
  },
  {
   "cell_type": "code",
   "execution_count": 25,
   "id": "ad7cbb91",
   "metadata": {},
   "outputs": [
    {
     "name": "stdout",
     "output_type": "stream",
     "text": [
      "Karthik age is 28.\n"
     ]
    }
   ],
   "source": [
    "txt = \"karthik age is 28.\"\n",
    "x = txt.capitalize()\n",
    "print (x)"
   ]
  },
  {
   "cell_type": "code",
   "execution_count": 27,
   "id": "7599012f",
   "metadata": {},
   "outputs": [
    {
     "name": "stdout",
     "output_type": "stream",
     "text": [
      "Pavan karthik bhanu naveen\n"
     ]
    }
   ],
   "source": [
    "txt = \"pavan karthik bhanu naveen\"\n",
    "x= txt.capitalize()\n",
    "print(x)"
   ]
  },
  {
   "cell_type": "markdown",
   "id": "c81cc10c",
   "metadata": {},
   "source": [
    "# casefold()"
   ]
  },
  {
   "cell_type": "code",
   "execution_count": 11,
   "id": "fbf9ac7c",
   "metadata": {},
   "outputs": [
    {
     "name": "stdout",
     "output_type": "stream",
     "text": [
      "pavan kumar is a good boy!\n"
     ]
    }
   ],
   "source": [
    "txt = \"PAVAN KUMAR IS A GOOD BOY!\"\n",
    "x = txt.casefold()\n",
    "print(x)"
   ]
  },
  {
   "cell_type": "code",
   "execution_count": 10,
   "id": "278ec960",
   "metadata": {},
   "outputs": [
    {
     "name": "stdout",
     "output_type": "stream",
     "text": [
      "bhanu pavan naveen\n"
     ]
    }
   ],
   "source": [
    "txt=\"bhanu pavan naveen\"\n",
    "x=txt.casefold()\n",
    "print(x)"
   ]
  },
  {
   "cell_type": "markdown",
   "id": "17e7a277",
   "metadata": {},
   "source": [
    "# center()\n",
    "* The casefold() method returns a string where all the characters are lower case.\n",
    "* This method is similar to the lower() method, but the casefold() method is stronger, more aggressive, meaning that it will * more characters into lower case, and will find more matches when comparing two strings and both are converted using the casefold() method.\n",
    "\n",
    "Syntax string.casefold()"
   ]
  },
  {
   "cell_type": "code",
   "execution_count": 17,
   "id": "e6a9e878",
   "metadata": {},
   "outputs": [
    {
     "name": "stdout",
     "output_type": "stream",
     "text": [
      "       pavan        \n"
     ]
    }
   ],
   "source": [
    "txt = \"pavan\"\n",
    "x = txt.center(20)\n",
    "print(x)"
   ]
  },
  {
   "cell_type": "code",
   "execution_count": 19,
   "id": "739b245d",
   "metadata": {},
   "outputs": [
    {
     "name": "stdout",
     "output_type": "stream",
     "text": [
      "7777777pavan77777777\n"
     ]
    }
   ],
   "source": [
    "txt = \"pavan\"\n",
    "x = txt.center(20, \"7\")\n",
    "print(x)"
   ]
  },
  {
   "cell_type": "code",
   "execution_count": 23,
   "id": "db295498",
   "metadata": {},
   "outputs": [
    {
     "name": "stdout",
     "output_type": "stream",
     "text": [
      "888888888888888888888karthik8888888888888888888888\n"
     ]
    }
   ],
   "source": [
    "txt =\"karthik\"\n",
    "x = txt.center(50,'8')\n",
    "print(x)"
   ]
  },
  {
   "cell_type": "markdown",
   "id": "526b24f9",
   "metadata": {},
   "source": [
    "# count()\n",
    "* The count() method returns the number of times a specified value appears in the string.\n",
    "Syntax string.count(value, start, end)\n"
   ]
  },
  {
   "cell_type": "markdown",
   "id": "9679cb43",
   "metadata": {},
   "source": [
    "# Parameter Values\n",
    "value Required. A String. The string to value to search for\n",
    "Optional. An Integer. The position to start the search. Default is 0\n",
    "end Optional. An Integer. The position to end the search. Default is the end of the string"
   ]
  },
  {
   "cell_type": "code",
   "execution_count": 34,
   "id": "3e9e3c73",
   "metadata": {},
   "outputs": [
    {
     "name": "stdout",
     "output_type": "stream",
     "text": [
      "1\n"
     ]
    }
   ],
   "source": [
    "x = \"I love you, you are my favorite person\"\n",
    "x = txt.count(\"love\")\n",
    "print(x)"
   ]
  },
  {
   "cell_type": "code",
   "execution_count": 35,
   "id": "db0c0dd0",
   "metadata": {},
   "outputs": [
    {
     "name": "stdout",
     "output_type": "stream",
     "text": [
      "1\n"
     ]
    }
   ],
   "source": [
    "x = \"I love you, you are my favorite person\"\n",
    "x = txt.count(\"you\", 10, 24)\n",
    "print(x)"
   ]
  },
  {
   "cell_type": "code",
   "execution_count": 39,
   "id": "4518b644",
   "metadata": {},
   "outputs": [
    {
     "name": "stdout",
     "output_type": "stream",
     "text": [
      "i love you, you are my favorite person i love apples,apple are my fevorite furts\n"
     ]
    }
   ],
   "source": [
    "x=\"i love you, you are my favorite person\"\n",
    "y=\"i love apples,apple are my fevorite furts\"\n",
    "print(x,y)"
   ]
  },
  {
   "cell_type": "markdown",
   "id": "1f57d7cf",
   "metadata": {},
   "source": [
    "# encode()\n",
    "* The encode() method encodes the string, using the specified encoding. If no encoding is specified, UTF-8 will be used.\n",
    "* Syntax string.encode(encoding=encoding, errors=errors)\n"
   ]
  },
  {
   "cell_type": "markdown",
   "id": "61d6a4d7",
   "metadata": {},
   "source": [
    "# Parameter Values\n",
    "* encoding Optional. A String specifying the encoding to use. Default is UTF-8\n",
    "* errors Optional. A String specifying the error method. Legal values are:\n",
    "* 'backslashreplace'--->uses a backslash instead of the character that could not be encoded\n",
    "* 'ignore' ----> ignores the characters that cannot be encoded\n",
    "* 'namereplace' ----> replaces the character with a text explaining the character\n",
    "* 'strict' ----> Default, raises an error on failure\n",
    "* 'replace' ----> replaces the character with a questionmark\n",
    "* 'xmlcharrefreplace'-> replaces the character with an xml character\n"
   ]
  },
  {
   "cell_type": "code",
   "execution_count": 14,
   "id": "f8396dd9",
   "metadata": {},
   "outputs": [
    {
     "name": "stdout",
     "output_type": "stream",
     "text": [
      "b'Hello, welcome to my world.'\n",
      "b'Hello, welcome to my world.'\n",
      "b'Hello, welcome to my world.'\n",
      "b'Hello, welcome to my world.'\n",
      "b'Hello, welcome to my world.'\n"
     ]
    }
   ],
   "source": [
    "x = \"My name is Ståle\"\n",
    "print(txt.encode(encoding=\"ascii\",errors=\"backslashreplace\"))\n",
    "print(txt.encode(encoding=\"ascii\",errors=\"ignore\"))\n",
    "print(txt.encode(encoding=\"ascii\",errors=\"namereplace\"))\n",
    "print(txt.encode(encoding=\"ascii\",errors=\"replace\"))\n",
    "print(txt.encode(encoding=\"ascii\",errors=\"xmlcharrefreplace\"))"
   ]
  },
  {
   "cell_type": "code",
   "execution_count": 15,
   "id": "fed16c8b",
   "metadata": {},
   "outputs": [
    {
     "name": "stdout",
     "output_type": "stream",
     "text": [
      "b'Hello, welcome to my world.'\n"
     ]
    }
   ],
   "source": [
    "x = \"My name is Ståle\"\n",
    "x = txt.encode()\n",
    "print(x)"
   ]
  },
  {
   "cell_type": "markdown",
   "id": "2e0ff6a7",
   "metadata": {},
   "source": [
    "# endswith()\n",
    "* The endswith() method returns True if the string ends with the specified value, otherwise False.\n",
    "* Syntax string.endswith(value, start, end)"
   ]
  },
  {
   "cell_type": "markdown",
   "id": "0469f486",
   "metadata": {},
   "source": [
    "# Parameter Values\n",
    "* value Required. The value to check if the string ends with\n",
    "* start Optional. An Integer specifying at which position to start the search\n",
    "* end Optional. An Integer specifying at which position to end the search"
   ]
  },
  {
   "cell_type": "code",
   "execution_count": 16,
   "id": "7e3eb9c0",
   "metadata": {},
   "outputs": [
    {
     "name": "stdout",
     "output_type": "stream",
     "text": [
      "True\n"
     ]
    }
   ],
   "source": [
    "x = \"Hello, welcome to my world.\"\n",
    "x = txt.endswith(\"my world.\")\n",
    "print(x)"
   ]
  },
  {
   "cell_type": "code",
   "execution_count": 18,
   "id": "cf007faf",
   "metadata": {},
   "outputs": [
    {
     "data": {
      "text/plain": [
       "False"
      ]
     },
     "execution_count": 18,
     "metadata": {},
     "output_type": "execute_result"
    }
   ],
   "source": [
    "txt.endswith(\"my world.\", 5, 11)"
   ]
  },
  {
   "cell_type": "markdown",
   "id": "ff994f99",
   "metadata": {},
   "source": [
    "# find()\n",
    "* The find() method finds the first occurrence of the specified value.\n",
    "\n",
    "* The find() method returns -1 if the value is not found.\n",
    "\n",
    "* find() method is almost the same as the index() method, the only difference is that the index() method raises an exception if the value is not found. (See example below)\n",
    "\n",
    "Syntax string.find(value, start, end)"
   ]
  },
  {
   "cell_type": "code",
   "execution_count": 19,
   "id": "ed436b70",
   "metadata": {},
   "outputs": [
    {
     "name": "stdout",
     "output_type": "stream",
     "text": [
      "7\n"
     ]
    }
   ],
   "source": [
    "x = \"Hello, welcome to my world.\"\n",
    "x = txt.find(\"welcome\")\n",
    "print(x)"
   ]
  },
  {
   "cell_type": "code",
   "execution_count": 21,
   "id": "638ec8b7",
   "metadata": {},
   "outputs": [
    {
     "data": {
      "text/plain": [
       "1"
      ]
     },
     "execution_count": 21,
     "metadata": {},
     "output_type": "execute_result"
    }
   ],
   "source": [
    "txt.find(\"e\")"
   ]
  },
  {
   "cell_type": "code",
   "execution_count": 8,
   "id": "9f71cf9c",
   "metadata": {},
   "outputs": [
    {
     "data": {
      "text/plain": [
       "8"
      ]
     },
     "execution_count": 8,
     "metadata": {},
     "output_type": "execute_result"
    }
   ],
   "source": [
    "txt.find(\"e\", 5, 10)\n"
   ]
  },
  {
   "cell_type": "markdown",
   "id": "fe2d0687",
   "metadata": {},
   "source": [
    "# index()\n",
    "* The index() method finds the first occurrence of the specified value.\n",
    "\n",
    "* The index() method raises an exception if the value is not found.\n",
    "\n",
    "* The index() method is almost the same as the find() method, the only difference is that the find() method returns -1 if the value is not found. (See example below)\n",
    "\n",
    "Syntax string.index(value, start, end)"
   ]
  },
  {
   "cell_type": "markdown",
   "id": "cf08f50f",
   "metadata": {},
   "source": [
    "# Parameter Values\n",
    "* value -----> Required. The value to search for\n",
    "* start------> Optional. Where to start the search. Default is 0\n",
    "* end --------> Optional. Where to end the search. Default is to the end of the string"
   ]
  },
  {
   "cell_type": "code",
   "execution_count": 22,
   "id": "a7e7f15c",
   "metadata": {},
   "outputs": [
    {
     "name": "stdout",
     "output_type": "stream",
     "text": [
      "7\n"
     ]
    }
   ],
   "source": [
    "x = \"Hello, welcome to my world.\"\n",
    "x = txt.index(\"welcome\")\n",
    "print(x)"
   ]
  },
  {
   "cell_type": "code",
   "execution_count": 24,
   "id": "3e2bddf2",
   "metadata": {},
   "outputs": [
    {
     "data": {
      "text/plain": [
       "1"
      ]
     },
     "execution_count": 24,
     "metadata": {},
     "output_type": "execute_result"
    }
   ],
   "source": [
    "txt.index(\"e\")"
   ]
  },
  {
   "cell_type": "code",
   "execution_count": 11,
   "id": "bb97a06f",
   "metadata": {},
   "outputs": [
    {
     "data": {
      "text/plain": [
       "8"
      ]
     },
     "execution_count": 11,
     "metadata": {},
     "output_type": "execute_result"
    }
   ],
   "source": [
    " txt.index(\"e\", 5, 10)"
   ]
  },
  {
   "cell_type": "markdown",
   "id": "824db17c",
   "metadata": {},
   "source": [
    "# isdecimal()\n",
    "* The isdecimal() method returns True if all the characters are decimals (0-9).\n",
    "\n",
    "* This method can also be used on unicode objects. See example below.\n",
    "\n",
    "Syntax string.isdecimal()"
   ]
  },
  {
   "cell_type": "code",
   "execution_count": 13,
   "id": "8ac203d7",
   "metadata": {},
   "outputs": [
    {
     "name": "stdout",
     "output_type": "stream",
     "text": [
      "True\n",
      "False\n"
     ]
    }
   ],
   "source": [
    "a = \"\\u0030\" #unicode for 0\n",
    "b = \"\\u0047\" #unicode for G\n",
    "print(a.isdecimal())\n",
    "print(b.isdecimal())"
   ]
  },
  {
   "cell_type": "markdown",
   "id": "1e313472",
   "metadata": {},
   "source": [
    "# isspace()\n",
    "* The isspace() method returns True if all the characters in a string are whitespaces, otherwise False.\n",
    "* Syntax string.isspace()"
   ]
  },
  {
   "cell_type": "code",
   "execution_count": 25,
   "id": "06e415fc",
   "metadata": {},
   "outputs": [
    {
     "name": "stdout",
     "output_type": "stream",
     "text": [
      "False\n"
     ]
    }
   ],
   "source": [
    "txt = \"   s   \"\n",
    "x = txt.isspace()\n",
    "print(x)"
   ]
  },
  {
   "cell_type": "markdown",
   "id": "b1a65a58",
   "metadata": {},
   "source": [
    "# istitle()\n",
    "* The istitle() method returns True if all words in a text start with a upper case letter, AND the rest of the word are lower case letters, otherwise False.\n",
    "\n",
    "* and numbers are ignored.\n",
    "\n",
    "Syntax string.istitle()"
   ]
  },
  {
   "cell_type": "code",
   "execution_count": 26,
   "id": "e8826c9b",
   "metadata": {},
   "outputs": [
    {
     "name": "stdout",
     "output_type": "stream",
     "text": [
      "False\n",
      "True\n",
      "True\n",
      "True\n"
     ]
    }
   ],
   "source": [
    "a = \"HELLO, AND WELCOME TO MY WORLD\"\n",
    "b = \"Hello\"\n",
    "c = \"22 Names\"\n",
    "d = \"This Is %'!?\"\n",
    "\n",
    "print(a.istitle())\n",
    "print(b.istitle())\n",
    "print(c.istitle())\n",
    "print(d.istitle())"
   ]
  },
  {
   "cell_type": "markdown",
   "id": "f29678a0",
   "metadata": {},
   "source": [
    "# join()\n",
    "* The join() method takes all items in an iterable and joins them into one string.\n",
    "\n",
    "* A string must be specified as the separator.\n",
    "\n",
    "Syntax string.join(iterable)"
   ]
  },
  {
   "cell_type": "markdown",
   "id": "01e84225",
   "metadata": {},
   "source": [
    "# Parameter Values\n",
    "* iterable------>Required. Any iterable object where all the returned values are strings"
   ]
  },
  {
   "cell_type": "code",
   "execution_count": 27,
   "id": "0a8d3aa7",
   "metadata": {},
   "outputs": [
    {
     "data": {
      "text/plain": [
       "'nameTESTcountry'"
      ]
     },
     "execution_count": 27,
     "metadata": {},
     "output_type": "execute_result"
    }
   ],
   "source": [
    "myDict = {\"name\": \"John\", \"country\": \"Norway\"}\n",
    "mySeparator = \"TEST\"\n",
    "x = mySeparator.join(myDict)\n",
    "x"
   ]
  },
  {
   "cell_type": "markdown",
   "id": "e85f82d0",
   "metadata": {},
   "source": [
    "# ljust()\n",
    "* The ljust() method will left align the string, using a specified character (space is default) as the fill character.\n",
    "* Syntax string.ljust(length, character)"
   ]
  },
  {
   "cell_type": "markdown",
   "id": "9c401aff",
   "metadata": {},
   "source": [
    "# Parameter Values\n",
    "* length---->Required. The length of the returned string\n",
    "* character---->Optional. A character to fill the missing space (to the right of the string). Default is \" \" (space)."
   ]
  },
  {
   "cell_type": "code",
   "execution_count": 29,
   "id": "c2a16b8b",
   "metadata": {},
   "outputs": [
    {
     "name": "stdout",
     "output_type": "stream",
     "text": [
      "banana##############\n"
     ]
    }
   ],
   "source": [
    "txt = \"banana\"\n",
    "x = txt.ljust(20, \"#\")\n",
    "print(x)"
   ]
  },
  {
   "cell_type": "markdown",
   "id": "c3d6e1b1",
   "metadata": {},
   "source": [
    "# lower()\n",
    "* The lower() method returns a string where all characters are lower case.\n",
    "\n",
    "* Symbols and Numbers are ignored.\n",
    "\n",
    "* Syntax string.lower()"
   ]
  },
  {
   "cell_type": "code",
   "execution_count": 30,
   "id": "03f61e8f",
   "metadata": {},
   "outputs": [
    {
     "name": "stdout",
     "output_type": "stream",
     "text": [
      "hello my friends\n"
     ]
    }
   ],
   "source": [
    "txt = \"Hello my FRIENDS\"\n",
    "x = txt.lower()\n",
    "print(x)"
   ]
  },
  {
   "cell_type": "code",
   "execution_count": 31,
   "id": "ff9b488a",
   "metadata": {},
   "outputs": [
    {
     "data": {
      "text/plain": [
       "'i love you maaa'"
      ]
     },
     "execution_count": 31,
     "metadata": {},
     "output_type": "execute_result"
    }
   ],
   "source": [
    "txt = \"i love you maaa\"\n",
    "txt.lower()"
   ]
  },
  {
   "cell_type": "markdown",
   "id": "26931a4e",
   "metadata": {},
   "source": [
    "# lstrip()\n",
    "* The lstrip() method removes any leading characters (space is the default leading character to remove)\n",
    "\n",
    "Syntax string.lstrip(characters)"
   ]
  },
  {
   "cell_type": "markdown",
   "id": "91ba9a20",
   "metadata": {},
   "source": [
    "# Parameter Value\n",
    "* characters------>Optional. A set of characters to remove as leading characters"
   ]
  },
  {
   "cell_type": "code",
   "execution_count": 32,
   "id": "fd08321a",
   "metadata": {},
   "outputs": [
    {
     "name": "stdout",
     "output_type": "stream",
     "text": [
      "banana\n"
     ]
    }
   ],
   "source": [
    "txt = \",,,,,ssaaww.....banana\"\n",
    "x = txt.lstrip(\",.asw\")\n",
    "print(x)"
   ]
  },
  {
   "cell_type": "markdown",
   "id": "3b35545b",
   "metadata": {},
   "source": [
    "# partition()\n",
    "* The partition() method searches for a specified string, and splits the string into a tuple containing three elements.\n",
    "\n",
    "* The first element contains the part before the specified string.\n",
    "\n",
    "* The second element contains the specified string.\n",
    "\n",
    "* The third element contains the part after the string.\n",
    "\n",
    "( Note: This method searches for the first occurrence of the specified string.)\n",
    "\n",
    "Syntax string.partition(value)"
   ]
  },
  {
   "cell_type": "markdown",
   "id": "58e9af3b",
   "metadata": {},
   "source": [
    "# Parameter Values\n",
    "* value----->Required. The string to search for"
   ]
  },
  {
   "cell_type": "code",
   "execution_count": 33,
   "id": "979b7cfc",
   "metadata": {},
   "outputs": [
    {
     "name": "stdout",
     "output_type": "stream",
     "text": [
      "('I could eat bananas all day', '', '')\n"
     ]
    }
   ],
   "source": [
    "txt = \"I could eat bananas all day\"\n",
    "x = txt.partition(\"apples\")\n",
    "print(x)"
   ]
  },
  {
   "cell_type": "code",
   "execution_count": 34,
   "id": "0798412c",
   "metadata": {},
   "outputs": [
    {
     "data": {
      "text/plain": [
       "('', 'na', 'ni')"
      ]
     },
     "execution_count": 34,
     "metadata": {},
     "output_type": "execute_result"
    }
   ],
   "source": [
    "txt = \"nani\"\n",
    "txt.partition('na')"
   ]
  },
  {
   "cell_type": "markdown",
   "id": "309b2591",
   "metadata": {},
   "source": [
    "# replace()\n",
    "* The replace() method replaces a specified phrase with another specified phrase.\n",
    "* (Note: All occurrences of the specified phrase will be replaced, if nothing else is specified.)\n",
    "\n",
    "Syntax string.replace(oldvalue, newvalue, count)"
   ]
  },
  {
   "cell_type": "markdown",
   "id": "c03f92d3",
   "metadata": {},
   "source": [
    "# Parameter Values\n",
    "* oldvalue--->Required. The string to search for\n",
    "* newvalue---->Required. The string to replace the old value with\n",
    "* count---->Optional. A number specifying how many occurrences of the old value you want to replace. Default is all occurrences"
   ]
  },
  {
   "cell_type": "code",
   "execution_count": 35,
   "id": "8e0f52b5",
   "metadata": {},
   "outputs": [
    {
     "name": "stdout",
     "output_type": "stream",
     "text": [
      "three three was a race horse, two two was three too.\n"
     ]
    }
   ],
   "source": [
    "txt = \"one one was a race horse, two two was one too.\"\n",
    "x = txt.replace(\"one\", \"three\")\n",
    "print(x)"
   ]
  },
  {
   "cell_type": "code",
   "execution_count": 36,
   "id": "d7a67810",
   "metadata": {},
   "outputs": [
    {
     "data": {
      "text/plain": [
       "'three three was a race horse, two two was one too.'"
      ]
     },
     "execution_count": 36,
     "metadata": {},
     "output_type": "execute_result"
    }
   ],
   "source": [
    "txt = \"one one was a race horse, two two was one too.\"\n",
    "x = txt.replace(\"one\", \"three\", 2)\n",
    "x"
   ]
  },
  {
   "cell_type": "markdown",
   "id": "99fec606",
   "metadata": {},
   "source": [
    "# rfind()\n",
    "* The rfind() method finds the last occurrence of the specified value.\n",
    "\n",
    "* The rfind() method returns -1 if the value is not found.\n",
    "\n",
    "* The rfind() method is almost the same as the rindex() method. See example below.\n",
    "\n",
    "Syntax string.rfind(value, start, end)"
   ]
  },
  {
   "cell_type": "markdown",
   "id": "a87de61c",
   "metadata": {},
   "source": [
    "# Parameter Values\n",
    "* value----->Required. The value to search for\n",
    "* start------>Optional. Where to start the search. Default is 0\n",
    "* end----->Optional. Where to end the search. Default is to the end of the string"
   ]
  },
  {
   "cell_type": "code",
   "execution_count": 44,
   "id": "cebe31d5",
   "metadata": {},
   "outputs": [
    {
     "name": "stdout",
     "output_type": "stream",
     "text": [
      "13\n"
     ]
    }
   ],
   "source": [
    "txt = \"Hello, welcome to my world.\"\n",
    "x = txt.rfind(\"e\")\n",
    "print(x)"
   ]
  },
  {
   "cell_type": "code",
   "execution_count": 45,
   "id": "60d70104",
   "metadata": {},
   "outputs": [
    {
     "data": {
      "text/plain": [
       "15"
      ]
     },
     "execution_count": 45,
     "metadata": {},
     "output_type": "execute_result"
    }
   ],
   "source": [
    "txt.rfind(\"t\")"
   ]
  },
  {
   "cell_type": "code",
   "execution_count": 40,
   "id": "1adf20c3",
   "metadata": {},
   "outputs": [
    {
     "data": {
      "text/plain": [
       "12"
      ]
     },
     "execution_count": 40,
     "metadata": {},
     "output_type": "execute_result"
    }
   ],
   "source": [
    "txt = \"Mi casa, su casa.\"\n",
    "x = txt.rfind(\"casa\")\n",
    "x"
   ]
  },
  {
   "cell_type": "markdown",
   "id": "acb31d5d",
   "metadata": {},
   "source": [
    "# rindex()\n",
    "* The rindex() method finds the last occurrence of the specified value.\n",
    "\n",
    "* The rindex() method raises an exception if the value is not found.\n",
    "\n",
    "* The rindex() method is almost the same as the rfind() method. See example below.\n",
    "\n",
    "Syntax string.rindex(value, start, end)"
   ]
  },
  {
   "cell_type": "markdown",
   "id": "d5024845",
   "metadata": {},
   "source": [
    "# Parameter Values\n",
    "* value---->Required. The value to search for\n",
    "* start---->Optional. Where to start the search. Default is 0\n",
    "* end--->Optional. Where to end the search. Default is to the end of the string"
   ]
  },
  {
   "cell_type": "code",
   "execution_count": 47,
   "id": "89f1bfcd",
   "metadata": {},
   "outputs": [
    {
     "name": "stdout",
     "output_type": "stream",
     "text": [
      "8\n"
     ]
    }
   ],
   "source": [
    "txt = \"Hello, welcome to my world.\"\n",
    "x = txt.rindex(\"e\", 5, 10)\n",
    "print(x)"
   ]
  },
  {
   "cell_type": "code",
   "execution_count": 52,
   "id": "4705f8e0",
   "metadata": {},
   "outputs": [
    {
     "name": "stdout",
     "output_type": "stream",
     "text": [
      "('e', 3, 5)\n"
     ]
    }
   ],
   "source": [
    "txt = \"Hello, welcome to my world.\"\n",
    "x = (\"e\",3,5)\n",
    "print(x)"
   ]
  },
  {
   "cell_type": "markdown",
   "id": "4fe5cac1",
   "metadata": {},
   "source": [
    "# rjust()\n",
    "* The rjust() method will right align the string, using a specified character (space is default) as the fill character.\n",
    "\n",
    "Syntax string.rjust(length, character)"
   ]
  },
  {
   "cell_type": "markdown",
   "id": "344552a1",
   "metadata": {},
   "source": [
    "# Parameter Values\n",
    "* length---=>Required. The length of the returned string\n",
    "* character---->Optional. A character to fill the missing space (to the left of the string). Default is \" \" (space)."
   ]
  },
  {
   "cell_type": "code",
   "execution_count": 53,
   "id": "b1006b44",
   "metadata": {},
   "outputs": [
    {
     "name": "stdout",
     "output_type": "stream",
     "text": [
      "OOOOOOOOOOOOOObanana\n"
     ]
    }
   ],
   "source": [
    "txt = \"banana\"\n",
    "x = txt.rjust(20, \"O\")\n",
    "print(x)"
   ]
  },
  {
   "cell_type": "code",
   "execution_count": 55,
   "id": "274dc38d",
   "metadata": {},
   "outputs": [
    {
     "name": "stdout",
     "output_type": "stream",
     "text": [
      "99999999999999999999999999999999999999999999banana\n"
     ]
    }
   ],
   "source": [
    "x='apple'\n",
    "x=txt.rjust(50,\"9\")\n",
    "print(x)"
   ]
  },
  {
   "cell_type": "markdown",
   "id": "85208dcd",
   "metadata": {},
   "source": [
    "# rpartition()\n",
    "* The rpartition() method searches for the last occurrence of a specified string, and splits the string into a tuple containing three elements.\n",
    "\n",
    "* The first element contains the part before the specified string.\n",
    "\n",
    "* The second element contains the specified string.\n",
    "\n",
    "* The third element contains the part after the string.\n",
    "\n",
    "Syntax string.rpartition(value)"
   ]
  },
  {
   "cell_type": "markdown",
   "id": "87fce5ad",
   "metadata": {},
   "source": [
    "# Parameter Values\n",
    "* value---->Required. The string to search for"
   ]
  },
  {
   "cell_type": "code",
   "execution_count": 57,
   "id": "79a588ef",
   "metadata": {},
   "outputs": [
    {
     "name": "stdout",
     "output_type": "stream",
     "text": [
      "('', '', 'I could eat bananas all day, bananas are my favorite fruit')\n"
     ]
    }
   ],
   "source": [
    "txt = \"I could eat bananas all day, bananas are my favorite fruit\"\n",
    "x = txt.rpartition(\"apples\")\n",
    "print(x)"
   ]
  },
  {
   "cell_type": "markdown",
   "id": "611d9afb",
   "metadata": {},
   "source": [
    "# rsplit()\n",
    "* The rsplit() method splits a string into a list, starting from the right.\n",
    "\n",
    "* If no \"max\" is specified, this method will return the same as the split() method.\n",
    "\n",
    "(Note: When maxsplit is specified, the list will contain the specified number of elements plus one.)\n",
    "\n",
    "Syntax string.rsplit(separator, maxsplit)"
   ]
  },
  {
   "cell_type": "markdown",
   "id": "a1a22871",
   "metadata": {},
   "source": [
    "# Parameter Values\n",
    "* separator----->Optional. Specifies the separator to use when splitting the string. By default any whitespace is a separator*\n",
    "* maxsplit------>Optional. Specifies how many splits to do. Default value is -1, which is \"all occurrences\""
   ]
  },
  {
   "cell_type": "code",
   "execution_count": 59,
   "id": "5f00d76f",
   "metadata": {},
   "outputs": [
    {
     "name": "stdout",
     "output_type": "stream",
     "text": [
      "['apple, banana', 'cherry']\n"
     ]
    }
   ],
   "source": [
    "txt = \"apple, banana, cherry\"\n",
    "# setting the maxsplit parameter to 1, will return a list with 2 elements!\n",
    "x = txt.rsplit(\", \", 1)\n",
    "print(x)"
   ]
  },
  {
   "cell_type": "code",
   "execution_count": 61,
   "id": "9bafe415",
   "metadata": {},
   "outputs": [
    {
     "name": "stdout",
     "output_type": "stream",
     "text": [
      "['apple', ' banana', ' cherry']\n"
     ]
    }
   ],
   "source": [
    "x=\"pavan,shashi,shiva\"\n",
    "x=txt.rsplit(\",\",4)\n",
    "print(x)"
   ]
  },
  {
   "cell_type": "markdown",
   "id": "4ca89058",
   "metadata": {},
   "source": [
    "# rstrip()\n",
    "* The rstrip() method removes any trailing characters (characters at the end a string), space is the default trailing character to remove.\n",
    "\n",
    "Syntax string.rstrip(characters)"
   ]
  },
  {
   "cell_type": "markdown",
   "id": "94918996",
   "metadata": {},
   "source": [
    "# Parameter Values\n",
    "* characters------>Optional. A set of characters to remove as trailing characters"
   ]
  },
  {
   "cell_type": "code",
   "execution_count": 62,
   "id": "1a653547",
   "metadata": {},
   "outputs": [
    {
     "name": "stdout",
     "output_type": "stream",
     "text": [
      "banana\n"
     ]
    }
   ],
   "source": [
    "txt = \"banana,,,,,ssqqqww.....\"\n",
    "x = txt.rstrip(\",.qsw\")\n",
    "print(x)"
   ]
  },
  {
   "cell_type": "code",
   "execution_count": 63,
   "id": "09db2d4e",
   "metadata": {},
   "outputs": [
    {
     "data": {
      "text/plain": [
       "'banana,,,,,ssqqq'"
      ]
     },
     "execution_count": 63,
     "metadata": {},
     "output_type": "execute_result"
    }
   ],
   "source": [
    " txt.rstrip(\".....w\")"
   ]
  },
  {
   "cell_type": "markdown",
   "id": "8ed00957",
   "metadata": {},
   "source": [
    "# split()\n",
    "* The split() method splits a string into a list.\n",
    "\n",
    "* You can specify the separator, default separator is any whitespace.\n",
    "\n",
    "(Note: When maxsplit is specified, the list will contain the specified number of elements plus one.)\n",
    "\n",
    "Syntax string.split(separator, maxsplit)"
   ]
  },
  {
   "cell_type": "markdown",
   "id": "cb09a307",
   "metadata": {},
   "source": [
    "# Parameter Values\n",
    "* separator------->Optional. Specifies the separator to use when splitting the string. By default any whitespace is a separator\n",
    "* maxsplit------->Optional. Specifies how many splits to do. Default value is -1, which is \"all occurrences\""
   ]
  },
  {
   "cell_type": "code",
   "execution_count": 64,
   "id": "9a760081",
   "metadata": {},
   "outputs": [
    {
     "name": "stdout",
     "output_type": "stream",
     "text": [
      "['hello', 'my name is Peter', 'I am 26 years old']\n"
     ]
    }
   ],
   "source": [
    "txt = \"hello, my name is Peter, I am 26 years old\"\n",
    "x = txt.split(\", \")\n",
    "print(x)"
   ]
  },
  {
   "cell_type": "code",
   "execution_count": 65,
   "id": "f7caea96",
   "metadata": {},
   "outputs": [
    {
     "data": {
      "text/plain": [
       "['apple', 'banana', 'cherry', 'orange']"
      ]
     },
     "execution_count": 65,
     "metadata": {},
     "output_type": "execute_result"
    }
   ],
   "source": [
    "txt = \"apple#banana#cherry#orange\"\n",
    "x = txt.split(\"#\")\n",
    "x"
   ]
  },
  {
   "cell_type": "code",
   "execution_count": 66,
   "id": "0f141309",
   "metadata": {},
   "outputs": [
    {
     "data": {
      "text/plain": [
       "['apple', 'banana#cherry#orange']"
      ]
     },
     "execution_count": 66,
     "metadata": {},
     "output_type": "execute_result"
    }
   ],
   "source": [
    "txt.split(\"#\", 1) # setting the maxsplit parameter to 1, will return a list with 2 elements!"
   ]
  },
  {
   "cell_type": "markdown",
   "id": "aee188f6",
   "metadata": {},
   "source": [
    "# splitlines()\n",
    "* The splitlines() method splits a string into a list. The splitting is done at line breaks.\n",
    "\n",
    "Syntax string.splitlines(keeplinebreaks)"
   ]
  },
  {
   "cell_type": "markdown",
   "id": "69f1f23c",
   "metadata": {},
   "source": [
    "# Parameter Values\n",
    "* keeplinebreaks------->Optional. Specifies if the line breaks should be included (True), or not (False). Default value is False"
   ]
  },
  {
   "cell_type": "code",
   "execution_count": 67,
   "id": "b35aeb29",
   "metadata": {},
   "outputs": [
    {
     "name": "stdout",
     "output_type": "stream",
     "text": [
      "['Thank you for the music\\n', 'Welcome to the jungle']\n"
     ]
    }
   ],
   "source": [
    "txt = \"Thank you for the music\\nWelcome to the jungle\"\n",
    "x = txt.splitlines(True)\n",
    "print(x)"
   ]
  },
  {
   "cell_type": "markdown",
   "id": "a04b0e41",
   "metadata": {},
   "source": [
    "# startswith()\n",
    "* The startswith() method returns True if the string starts with the specified value, otherwise False.\n",
    "\n",
    "Syntax string.startswith(value, start, end)"
   ]
  },
  {
   "cell_type": "markdown",
   "id": "b349a57f",
   "metadata": {},
   "source": [
    "# Parameter Values\n",
    "* value----->Required. The value to check if the string starts with\n",
    "* start------>Optional. An Integer specifying at which position to start the search\n",
    "* end----->Optional. An Integer specifying at which position to end the search"
   ]
  },
  {
   "cell_type": "code",
   "execution_count": 68,
   "id": "8281bf1b",
   "metadata": {},
   "outputs": [
    {
     "name": "stdout",
     "output_type": "stream",
     "text": [
      "True\n"
     ]
    }
   ],
   "source": [
    "txt = \"Hello, welcome to my world.\"\n",
    "x = txt.startswith(\"wel\", 7, 20)\n",
    "print(x)"
   ]
  },
  {
   "cell_type": "code",
   "execution_count": 69,
   "id": "39b36fca",
   "metadata": {},
   "outputs": [
    {
     "data": {
      "text/plain": [
       "False"
      ]
     },
     "execution_count": 69,
     "metadata": {},
     "output_type": "execute_result"
    }
   ],
   "source": [
    " txt.startswith(\"wel\",)"
   ]
  },
  {
   "cell_type": "markdown",
   "id": "feee4c76",
   "metadata": {},
   "source": [
    "# strip()\n",
    "* The strip() method removes any leading, and trailing whitespaces.\n",
    "\n",
    "* Leading means at the beginning of the string, trailing means at the end.\n",
    "\n",
    "* You can specify which character(s) to remove, if not, any whitespaces will be removed.\n",
    "\n",
    "Syntax string.strip(characters)"
   ]
  },
  {
   "cell_type": "markdown",
   "id": "4528506b",
   "metadata": {},
   "source": [
    "# Parameter Values\n",
    "* characters------>Optional. A set of characters to remove as leading/trailing characters"
   ]
  },
  {
   "cell_type": "code",
   "execution_count": 72,
   "id": "daabc3fd",
   "metadata": {},
   "outputs": [
    {
     "name": "stdout",
     "output_type": "stream",
     "text": [
      "banana\n"
     ]
    }
   ],
   "source": [
    "# txt = \",,,,,rrttgg.....banana....rrr\"\n",
    "x = txt.strip(\",.grt\")\n",
    "print(x)"
   ]
  },
  {
   "cell_type": "code",
   "execution_count": 71,
   "id": "195bcd64",
   "metadata": {},
   "outputs": [
    {
     "data": {
      "text/plain": [
       "',,,,,rrttgg.....banana....'"
      ]
     },
     "execution_count": 71,
     "metadata": {},
     "output_type": "execute_result"
    }
   ],
   "source": [
    "txt.strip(\"rr\")"
   ]
  },
  {
   "cell_type": "markdown",
   "id": "e4132658",
   "metadata": {},
   "source": [
    "# swapcase()\n",
    "* The swapcase() method returns a string where all the upper case letters are lower case and vice versa.\n",
    "\n",
    "Syntax string.swapcase()"
   ]
  },
  {
   "cell_type": "code",
   "execution_count": 73,
   "id": "fecf1c86",
   "metadata": {},
   "outputs": [
    {
     "name": "stdout",
     "output_type": "stream",
     "text": [
      "hELLO mY nAME iS peter\n"
     ]
    }
   ],
   "source": [
    "txt = \"Hello My Name Is PETER\"\n",
    "x = txt.swapcase()\n",
    "print(x)"
   ]
  },
  {
   "cell_type": "markdown",
   "id": "3fd4d8bf",
   "metadata": {},
   "source": [
    "# title()\n",
    "* The title() method returns a string where the first character in every word is upper case. Like a header, or a title.\n",
    "\n",
    "* If the word contains a number or a symbol, the first letter after that will be converted to upper case.\n",
    "\n",
    "Syntax string.title()"
   ]
  },
  {
   "cell_type": "code",
   "execution_count": 74,
   "id": "e42066e5",
   "metadata": {},
   "outputs": [
    {
     "name": "stdout",
     "output_type": "stream",
     "text": [
      "Welcome To My 2Nd World\n"
     ]
    }
   ],
   "source": [
    "txt = \"Welcome to my 2nd world\"\n",
    "x = txt.title()\n",
    "print(x)"
   ]
  },
  {
   "cell_type": "code",
   "execution_count": 75,
   "id": "352de960",
   "metadata": {},
   "outputs": [
    {
     "name": "stdout",
     "output_type": "stream",
     "text": [
      "Hello B2B2B2 And 3G3G3G\n"
     ]
    }
   ],
   "source": [
    "txt = \"hello b2b2b2 and 3g3g3g\"\n",
    "x = txt.title()\n",
    "print(x)"
   ]
  },
  {
   "cell_type": "markdown",
   "id": "05ba86cf",
   "metadata": {},
   "source": [
    "# upper()\n",
    "* The upper() method returns a string where all characters are in upper case.\n",
    "\n",
    "* Symbols and Numbers are ignored.\n",
    "\n",
    "Syntax string.upper()"
   ]
  },
  {
   "cell_type": "code",
   "execution_count": 76,
   "id": "9d1148ac",
   "metadata": {},
   "outputs": [
    {
     "name": "stdout",
     "output_type": "stream",
     "text": [
      "HELLO MY FRIENDS\n"
     ]
    }
   ],
   "source": [
    "txt = \"Hello my friends\"\n",
    "x = txt.upper()\n",
    "print(x)"
   ]
  },
  {
   "cell_type": "markdown",
   "id": "6a269279",
   "metadata": {},
   "source": [
    "# zfill()\n",
    "* The zfill() method adds zeros (0) at the beginning of the string, until it reaches the specified length.\n",
    "\n",
    "* If the value of the len parameter is less than the length of the string, no filling is done.\n",
    "\n",
    "Syntax string.zfill(len)"
   ]
  },
  {
   "cell_type": "markdown",
   "id": "71a7367f",
   "metadata": {},
   "source": [
    "# Parameter Values\n",
    "* len----->Required. A number specifying the desired length of the string"
   ]
  },
  {
   "cell_type": "code",
   "execution_count": 77,
   "id": "b10cec3c",
   "metadata": {},
   "outputs": [
    {
     "name": "stdout",
     "output_type": "stream",
     "text": [
      "00000hello\n",
      "welcome to the jungle\n",
      "000010.000\n"
     ]
    }
   ],
   "source": [
    "a= \"hello\"\n",
    "b = \"welcome to the jungle\"\n",
    "c = \"10.000\"\n",
    "\n",
    "print(a.zfill(10))\n",
    "print(b.zfill(10))\n",
    "print(c.zfill(10))"
   ]
  },
  {
   "cell_type": "code",
   "execution_count": 81,
   "id": "6a19ab01",
   "metadata": {},
   "outputs": [
    {
     "name": "stdout",
     "output_type": "stream",
     "text": [
      "000000000000000000000000rakesh\n",
      "00000000000000000000000000000000000sanju\n",
      "0000pavan\n"
     ]
    }
   ],
   "source": [
    "x='pavan'\n",
    "y='sanju'\n",
    "z='rakesh'\n",
    "print(z.zfill(30))\n",
    "print(y.zfill(40))\n",
    "print(x.zfill(9))"
   ]
  },
  {
   "cell_type": "code",
   "execution_count": null,
   "id": "b794a92e",
   "metadata": {},
   "outputs": [],
   "source": []
  }
 ],
 "metadata": {
  "kernelspec": {
   "display_name": "Python 3 (ipykernel)",
   "language": "python",
   "name": "python3"
  },
  "language_info": {
   "codemirror_mode": {
    "name": "ipython",
    "version": 3
   },
   "file_extension": ".py",
   "mimetype": "text/x-python",
   "name": "python",
   "nbconvert_exporter": "python",
   "pygments_lexer": "ipython3",
   "version": "3.11.5"
  }
 },
 "nbformat": 4,
 "nbformat_minor": 5
}
