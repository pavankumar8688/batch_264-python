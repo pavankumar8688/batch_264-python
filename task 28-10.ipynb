{
 "cells": [
  {
   "cell_type": "markdown",
   "id": "96362760",
   "metadata": {},
   "source": [
    "# Sets\n",
    "* set is a cluster\n",
    "* It is immutable\n",
    "* It has unique values but not the duplicates\n",
    "* we declare the sets by using {}\n",
    "* Sets have methods that are unique to sets like union,intersection etc\n",
    "* An empty set gives an empty dictionary\n",
    "\n",
    "\n",
    "creating an empty set"
   ]
  },
  {
   "cell_type": "code",
   "execution_count": 1,
   "id": "e83c50d9",
   "metadata": {},
   "outputs": [
    {
     "data": {
      "text/plain": [
       "set()"
      ]
     },
     "execution_count": 1,
     "metadata": {},
     "output_type": "execute_result"
    }
   ],
   "source": [
    "x=set()\n",
    "x"
   ]
  },
  {
   "cell_type": "code",
   "execution_count": 3,
   "id": "712777a7",
   "metadata": {},
   "outputs": [
    {
     "name": "stdout",
     "output_type": "stream",
     "text": [
      "{}\n",
      "<class 'dict'>\n",
      "0\n"
     ]
    }
   ],
   "source": [
    "print(x,type(x),len(x),sep='\\n')"
   ]
  },
  {
   "cell_type": "code",
   "execution_count": 4,
   "id": "db73c0fb",
   "metadata": {},
   "outputs": [
    {
     "name": "stdout",
     "output_type": "stream",
     "text": [
      "{1, 2.2, <built-in function print>, 'four', (3+3j), <class 'range'>}\n",
      "<class 'set'>\n",
      "6\n",
      "0x1cac2e765e0\n"
     ]
    }
   ],
   "source": [
    "x={1,2.2,3+3j,'four',print,range,True}\n",
    "print(x,type(x),len(x),hex(id(x)),sep='\\n')"
   ]
  },
  {
   "cell_type": "code",
   "execution_count": 8,
   "id": "67229dc1",
   "metadata": {},
   "outputs": [
    {
     "name": "stdout",
     "output_type": "stream",
     "text": [
      "{8j, 4, 5, 'prani'}\n",
      "<class 'set'>\n",
      "4\n",
      "0x1cac2e76a40\n"
     ]
    }
   ],
   "source": [
    "y={4,5,8j,'prani'}\n",
    "print(y,type(y),len(y),hex(id(y)),sep='\\n')"
   ]
  },
  {
   "cell_type": "code",
   "execution_count": 9,
   "id": "f1bdce1d",
   "metadata": {},
   "outputs": [
    {
     "data": {
      "text/plain": [
       "['__and__',\n",
       " '__class__',\n",
       " '__class_getitem__',\n",
       " '__contains__',\n",
       " '__delattr__',\n",
       " '__dir__',\n",
       " '__doc__',\n",
       " '__eq__',\n",
       " '__format__',\n",
       " '__ge__',\n",
       " '__getattribute__',\n",
       " '__getstate__',\n",
       " '__gt__',\n",
       " '__hash__',\n",
       " '__iand__',\n",
       " '__init__',\n",
       " '__init_subclass__',\n",
       " '__ior__',\n",
       " '__isub__',\n",
       " '__iter__',\n",
       " '__ixor__',\n",
       " '__le__',\n",
       " '__len__',\n",
       " '__lt__',\n",
       " '__ne__',\n",
       " '__new__',\n",
       " '__or__',\n",
       " '__rand__',\n",
       " '__reduce__',\n",
       " '__reduce_ex__',\n",
       " '__repr__',\n",
       " '__ror__',\n",
       " '__rsub__',\n",
       " '__rxor__',\n",
       " '__setattr__',\n",
       " '__sizeof__',\n",
       " '__str__',\n",
       " '__sub__',\n",
       " '__subclasshook__',\n",
       " '__xor__',\n",
       " 'add',\n",
       " 'clear',\n",
       " 'copy',\n",
       " 'difference',\n",
       " 'difference_update',\n",
       " 'discard',\n",
       " 'intersection',\n",
       " 'intersection_update',\n",
       " 'isdisjoint',\n",
       " 'issubset',\n",
       " 'issuperset',\n",
       " 'pop',\n",
       " 'remove',\n",
       " 'symmetric_difference',\n",
       " 'symmetric_difference_update',\n",
       " 'union',\n",
       " 'update']"
      ]
     },
     "execution_count": 9,
     "metadata": {},
     "output_type": "execute_result"
    }
   ],
   "source": [
    "dir(set)"
   ]
  },
  {
   "cell_type": "code",
   "execution_count": 11,
   "id": "d295578e",
   "metadata": {
    "scrolled": false
   },
   "outputs": [
    {
     "name": "stdout",
     "output_type": "stream",
     "text": [
      "Help on class set in module builtins:\n",
      "\n",
      "class set(object)\n",
      " |  set() -> new empty set object\n",
      " |  set(iterable) -> new set object\n",
      " |  \n",
      " |  Build an unordered collection of unique elements.\n",
      " |  \n",
      " |  Methods defined here:\n",
      " |  \n",
      " |  __and__(self, value, /)\n",
      " |      Return self&value.\n",
      " |  \n",
      " |  __contains__(...)\n",
      " |      x.__contains__(y) <==> y in x.\n",
      " |  \n",
      " |  __eq__(self, value, /)\n",
      " |      Return self==value.\n",
      " |  \n",
      " |  __ge__(self, value, /)\n",
      " |      Return self>=value.\n",
      " |  \n",
      " |  __getattribute__(self, name, /)\n",
      " |      Return getattr(self, name).\n",
      " |  \n",
      " |  __gt__(self, value, /)\n",
      " |      Return self>value.\n",
      " |  \n",
      " |  __iand__(self, value, /)\n",
      " |      Return self&=value.\n",
      " |  \n",
      " |  __init__(self, /, *args, **kwargs)\n",
      " |      Initialize self.  See help(type(self)) for accurate signature.\n",
      " |  \n",
      " |  __ior__(self, value, /)\n",
      " |      Return self|=value.\n",
      " |  \n",
      " |  __isub__(self, value, /)\n",
      " |      Return self-=value.\n",
      " |  \n",
      " |  __iter__(self, /)\n",
      " |      Implement iter(self).\n",
      " |  \n",
      " |  __ixor__(self, value, /)\n",
      " |      Return self^=value.\n",
      " |  \n",
      " |  __le__(self, value, /)\n",
      " |      Return self<=value.\n",
      " |  \n",
      " |  __len__(self, /)\n",
      " |      Return len(self).\n",
      " |  \n",
      " |  __lt__(self, value, /)\n",
      " |      Return self<value.\n",
      " |  \n",
      " |  __ne__(self, value, /)\n",
      " |      Return self!=value.\n",
      " |  \n",
      " |  __or__(self, value, /)\n",
      " |      Return self|value.\n",
      " |  \n",
      " |  __rand__(self, value, /)\n",
      " |      Return value&self.\n",
      " |  \n",
      " |  __reduce__(...)\n",
      " |      Return state information for pickling.\n",
      " |  \n",
      " |  __repr__(self, /)\n",
      " |      Return repr(self).\n",
      " |  \n",
      " |  __ror__(self, value, /)\n",
      " |      Return value|self.\n",
      " |  \n",
      " |  __rsub__(self, value, /)\n",
      " |      Return value-self.\n",
      " |  \n",
      " |  __rxor__(self, value, /)\n",
      " |      Return value^self.\n",
      " |  \n",
      " |  __sizeof__(...)\n",
      " |      S.__sizeof__() -> size of S in memory, in bytes\n",
      " |  \n",
      " |  __sub__(self, value, /)\n",
      " |      Return self-value.\n",
      " |  \n",
      " |  __xor__(self, value, /)\n",
      " |      Return self^value.\n",
      " |  \n",
      " |  add(...)\n",
      " |      Add an element to a set.\n",
      " |      \n",
      " |      This has no effect if the element is already present.\n",
      " |  \n",
      " |  clear(...)\n",
      " |      Remove all elements from this set.\n",
      " |  \n",
      " |  copy(...)\n",
      " |      Return a shallow copy of a set.\n",
      " |  \n",
      " |  difference(...)\n",
      " |      Return the difference of two or more sets as a new set.\n",
      " |      \n",
      " |      (i.e. all elements that are in this set but not the others.)\n",
      " |  \n",
      " |  difference_update(...)\n",
      " |      Remove all elements of another set from this set.\n",
      " |  \n",
      " |  discard(...)\n",
      " |      Remove an element from a set if it is a member.\n",
      " |      \n",
      " |      Unlike set.remove(), the discard() method does not raise\n",
      " |      an exception when an element is missing from the set.\n",
      " |  \n",
      " |  intersection(...)\n",
      " |      Return the intersection of two sets as a new set.\n",
      " |      \n",
      " |      (i.e. all elements that are in both sets.)\n",
      " |  \n",
      " |  intersection_update(...)\n",
      " |      Update a set with the intersection of itself and another.\n",
      " |  \n",
      " |  isdisjoint(...)\n",
      " |      Return True if two sets have a null intersection.\n",
      " |  \n",
      " |  issubset(...)\n",
      " |      Report whether another set contains this set.\n",
      " |  \n",
      " |  issuperset(...)\n",
      " |      Report whether this set contains another set.\n",
      " |  \n",
      " |  pop(...)\n",
      " |      Remove and return an arbitrary set element.\n",
      " |      Raises KeyError if the set is empty.\n",
      " |  \n",
      " |  remove(...)\n",
      " |      Remove an element from a set; it must be a member.\n",
      " |      \n",
      " |      If the element is not a member, raise a KeyError.\n",
      " |  \n",
      " |  symmetric_difference(...)\n",
      " |      Return the symmetric difference of two sets as a new set.\n",
      " |      \n",
      " |      (i.e. all elements that are in exactly one of the sets.)\n",
      " |  \n",
      " |  symmetric_difference_update(...)\n",
      " |      Update a set with the symmetric difference of itself and another.\n",
      " |  \n",
      " |  union(...)\n",
      " |      Return the union of sets as a new set.\n",
      " |      \n",
      " |      (i.e. all elements that are in either set.)\n",
      " |  \n",
      " |  update(...)\n",
      " |      Update a set with the union of itself and others.\n",
      " |  \n",
      " |  ----------------------------------------------------------------------\n",
      " |  Class methods defined here:\n",
      " |  \n",
      " |  __class_getitem__(...) from builtins.type\n",
      " |      See PEP 585\n",
      " |  \n",
      " |  ----------------------------------------------------------------------\n",
      " |  Static methods defined here:\n",
      " |  \n",
      " |  __new__(*args, **kwargs) from builtins.type\n",
      " |      Create and return a new object.  See help(type) for accurate signature.\n",
      " |  \n",
      " |  ----------------------------------------------------------------------\n",
      " |  Data and other attributes defined here:\n",
      " |  \n",
      " |  __hash__ = None\n",
      "\n"
     ]
    }
   ],
   "source": [
    "help(set)"
   ]
  },
  {
   "cell_type": "markdown",
   "id": "ae0dce57",
   "metadata": {},
   "source": [
    "# remove()\n",
    "* This method removes the element in a set\n",
    "* The syntax is set.remove()"
   ]
  },
  {
   "cell_type": "code",
   "execution_count": 15,
   "id": "e602edec",
   "metadata": {},
   "outputs": [
    {
     "data": {
      "text/plain": [
       "{44, 88}"
      ]
     },
     "execution_count": 15,
     "metadata": {},
     "output_type": "execute_result"
    }
   ],
   "source": [
    "x={44,0,88}#accesing the remove method by removing 0\n",
    "x.remove(0)\n",
    "x"
   ]
  },
  {
   "cell_type": "code",
   "execution_count": 18,
   "id": "2bfc3b23",
   "metadata": {},
   "outputs": [
    {
     "data": {
      "text/plain": [
       "{44}"
      ]
     },
     "execution_count": 18,
     "metadata": {},
     "output_type": "execute_result"
    }
   ],
   "source": [
    "x={44,88}\n",
    "x.remove(88)\n",
    "x"
   ]
  },
  {
   "cell_type": "code",
   "execution_count": 20,
   "id": "e634c7f8",
   "metadata": {},
   "outputs": [
    {
     "data": {
      "text/plain": [
       "[1, 2, 3, 4]"
      ]
     },
     "execution_count": 20,
     "metadata": {},
     "output_type": "execute_result"
    }
   ],
   "source": [
    "x=[1,2,3,4,5]\n",
    "x.remove(5)\n",
    "x"
   ]
  },
  {
   "cell_type": "markdown",
   "id": "94eafb21",
   "metadata": {},
   "source": [
    "# discard()\n",
    "* It removes the element from a set\n",
    "* the syntax isset.discard()"
   ]
  },
  {
   "cell_type": "code",
   "execution_count": 23,
   "id": "190fb19b",
   "metadata": {},
   "outputs": [
    {
     "data": {
      "text/plain": [
       "{1, 2, 3, 5}"
      ]
     },
     "execution_count": 23,
     "metadata": {},
     "output_type": "execute_result"
    }
   ],
   "source": [
    "x={1,2,3,4,5}# discarding the element froma set\n",
    "x.discard(4)\n",
    "x"
   ]
  },
  {
   "cell_type": "code",
   "execution_count": 24,
   "id": "e870f27d",
   "metadata": {},
   "outputs": [
    {
     "data": {
      "text/plain": [
       "{5, 6, 7, 8}"
      ]
     },
     "execution_count": 24,
     "metadata": {},
     "output_type": "execute_result"
    }
   ],
   "source": [
    "x={5,6,7,8}\n",
    "x.discard(9)\n",
    "x"
   ]
  },
  {
   "cell_type": "markdown",
   "id": "d38e89d5",
   "metadata": {},
   "source": [
    "# pop() \n",
    "* This method removes the first element in sets\n",
    "* Generally,it pops the random value from a set\n",
    "* The general syntax isset.pop()"
   ]
  },
  {
   "cell_type": "code",
   "execution_count": 25,
   "id": "32cc8f7f",
   "metadata": {},
   "outputs": [
    {
     "data": {
      "text/plain": [
       "(1, {4, 6, 9})"
      ]
     },
     "execution_count": 25,
     "metadata": {},
     "output_type": "execute_result"
    }
   ],
   "source": [
    "p={1,4,6,9}\n",
    "y=p.pop()\n",
    "\n",
    "y,p"
   ]
  },
  {
   "cell_type": "code",
   "execution_count": 30,
   "id": "04ce2826",
   "metadata": {},
   "outputs": [
    {
     "data": {
      "text/plain": [
       "'banana'"
      ]
     },
     "execution_count": 30,
     "metadata": {},
     "output_type": "execute_result"
    }
   ],
   "source": [
    "x = ['apple', 'banana', 'cherry']\n",
    "x.pop(1)"
   ]
  },
  {
   "cell_type": "code",
   "execution_count": 33,
   "id": "a4635569",
   "metadata": {},
   "outputs": [
    {
     "data": {
      "text/plain": [
       "['pavan', 'bhanu']"
      ]
     },
     "execution_count": 33,
     "metadata": {},
     "output_type": "execute_result"
    }
   ],
   "source": [
    "x = ['pavan', 'karthik', 'bhanu']\n",
    "x.pop(1)\n",
    "x"
   ]
  },
  {
   "cell_type": "markdown",
   "id": "abfc6945",
   "metadata": {},
   "source": [
    "# clear()\n",
    "* This method clears all the entire set and returns an empty set\n",
    "* the syntax is set.clear()"
   ]
  },
  {
   "cell_type": "code",
   "execution_count": 35,
   "id": "db5abe88",
   "metadata": {},
   "outputs": [
    {
     "data": {
      "text/plain": [
       "set()"
      ]
     },
     "execution_count": 35,
     "metadata": {},
     "output_type": "execute_result"
    }
   ],
   "source": [
    "x={'karthik','pavan','naveen'}\n",
    "x.clear()\n",
    "x"
   ]
  },
  {
   "cell_type": "code",
   "execution_count": 36,
   "id": "58450058",
   "metadata": {},
   "outputs": [
    {
     "name": "stdout",
     "output_type": "stream",
     "text": [
      "Help on method_descriptor:\n",
      "\n",
      "clear(...)\n",
      "    Remove all elements from this set.\n",
      "\n"
     ]
    }
   ],
   "source": [
    "help(set.clear)"
   ]
  },
  {
   "cell_type": "markdown",
   "id": "2ccc5544",
   "metadata": {},
   "source": [
    "# isdisjoint()\n",
    "* This checks whether the sets are disjoint or not\n",
    "* The syntax is set.isdisjoint()"
   ]
  },
  {
   "cell_type": "code",
   "execution_count": 38,
   "id": "7a4b7e85",
   "metadata": {},
   "outputs": [
    {
     "name": "stdout",
     "output_type": "stream",
     "text": [
      "{3, 4, 5, 6}\n",
      "{8, 5, 6, 7}\n",
      "{1, 2, 3, 4, 5, 6, 7}\n",
      "{'b', 'a', 'c', 'd'}\n"
     ]
    }
   ],
   "source": [
    "a={6,5,4,3}\n",
    "b={5,6,7,8}\n",
    "c=set(range(1,8))\n",
    "d={'a','b','c','d'}\n",
    "print(a,b,c,d,sep='\\n')"
   ]
  },
  {
   "cell_type": "code",
   "execution_count": 40,
   "id": "b7fa3db1",
   "metadata": {},
   "outputs": [
    {
     "data": {
      "text/plain": [
       "False"
      ]
     },
     "execution_count": 40,
     "metadata": {},
     "output_type": "execute_result"
    }
   ],
   "source": [
    "a.isdisjoint(b)   #the two sets are joint sets"
   ]
  },
  {
   "cell_type": "code",
   "execution_count": 42,
   "id": "37f59d7c",
   "metadata": {},
   "outputs": [
    {
     "data": {
      "text/plain": [
       "True"
      ]
     },
     "execution_count": 42,
     "metadata": {},
     "output_type": "execute_result"
    }
   ],
   "source": [
    "c.isdisjoint(d)   # these sets are disjoint sets"
   ]
  },
  {
   "cell_type": "code",
   "execution_count": 43,
   "id": "4a8be3b9",
   "metadata": {},
   "outputs": [
    {
     "name": "stdout",
     "output_type": "stream",
     "text": [
      "Help on method_descriptor:\n",
      "\n",
      "isdisjoint(...)\n",
      "    Return True if two sets have a null intersection.\n",
      "\n"
     ]
    }
   ],
   "source": [
    "help(set.isdisjoint)"
   ]
  },
  {
   "cell_type": "markdown",
   "id": "53aab420",
   "metadata": {},
   "source": [
    "# difference ()\n",
    "* It remoes the common elements of which we are calling on\n",
    "* The general syntax is set.difference()"
   ]
  },
  {
   "cell_type": "code",
   "execution_count": 44,
   "id": "0f4b9ec4",
   "metadata": {},
   "outputs": [
    {
     "data": {
      "text/plain": [
       "{1, 2, 3}"
      ]
     },
     "execution_count": 44,
     "metadata": {},
     "output_type": "execute_result"
    }
   ],
   "source": [
    "a={1,2,3,4,5}\n",
    "b={4,5,6,7,8}\n",
    "a.difference(b)"
   ]
  },
  {
   "cell_type": "code",
   "execution_count": 45,
   "id": "009ba974",
   "metadata": {},
   "outputs": [
    {
     "data": {
      "text/plain": [
       "{6, 7, 8}"
      ]
     },
     "execution_count": 45,
     "metadata": {},
     "output_type": "execute_result"
    }
   ],
   "source": [
    "a={1,2,3,4,5}\n",
    "b={4,5,6,7,8}\n",
    "b.difference(a)"
   ]
  },
  {
   "cell_type": "markdown",
   "id": "42ebb09c",
   "metadata": {},
   "source": [
    "# add()\n",
    "* This method is similar to append in list\n",
    "* This adds the element to a set\n",
    "* The syntax is set.add()"
   ]
  },
  {
   "cell_type": "code",
   "execution_count": 50,
   "id": "d766634f",
   "metadata": {},
   "outputs": [
    {
     "data": {
      "text/plain": [
       "{11, 22, 33, 44, 66}"
      ]
     },
     "execution_count": 50,
     "metadata": {},
     "output_type": "execute_result"
    }
   ],
   "source": [
    "x={11,22,33,44}\n",
    "x.add(66)\n",
    "x"
   ]
  },
  {
   "cell_type": "code",
   "execution_count": 49,
   "id": "184482e4",
   "metadata": {},
   "outputs": [
    {
     "data": {
      "text/plain": [
       "{'bhanu', 'karthik', 'pavan'}"
      ]
     },
     "execution_count": 49,
     "metadata": {},
     "output_type": "execute_result"
    }
   ],
   "source": [
    "x={'karthik','pavan'}\n",
    "x.add('bhanu')\n",
    "x"
   ]
  },
  {
   "cell_type": "markdown",
   "id": "66df24e7",
   "metadata": {},
   "source": [
    "# update()\n",
    "* This method is similar to extend method in list\n",
    "* The syntax is set.update()"
   ]
  },
  {
   "cell_type": "code",
   "execution_count": 55,
   "id": "5885f712",
   "metadata": {},
   "outputs": [
    {
     "data": {
      "text/plain": [
       "{'bhanu', 'naveen', 'pavan'}"
      ]
     },
     "execution_count": 55,
     "metadata": {},
     "output_type": "execute_result"
    }
   ],
   "source": [
    "x={'pavan'}         #update method using for integers          \n",
    "x.update(('bhanu','naveen'))\n",
    "x"
   ]
  },
  {
   "cell_type": "code",
   "execution_count": 56,
   "id": "4e2b7b40",
   "metadata": {},
   "outputs": [
    {
     "data": {
      "text/plain": [
       "{'a', 'h', 'i', 'k', 'pavan', 'r', 't'}"
      ]
     },
     "execution_count": 56,
     "metadata": {},
     "output_type": "execute_result"
    }
   ],
   "source": [
    "x={'pavan'}        #update method using for strings\n",
    "x.update('karthik')\n",
    "x"
   ]
  },
  {
   "cell_type": "markdown",
   "id": "762bebe4",
   "metadata": {},
   "source": [
    "# union ()\n",
    "* This joins the sets without repeating the common elements\n",
    "* The syntax is set.union()"
   ]
  },
  {
   "cell_type": "code",
   "execution_count": 58,
   "id": "77349bca",
   "metadata": {},
   "outputs": [
    {
     "data": {
      "text/plain": [
       "{11, 22, 33, 44, 55, 66, 77, 88}"
      ]
     },
     "execution_count": 58,
     "metadata": {},
     "output_type": "execute_result"
    }
   ],
   "source": [
    "x={11,22,33,44,55}\n",
    "y={44,55,66,77,88}\n",
    "x.union(y)"
   ]
  },
  {
   "cell_type": "code",
   "execution_count": 59,
   "id": "25c5d9b7",
   "metadata": {},
   "outputs": [
    {
     "data": {
      "text/plain": [
       "{11, 22, 33, 44, 55, 66, 77, 88}"
      ]
     },
     "execution_count": 59,
     "metadata": {},
     "output_type": "execute_result"
    }
   ],
   "source": [
    "y.union(x)"
   ]
  },
  {
   "cell_type": "markdown",
   "id": "c7842f9f",
   "metadata": {},
   "source": [
    "# intersection ()\n",
    "* This reuturns the common elements only..\n",
    "* The syntax isset.intesection()"
   ]
  },
  {
   "cell_type": "code",
   "execution_count": 60,
   "id": "eb98d00a",
   "metadata": {},
   "outputs": [
    {
     "data": {
      "text/plain": [
       "{44, 55}"
      ]
     },
     "execution_count": 60,
     "metadata": {},
     "output_type": "execute_result"
    }
   ],
   "source": [
    "x.intersection(y)"
   ]
  },
  {
   "cell_type": "code",
   "execution_count": 61,
   "id": "9bc09a92",
   "metadata": {},
   "outputs": [
    {
     "data": {
      "text/plain": [
       "set()"
      ]
     },
     "execution_count": 61,
     "metadata": {},
     "output_type": "execute_result"
    }
   ],
   "source": [
    "x={'pavan'}\n",
    "y={'karthik'}\n",
    "x.intersection(y)"
   ]
  },
  {
   "cell_type": "markdown",
   "id": "26b4d9d1",
   "metadata": {},
   "source": [
    "# issuperset(), issubset()\n",
    "* this methods returns the output as a true or false\n",
    "* the syntax is set.issuperset(),set.issubset()"
   ]
  },
  {
   "cell_type": "code",
   "execution_count": 62,
   "id": "698545ee",
   "metadata": {},
   "outputs": [
    {
     "data": {
      "text/plain": [
       "False"
      ]
     },
     "execution_count": 62,
     "metadata": {},
     "output_type": "execute_result"
    }
   ],
   "source": [
    "x={range(15)}\n",
    "y={5,6,7,9,0}\n",
    "x.issuperset(y)"
   ]
  },
  {
   "cell_type": "code",
   "execution_count": 64,
   "id": "e8e6c145",
   "metadata": {},
   "outputs": [
    {
     "data": {
      "text/plain": [
       "False"
      ]
     },
     "execution_count": 64,
     "metadata": {},
     "output_type": "execute_result"
    }
   ],
   "source": [
    "x={range(27)}\n",
    "y={5,6,7,9,0}\n",
    "y.issuperset(x)"
   ]
  },
  {
   "cell_type": "code",
   "execution_count": 65,
   "id": "8728188a",
   "metadata": {},
   "outputs": [
    {
     "data": {
      "text/plain": [
       "False"
      ]
     },
     "execution_count": 65,
     "metadata": {},
     "output_type": "execute_result"
    }
   ],
   "source": [
    "x={range(15)}\n",
    "y={5,6,7,9,0}\n",
    "x.issubset(y)"
   ]
  },
  {
   "cell_type": "code",
   "execution_count": 66,
   "id": "b6a47d8a",
   "metadata": {},
   "outputs": [
    {
     "data": {
      "text/plain": [
       "False"
      ]
     },
     "execution_count": 66,
     "metadata": {},
     "output_type": "execute_result"
    }
   ],
   "source": [
    "y.issubset(x)"
   ]
  },
  {
   "cell_type": "code",
   "execution_count": 67,
   "id": "fda6ba6a",
   "metadata": {},
   "outputs": [
    {
     "data": {
      "text/plain": [
       "False"
      ]
     },
     "execution_count": 67,
     "metadata": {},
     "output_type": "execute_result"
    }
   ],
   "source": [
    "y.issuperset(x)"
   ]
  },
  {
   "cell_type": "code",
   "execution_count": 68,
   "id": "278e6d85",
   "metadata": {},
   "outputs": [
    {
     "data": {
      "text/plain": [
       "True"
      ]
     },
     "execution_count": 68,
     "metadata": {},
     "output_type": "execute_result"
    }
   ],
   "source": [
    "x={1,2,3,4}\n",
    "y={1,2,3,4,5,6,7,8,9,}\n",
    "x.issubset(y)"
   ]
  },
  {
   "cell_type": "code",
   "execution_count": 69,
   "id": "57560ddd",
   "metadata": {},
   "outputs": [
    {
     "data": {
      "text/plain": [
       "False"
      ]
     },
     "execution_count": 69,
     "metadata": {},
     "output_type": "execute_result"
    }
   ],
   "source": [
    "x.issuperset(y)#x is not superset of y"
   ]
  },
  {
   "cell_type": "code",
   "execution_count": 70,
   "id": "cea4bc7c",
   "metadata": {},
   "outputs": [
    {
     "data": {
      "text/plain": [
       "True"
      ]
     },
     "execution_count": 70,
     "metadata": {},
     "output_type": "execute_result"
    }
   ],
   "source": [
    "y.issuperset(x)# y is superset of x"
   ]
  },
  {
   "cell_type": "markdown",
   "id": "bb28e869",
   "metadata": {},
   "source": [
    "# symmetric_difference()\n",
    "* This method removes the common elements from sets and combines the sets\n",
    "* The syntax is set.symmetric_difference()"
   ]
  },
  {
   "cell_type": "code",
   "execution_count": 71,
   "id": "18b6f0da",
   "metadata": {},
   "outputs": [
    {
     "data": {
      "text/plain": [
       "{1, 2, 3, 4, 6, 7, 8, 9}"
      ]
     },
     "execution_count": 71,
     "metadata": {},
     "output_type": "execute_result"
    }
   ],
   "source": [
    "x={1,2,3,4,5}\n",
    "y={5,6,7,8,9}\n",
    "x.symmetric_difference(y)"
   ]
  },
  {
   "cell_type": "code",
   "execution_count": 72,
   "id": "a3b9626f",
   "metadata": {},
   "outputs": [
    {
     "data": {
      "text/plain": [
       "{1, 2, 3, 4, 5}"
      ]
     },
     "execution_count": 72,
     "metadata": {},
     "output_type": "execute_result"
    }
   ],
   "source": [
    "x"
   ]
  },
  {
   "cell_type": "code",
   "execution_count": 73,
   "id": "e74c075b",
   "metadata": {},
   "outputs": [
    {
     "data": {
      "text/plain": [
       "{5, 6, 7, 8, 9}"
      ]
     },
     "execution_count": 73,
     "metadata": {},
     "output_type": "execute_result"
    }
   ],
   "source": [
    "y"
   ]
  },
  {
   "cell_type": "markdown",
   "id": "28fe910e",
   "metadata": {},
   "source": [
    "# intersection_update()\n",
    "* This is similar to intersection and update method it combines both the intersection and update sets\n",
    "* The syntax isset.intersection_update()"
   ]
  },
  {
   "cell_type": "code",
   "execution_count": 74,
   "id": "afef29ae",
   "metadata": {},
   "outputs": [
    {
     "data": {
      "text/plain": [
       "{5}"
      ]
     },
     "execution_count": 74,
     "metadata": {},
     "output_type": "execute_result"
    }
   ],
   "source": [
    "x={1,2,3,4,5}\n",
    "y={5,6,7,8,9}\n",
    "x.intersection_update(y)\n",
    "x"
   ]
  },
  {
   "cell_type": "code",
   "execution_count": 75,
   "id": "e513d4ca",
   "metadata": {},
   "outputs": [
    {
     "data": {
      "text/plain": [
       "{5}"
      ]
     },
     "execution_count": 75,
     "metadata": {},
     "output_type": "execute_result"
    }
   ],
   "source": [
    "x"
   ]
  },
  {
   "cell_type": "code",
   "execution_count": 78,
   "id": "874d2ed5",
   "metadata": {},
   "outputs": [
    {
     "data": {
      "text/plain": [
       "{5}"
      ]
     },
     "execution_count": 78,
     "metadata": {},
     "output_type": "execute_result"
    }
   ],
   "source": [
    "x={1,2,3,4,5}\n",
    "y={5,6,7,8,9}\n",
    "y.intersection_update(x)\n",
    "y"
   ]
  },
  {
   "cell_type": "code",
   "execution_count": 79,
   "id": "cfb5a5c4",
   "metadata": {},
   "outputs": [
    {
     "data": {
      "text/plain": [
       "{5}"
      ]
     },
     "execution_count": 79,
     "metadata": {},
     "output_type": "execute_result"
    }
   ],
   "source": [
    "y"
   ]
  },
  {
   "cell_type": "code",
   "execution_count": 80,
   "id": "331e4ac5",
   "metadata": {},
   "outputs": [
    {
     "data": {
      "text/plain": [
       "set()"
      ]
     },
     "execution_count": 80,
     "metadata": {},
     "output_type": "execute_result"
    }
   ],
   "source": [
    "x={'apple'}\n",
    "y={'banana'}\n",
    "x.intersection_update(y)\n",
    "x"
   ]
  },
  {
   "cell_type": "markdown",
   "id": "ed48cfbd",
   "metadata": {},
   "source": [
    "# Symmetric_difference_update()\n",
    "* This removes the common elements from the sets and then update the sets\n",
    "* The syntax isset.symmetric_differnce_update()"
   ]
  },
  {
   "cell_type": "code",
   "execution_count": 81,
   "id": "f5c932d9",
   "metadata": {},
   "outputs": [
    {
     "data": {
      "text/plain": [
       "{4, 6, 54}"
      ]
     },
     "execution_count": 81,
     "metadata": {},
     "output_type": "execute_result"
    }
   ],
   "source": [
    "x={2,3,54}\n",
    "y={3,2,4,6}\n",
    "x.symmetric_difference_update(y)\n",
    "x"
   ]
  },
  {
   "cell_type": "markdown",
   "id": "a763d3f2",
   "metadata": {},
   "source": [
    "# Dictionary\n",
    "* Dictionaries are key and value pairs always enclosed in flower braces{ } and seperated by a colon:\n",
    "* keys are mapped to their values\n",
    "* It is unordered and mutable\n",
    "* There may be similar values but not the similar keys<\\u>\n",
    "* { } is an empty dictionary\n",
    "* dict is class of dictionary\n",
    "* The geneal syntax is {key:value}\n",
    "* The keys are always immtable and the values may be mutable or immutable"
   ]
  },
  {
   "cell_type": "code",
   "execution_count": 82,
   "id": "d23f1786",
   "metadata": {},
   "outputs": [
    {
     "data": {
      "text/plain": [
       "{1: [1, 2, 3], 'hello': (4, 5, 6)}"
      ]
     },
     "execution_count": 82,
     "metadata": {},
     "output_type": "execute_result"
    }
   ],
   "source": [
    "x={1:[1,2,3],'hello':(4,5,6),}\n",
    "x"
   ]
  },
  {
   "cell_type": "code",
   "execution_count": 83,
   "id": "beb5facf",
   "metadata": {},
   "outputs": [
    {
     "data": {
      "text/plain": [
       "{1: [1, 2, 3], 'hello': ['hii']}"
      ]
     },
     "execution_count": 83,
     "metadata": {},
     "output_type": "execute_result"
    }
   ],
   "source": [
    "x={1:[1,2,3],'hello':(4,5,6),'hello':['hii'],}#last key whuch is of same key will be updated or override\n",
    "x"
   ]
  },
  {
   "cell_type": "code",
   "execution_count": 84,
   "id": "9c61366f",
   "metadata": {},
   "outputs": [
    {
     "data": {
      "text/plain": [
       "['hii']"
      ]
     },
     "execution_count": 84,
     "metadata": {},
     "output_type": "execute_result"
    }
   ],
   "source": [
    "x={1:[1,2,3],'hello':['hii'],}\n",
    "x['hello']"
   ]
  },
  {
   "cell_type": "code",
   "execution_count": 85,
   "id": "387f0151",
   "metadata": {},
   "outputs": [
    {
     "data": {
      "text/plain": [
       "3"
      ]
     },
     "execution_count": 85,
     "metadata": {},
     "output_type": "execute_result"
    }
   ],
   "source": [
    "x[1][2]"
   ]
  },
  {
   "cell_type": "code",
   "execution_count": 86,
   "id": "22402f13",
   "metadata": {},
   "outputs": [
    {
     "data": {
      "text/plain": [
       "3"
      ]
     },
     "execution_count": 86,
     "metadata": {},
     "output_type": "execute_result"
    }
   ],
   "source": [
    "x[1][-1]"
   ]
  },
  {
   "cell_type": "code",
   "execution_count": 87,
   "id": "2d7954cc",
   "metadata": {},
   "outputs": [
    {
     "data": {
      "text/plain": [
       "'hii'"
      ]
     },
     "execution_count": 87,
     "metadata": {},
     "output_type": "execute_result"
    }
   ],
   "source": [
    "x['hello'][-1]# we are moving from right to left"
   ]
  },
  {
   "cell_type": "code",
   "execution_count": 88,
   "id": "8583e82f",
   "metadata": {},
   "outputs": [
    {
     "data": {
      "text/plain": [
       "['__class__',\n",
       " '__class_getitem__',\n",
       " '__contains__',\n",
       " '__delattr__',\n",
       " '__delitem__',\n",
       " '__dir__',\n",
       " '__doc__',\n",
       " '__eq__',\n",
       " '__format__',\n",
       " '__ge__',\n",
       " '__getattribute__',\n",
       " '__getitem__',\n",
       " '__getstate__',\n",
       " '__gt__',\n",
       " '__hash__',\n",
       " '__init__',\n",
       " '__init_subclass__',\n",
       " '__ior__',\n",
       " '__iter__',\n",
       " '__le__',\n",
       " '__len__',\n",
       " '__lt__',\n",
       " '__ne__',\n",
       " '__new__',\n",
       " '__or__',\n",
       " '__reduce__',\n",
       " '__reduce_ex__',\n",
       " '__repr__',\n",
       " '__reversed__',\n",
       " '__ror__',\n",
       " '__setattr__',\n",
       " '__setitem__',\n",
       " '__sizeof__',\n",
       " '__str__',\n",
       " '__subclasshook__',\n",
       " 'clear',\n",
       " 'copy',\n",
       " 'fromkeys',\n",
       " 'get',\n",
       " 'items',\n",
       " 'keys',\n",
       " 'pop',\n",
       " 'popitem',\n",
       " 'setdefault',\n",
       " 'update',\n",
       " 'values']"
      ]
     },
     "execution_count": 88,
     "metadata": {},
     "output_type": "execute_result"
    }
   ],
   "source": [
    "dir(dict)"
   ]
  },
  {
   "cell_type": "code",
   "execution_count": 89,
   "id": "f8a83913",
   "metadata": {},
   "outputs": [
    {
     "data": {
      "text/plain": [
       "['hii']"
      ]
     },
     "execution_count": 89,
     "metadata": {},
     "output_type": "execute_result"
    }
   ],
   "source": [
    "x['hello']"
   ]
  },
  {
   "cell_type": "code",
   "execution_count": 90,
   "id": "6e729bab",
   "metadata": {},
   "outputs": [
    {
     "data": {
      "text/plain": [
       "'hii'"
      ]
     },
     "execution_count": 90,
     "metadata": {},
     "output_type": "execute_result"
    }
   ],
   "source": [
    "x['hello'][0]"
   ]
  },
  {
   "cell_type": "code",
   "execution_count": 91,
   "id": "7d7d50d2",
   "metadata": {},
   "outputs": [
    {
     "data": {
      "text/plain": [
       "'i'"
      ]
     },
     "execution_count": 91,
     "metadata": {},
     "output_type": "execute_result"
    }
   ],
   "source": [
    "x['hello'][0][-1]"
   ]
  },
  {
   "cell_type": "code",
   "execution_count": null,
   "id": "6938cd40",
   "metadata": {},
   "outputs": [],
   "source": []
  }
 ],
 "metadata": {
  "kernelspec": {
   "display_name": "Python 3 (ipykernel)",
   "language": "python",
   "name": "python3"
  },
  "language_info": {
   "codemirror_mode": {
    "name": "ipython",
    "version": 3
   },
   "file_extension": ".py",
   "mimetype": "text/x-python",
   "name": "python",
   "nbconvert_exporter": "python",
   "pygments_lexer": "ipython3",
   "version": "3.11.5"
  }
 },
 "nbformat": 4,
 "nbformat_minor": 5
}
