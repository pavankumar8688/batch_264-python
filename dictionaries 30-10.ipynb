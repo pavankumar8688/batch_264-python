{
 "cells": [
  {
   "cell_type": "markdown",
   "id": "103e2ab9",
   "metadata": {},
   "source": [
    "# Dictionaries\n",
    "* A dictionary is a collection of key-value pairs.\n",
    "* Each key-value pair maps the key to its associated value.\n",
    "* Dictionaries are unordered, changeable, and do not allow duplicates.\n",
    "* You can define a dictionary by enclosing a comma-separated list of key-value pairs in curly braces { }."
   ]
  },
  {
   "cell_type": "code",
   "execution_count": 3,
   "id": "5612ca77",
   "metadata": {},
   "outputs": [
    {
     "name": "stdout",
     "output_type": "stream",
     "text": [
      "{} <class 'dict'>\n"
     ]
    }
   ],
   "source": [
    "x=dict()\n",
    "print(x,type(x))\n"
   ]
  },
  {
   "cell_type": "code",
   "execution_count": 4,
   "id": "b9ab1281",
   "metadata": {},
   "outputs": [
    {
     "data": {
      "text/plain": [
       "{1: [1, 2, 3], 'hello': ['hi']}"
      ]
     },
     "execution_count": 4,
     "metadata": {},
     "output_type": "execute_result"
    }
   ],
   "source": [
    "x = {1:[1,2,3],\n",
    "    'hello':(4,5,6),\n",
    "    'hello':['hi']}\n",
    "x"
   ]
  },
  {
   "cell_type": "code",
   "execution_count": 5,
   "id": "3e69e920",
   "metadata": {},
   "outputs": [
    {
     "data": {
      "text/plain": [
       "'i'"
      ]
     },
     "execution_count": 5,
     "metadata": {},
     "output_type": "execute_result"
    }
   ],
   "source": [
    "x['hello'][0][1]"
   ]
  },
  {
   "cell_type": "code",
   "execution_count": 6,
   "id": "b2bfdebf",
   "metadata": {},
   "outputs": [
    {
     "name": "stdout",
     "output_type": "stream",
     "text": [
      "['hi']\n"
     ]
    }
   ],
   "source": [
    "x = {1:[1,2,3],\n",
    "    'hello':(4,5,6),\n",
    "    'hello':['hi']}\n",
    "print(x['hello'])"
   ]
  },
  {
   "cell_type": "code",
   "execution_count": 7,
   "id": "92a5239b",
   "metadata": {},
   "outputs": [
    {
     "data": {
      "text/plain": [
       "['__class__',\n",
       " '__class_getitem__',\n",
       " '__contains__',\n",
       " '__delattr__',\n",
       " '__delitem__',\n",
       " '__dir__',\n",
       " '__doc__',\n",
       " '__eq__',\n",
       " '__format__',\n",
       " '__ge__',\n",
       " '__getattribute__',\n",
       " '__getitem__',\n",
       " '__getstate__',\n",
       " '__gt__',\n",
       " '__hash__',\n",
       " '__init__',\n",
       " '__init_subclass__',\n",
       " '__ior__',\n",
       " '__iter__',\n",
       " '__le__',\n",
       " '__len__',\n",
       " '__lt__',\n",
       " '__ne__',\n",
       " '__new__',\n",
       " '__or__',\n",
       " '__reduce__',\n",
       " '__reduce_ex__',\n",
       " '__repr__',\n",
       " '__reversed__',\n",
       " '__ror__',\n",
       " '__setattr__',\n",
       " '__setitem__',\n",
       " '__sizeof__',\n",
       " '__str__',\n",
       " '__subclasshook__',\n",
       " 'clear',\n",
       " 'copy',\n",
       " 'fromkeys',\n",
       " 'get',\n",
       " 'items',\n",
       " 'keys',\n",
       " 'pop',\n",
       " 'popitem',\n",
       " 'setdefault',\n",
       " 'update',\n",
       " 'values']"
      ]
     },
     "execution_count": 7,
     "metadata": {},
     "output_type": "execute_result"
    }
   ],
   "source": [
    "dir(dict)"
   ]
  },
  {
   "cell_type": "markdown",
   "id": "88970cbb",
   "metadata": {},
   "source": [
    "# clear()\n",
    "* clear() method is a built-in method that removes all the items from a dictionary.\n",
    "\n",
    " Syntax: dictionary.clear()"
   ]
  },
  {
   "cell_type": "code",
   "execution_count": 9,
   "id": "9e0c3734",
   "metadata": {},
   "outputs": [
    {
     "data": {
      "text/plain": [
       "{'name': 'pavan', 'age': 23, 'city': 'vkb'}"
      ]
     },
     "execution_count": 9,
     "metadata": {},
     "output_type": "execute_result"
    }
   ],
   "source": [
    "a = {'name': 'pavan', 'age': 23, 'city': 'vkb'}\n",
    "a"
   ]
  },
  {
   "cell_type": "code",
   "execution_count": 10,
   "id": "5975627f",
   "metadata": {},
   "outputs": [
    {
     "data": {
      "text/plain": [
       "{}"
      ]
     },
     "execution_count": 10,
     "metadata": {},
     "output_type": "execute_result"
    }
   ],
   "source": [
    "a.clear()\n",
    "a"
   ]
  },
  {
   "cell_type": "markdown",
   "id": "7831fe6f",
   "metadata": {},
   "source": [
    "# copy()\n",
    "* copy() method is a built-in method that returns a shallow copy of the dictionary.\n",
    "\n",
    "Syntax: new_dict = dictionary.copy()"
   ]
  },
  {
   "cell_type": "code",
   "execution_count": 11,
   "id": "99851696",
   "metadata": {},
   "outputs": [
    {
     "name": "stdout",
     "output_type": "stream",
     "text": [
      "{'name': 'pavan', 'age': 23, 'city': 'vkb'}\n",
      "<class 'dict'>\n",
      "0x19f979bb280\n",
      "{'name': 'pavan', 'age': 23, 'city': 'vkb'}\n",
      "<class 'dict'>\n",
      "0x19f9795a180\n"
     ]
    }
   ],
   "source": [
    "a = {'name': 'pavan', 'age': 23, 'city': 'vkb'}\n",
    "b = a.copy()\n",
    "print(a, type(a), hex(id(a)), sep='\\n')\n",
    "print(b, type(b), hex(id(b)), sep='\\n')"
   ]
  },
  {
   "cell_type": "markdown",
   "id": "c5427f8a",
   "metadata": {},
   "source": [
    "# pop()\n",
    "* The pop() method removes the specified item from the dictionary.\n",
    "\n",
    " Syntax: dictionary.pop(keyname, defaultvalue)"
   ]
  },
  {
   "cell_type": "code",
   "execution_count": 13,
   "id": "0452d0fe",
   "metadata": {},
   "outputs": [
    {
     "name": "stdout",
     "output_type": "stream",
     "text": [
      "{'brand': 'Ford', 'year': 1964}\n"
     ]
    }
   ],
   "source": [
    "car = {\"brand\": \"Ford\",\n",
    "       \"model\": \"Mustang\",\n",
    "       \"year\": 1964}\n",
    "car.pop(\"model\")\n",
    "\n",
    "print(car)"
   ]
  },
  {
   "cell_type": "code",
   "execution_count": 14,
   "id": "1c484ccd",
   "metadata": {},
   "outputs": [
    {
     "name": "stdout",
     "output_type": "stream",
     "text": [
      "{'brand': 'Ford', 'model': 'Mustang'}\n"
     ]
    }
   ],
   "source": [
    "car = {\"brand\": \"Ford\",\n",
    "       \"model\": \"Mustang\",\n",
    "       \"year\": 1964}\n",
    "car.pop(\"year\")\n",
    "\n",
    "print(car)"
   ]
  },
  {
   "cell_type": "code",
   "execution_count": 15,
   "id": "26e942e0",
   "metadata": {},
   "outputs": [
    {
     "data": {
      "text/plain": [
       "{1: 11, 2: 22}"
      ]
     },
     "execution_count": 15,
     "metadata": {},
     "output_type": "execute_result"
    }
   ],
   "source": [
    "# unpacked dict\n",
    "x = dict(((1,11),\n",
    "         (2,22)))\n",
    "x"
   ]
  },
  {
   "cell_type": "markdown",
   "id": "29c1bb98",
   "metadata": {},
   "source": [
    "# get()\n",
    "* get() is a method in Python dictionaries that returns the value of a specified key.\n",
    "* If the key is not found, it returns None by default.\n",
    "\n",
    "Syntax: dictionary.get(key, default=None)"
   ]
  },
  {
   "cell_type": "code",
   "execution_count": 16,
   "id": "dc0a8bdd",
   "metadata": {},
   "outputs": [
    {
     "data": {
      "text/plain": [
       "{'k1': 1, 'k2': 2, 'k3': 3}"
      ]
     },
     "execution_count": 16,
     "metadata": {},
     "output_type": "execute_result"
    }
   ],
   "source": [
    "x = {'k1':1,\n",
    "     'k2':2,\n",
    "     'k3':3}\n",
    "x"
   ]
  },
  {
   "cell_type": "code",
   "execution_count": 17,
   "id": "b7fa1733",
   "metadata": {},
   "outputs": [
    {
     "data": {
      "text/plain": [
       "2"
      ]
     },
     "execution_count": 17,
     "metadata": {},
     "output_type": "execute_result"
    }
   ],
   "source": [
    "x['k2']"
   ]
  },
  {
   "cell_type": "code",
   "execution_count": 18,
   "id": "e3729f7f",
   "metadata": {},
   "outputs": [
    {
     "data": {
      "text/plain": [
       "2"
      ]
     },
     "execution_count": 18,
     "metadata": {},
     "output_type": "execute_result"
    }
   ],
   "source": [
    "x.get('k2')"
   ]
  },
  {
   "cell_type": "markdown",
   "id": "9bf56dec",
   "metadata": {},
   "source": [
    "# update()\n",
    "* update() is a method in Python dictionaries that updates the dictionary with the key-value pairs from another dictionary or an iterable of key-value pairs.\n",
    "\n",
    "Syntax:\n",
    "* dictionary.update(other_dictionary)\n",
    "* dictionary.update(iterable_of_key_value_pairs)"
   ]
  },
  {
   "cell_type": "code",
   "execution_count": 19,
   "id": "a5aee0da",
   "metadata": {},
   "outputs": [
    {
     "data": {
      "text/plain": [
       "{'k1': 1, 'k2': 2, 'k3': 3}"
      ]
     },
     "execution_count": 19,
     "metadata": {},
     "output_type": "execute_result"
    }
   ],
   "source": [
    "x = {'k1':1,\n",
    "    'k2':2,\n",
    "    'k3':3}\n",
    "x"
   ]
  },
  {
   "cell_type": "code",
   "execution_count": 20,
   "id": "2aa6772b",
   "metadata": {},
   "outputs": [
    {
     "data": {
      "text/plain": [
       "{'k1': 111, 'k2': 2, 'k3': 3}"
      ]
     },
     "execution_count": 20,
     "metadata": {},
     "output_type": "execute_result"
    }
   ],
   "source": [
    "x['k1'] = 111\n",
    "x"
   ]
  },
  {
   "cell_type": "code",
   "execution_count": 21,
   "id": "4022a4b6",
   "metadata": {},
   "outputs": [
    {
     "data": {
      "text/plain": [
       "{'k1': 111, 'k2': 2, 'k3': 3, 'k4': 4, 'k5': 5}"
      ]
     },
     "execution_count": 21,
     "metadata": {},
     "output_type": "execute_result"
    }
   ],
   "source": [
    "x.update([('k4',4),\n",
    "          ('k5',5)])\n",
    "x"
   ]
  },
  {
   "cell_type": "code",
   "execution_count": 22,
   "id": "708cbbd6",
   "metadata": {},
   "outputs": [
    {
     "data": {
      "text/plain": [
       "{'k1': 111, 'k2': 2, 'k3': 3, 'k4': 4, 'k5': 5, 'k6': 6, 'k7': 7}"
      ]
     },
     "execution_count": 22,
     "metadata": {},
     "output_type": "execute_result"
    }
   ],
   "source": [
    "x.update({'k6':6,\n",
    "         'k7':7})\n",
    "x"
   ]
  },
  {
   "cell_type": "code",
   "execution_count": 25,
   "id": "2eacd15d",
   "metadata": {},
   "outputs": [
    {
     "name": "stdout",
     "output_type": "stream",
     "text": [
      "{}\n",
      "<class 'dict'>\n",
      "0x19f979b5f80\n",
      "{'k1': 111, 'k2': 2, 'k3': 3, 'k4': 4, 'k5': 5, 'k6': 6, 'k7': 7}\n",
      "<class 'dict'>\n",
      "0x19f979b5f80\n"
     ]
    }
   ],
   "source": [
    "a = {}\n",
    "print(a, type(a), hex(id(a)), sep='\\n')\n",
    "a.update(x)\n",
    "print(a, type(a), hex(id(a)), sep='\\n')"
   ]
  },
  {
   "cell_type": "markdown",
   "id": "597b38e3",
   "metadata": {},
   "source": [
    "# keys()\n",
    "* keys() is a method in Python dictionaries that returns a view object containing all the keys in the dictionary.\n",
    "\n",
    " Syntax: dictionary.keys()"
   ]
  },
  {
   "cell_type": "code",
   "execution_count": 26,
   "id": "65e75be8",
   "metadata": {},
   "outputs": [
    {
     "data": {
      "text/plain": [
       "{'k1': 111, 'k2': 2, 'k3': 3, 'k4': 4, 'k5': 5, 'k6': 6, 'k7': 7}"
      ]
     },
     "execution_count": 26,
     "metadata": {},
     "output_type": "execute_result"
    }
   ],
   "source": [
    "a"
   ]
  },
  {
   "cell_type": "code",
   "execution_count": 27,
   "id": "c69be332",
   "metadata": {},
   "outputs": [
    {
     "name": "stdout",
     "output_type": "stream",
     "text": [
      "dict_keys(['k1', 'k2', 'k3', 'k4', 'k5', 'k6', 'k7'])\n",
      "<class 'dict_keys'>\n",
      "7\n",
      "\n",
      "['k1', 'k2', 'k3', 'k4', 'k5', 'k6', 'k7']\n",
      "<class 'list'>\n",
      "7\n"
     ]
    }
   ],
   "source": [
    "aKeys = a.keys()\n",
    "print(aKeys, type(aKeys), len(aKeys), sep='\\n')\n",
    "print()\n",
    "aKeys = list(aKeys)\n",
    "print(aKeys, type(aKeys), len(aKeys), sep='\\n')"
   ]
  },
  {
   "cell_type": "markdown",
   "id": "dc564623",
   "metadata": {},
   "source": [
    "# values()\n",
    "* values() is a method in Python dictionaries that returns a view object containing all the values in the dictionary.\n",
    "\n",
    " Syntax: dictionary.values()\n"
   ]
  },
  {
   "cell_type": "code",
   "execution_count": 28,
   "id": "83950630",
   "metadata": {},
   "outputs": [
    {
     "name": "stdout",
     "output_type": "stream",
     "text": [
      "dict_values([111, 2, 3, 4, 5, 6, 7])\n",
      "<class 'dict_values'>\n",
      "7\n",
      "\n",
      "[111, 2, 3, 4, 5, 6, 7]\n",
      "<class 'list'>\n",
      "7\n"
     ]
    }
   ],
   "source": [
    "aValues = a.values()\n",
    "print(aValues, type(aValues), len(aValues), sep='\\n')\n",
    "print()\n",
    "aValues = list(aValues)\n",
    "print(aValues, type(aValues), len(aValues), sep='\\n')"
   ]
  },
  {
   "cell_type": "markdown",
   "id": "8065b527",
   "metadata": {},
   "source": [
    "# items()\n",
    "* items() is a method in Python dictionaries that returns a view object containing all the key-value pairs in the dictionary.\n",
    "\n",
    "Syntax: dictionary.items()"
   ]
  },
  {
   "cell_type": "code",
   "execution_count": 29,
   "id": "fbe2971b",
   "metadata": {},
   "outputs": [
    {
     "data": {
      "text/plain": [
       "{'k1': 111, 'k2': 2, 'k3': 3, 'k4': 4, 'k5': 5, 'k6': 6, 'k7': 7}"
      ]
     },
     "execution_count": 29,
     "metadata": {},
     "output_type": "execute_result"
    }
   ],
   "source": [
    "a"
   ]
  },
  {
   "cell_type": "code",
   "execution_count": 30,
   "id": "bae7cd05",
   "metadata": {},
   "outputs": [
    {
     "data": {
      "text/plain": [
       "dict_items([('k1', 111), ('k2', 2), ('k3', 3), ('k4', 4), ('k5', 5), ('k6', 6), ('k7', 7)])"
      ]
     },
     "execution_count": 30,
     "metadata": {},
     "output_type": "execute_result"
    }
   ],
   "source": [
    "a.items()"
   ]
  },
  {
   "cell_type": "markdown",
   "id": "b8ea4eec",
   "metadata": {},
   "source": [
    "# popitem()\n",
    "* popitem() is a method in Python dictionaries that removes and returns the last inserted key-value pair from the dictionary as a tuple.\n",
    "\n",
    "Syntax: dictionary.popitem()"
   ]
  },
  {
   "cell_type": "code",
   "execution_count": 35,
   "id": "c0308f6d",
   "metadata": {},
   "outputs": [
    {
     "data": {
      "text/plain": [
       "{'k1': 111, 'k2': 2, 'k3': 3, 'k4': 4, 'k5': 5}"
      ]
     },
     "execution_count": 35,
     "metadata": {},
     "output_type": "execute_result"
    }
   ],
   "source": [
    "a"
   ]
  },
  {
   "cell_type": "code",
   "execution_count": 36,
   "id": "4c7c7eaa",
   "metadata": {},
   "outputs": [
    {
     "data": {
      "text/plain": [
       "('k5', 5)"
      ]
     },
     "execution_count": 36,
     "metadata": {},
     "output_type": "execute_result"
    }
   ],
   "source": [
    "a.popitem()"
   ]
  },
  {
   "cell_type": "code",
   "execution_count": 37,
   "id": "3c97b006",
   "metadata": {},
   "outputs": [
    {
     "data": {
      "text/plain": [
       "{'k1': 111, 'k2': 2, 'k3': 3, 'k4': 4}"
      ]
     },
     "execution_count": 37,
     "metadata": {},
     "output_type": "execute_result"
    }
   ],
   "source": [
    "a"
   ]
  },
  {
   "cell_type": "code",
   "execution_count": 38,
   "id": "e2713a5b",
   "metadata": {},
   "outputs": [
    {
     "name": "stdout",
     "output_type": "stream",
     "text": [
      "{'brand': 'Ford', 'model': 'Mustang'}\n"
     ]
    }
   ],
   "source": [
    "car = {\"brand\": \"Ford\",\n",
    "       \"model\": \"Mustang\",\n",
    "       \"year\": 1964}\n",
    "\n",
    "car.popitem()\n",
    "\n",
    "print(car)"
   ]
  },
  {
   "cell_type": "markdown",
   "id": "e3972612",
   "metadata": {},
   "source": [
    "# fromkeys()\n",
    "* fromkeys() is a method in Python dictionaries that returns a new dictionary with keys from a given sequence and values set to a specified value.\n",
    "\n",
    "Syntax: dictionary.fromkeys(sequence, value=None)\n",
    "\n",
    "Parameters :\n",
    "* seq : The sequence to be transformed into a dictionary.\n",
    "* val : Initial values that need to be assigned to the generated keys. Defaults to None."
   ]
  },
  {
   "cell_type": "code",
   "execution_count": 39,
   "id": "986897b5",
   "metadata": {},
   "outputs": [
    {
     "data": {
      "text/plain": [
       "{'k1': 111, 'k2': 2, 'k3': 3, 'k4': 4}"
      ]
     },
     "execution_count": 39,
     "metadata": {},
     "output_type": "execute_result"
    }
   ],
   "source": [
    "a"
   ]
  },
  {
   "cell_type": "code",
   "execution_count": 40,
   "id": "2afd325b",
   "metadata": {},
   "outputs": [
    {
     "data": {
      "text/plain": [
       "{'k1': None, 'k2': None, 'k3': None, 'k4': None}"
      ]
     },
     "execution_count": 40,
     "metadata": {},
     "output_type": "execute_result"
    }
   ],
   "source": [
    "b = dict.fromkeys(a)\n",
    "b"
   ]
  },
  {
   "cell_type": "markdown",
   "id": "5867e8c8",
   "metadata": {},
   "source": [
    "# setdefault()\n",
    "* setdefault() is a method in Python dictionaries that returns the value of a specified key in the dictionary. If the key is not found, then it adds the key with the specified default value.\n",
    "\n",
    "Syntax: dictionary.setdefault(key, default_value=None)\n",
    "* Parameters: It takes two parameters:\n",
    "* key – Key to be searched in the dictionary.\n",
    "* default_value (optional) – Key with a value default_value is inserted to the dictionary if key is not in the dictionary. If not provided, the default_value will be None."
   ]
  },
  {
   "cell_type": "code",
   "execution_count": 41,
   "id": "fef7b40f",
   "metadata": {},
   "outputs": [
    {
     "name": "stdout",
     "output_type": "stream",
     "text": [
      "{'a': 97, 'b': 98, 'c': 99, 'd': 100, ' ': 20}\n"
     ]
    }
   ],
   "source": [
    "d = {'a': 97, 'b': 98, 'c': 99, 'd': 100} \n",
    "d.setdefault(' ', 20)\n",
    "print(d)"
   ]
  },
  {
   "cell_type": "code",
   "execution_count": 42,
   "id": "2a6a9ccc",
   "metadata": {},
   "outputs": [
    {
     "name": "stdout",
     "output_type": "stream",
     "text": [
      "Mustang\n"
     ]
    }
   ],
   "source": [
    "car = {\"brand\": \"Ford\",\n",
    "       \"model\": \"Mustang\",\n",
    "       \"year\": 1964} \n",
    "\n",
    "x = car.setdefault(\"model\", \"Bronco\")\n",
    "\n",
    "print(x)"
   ]
  },
  {
   "cell_type": "markdown",
   "id": "b2140a24",
   "metadata": {},
   "source": [
    "# Conditional statements"
   ]
  },
  {
   "cell_type": "code",
   "execution_count": 47,
   "id": "6098800c",
   "metadata": {},
   "outputs": [
    {
     "name": "stdout",
     "output_type": "stream",
     "text": [
      "mark scored :90\n",
      "second round\n"
     ]
    }
   ],
   "source": [
    "pavanMarks = int(input('mark scored :'))\n",
    "\n",
    "if pavanMarks >=80:\n",
    "    print('second round')\n",
    "elif pavanMarks >= 70:\n",
    "    print('First round')\n",
    "elif pavanMarks >=60:\n",
    "    print(\"screening round\")\n",
    "else:\n",
    "    print('study hard')"
   ]
  },
  {
   "cell_type": "code",
   "execution_count": 49,
   "id": "41136b3b",
   "metadata": {
    "scrolled": true
   },
   "outputs": [
    {
     "name": "stdout",
     "output_type": "stream",
     "text": [
      "Marks scored:70\n",
      "Screening round\n"
     ]
    }
   ],
   "source": [
    "Marks = int(input('Marks scored:'))\n",
    "\n",
    "Marks = 85\n",
    "\n",
    "if Marks >= 60:\n",
    "    print(\"Screening round\")\n",
    "elif Marks >= 75:\n",
    "    print(\"First round\")\n",
    "elif Marks >= 90:\n",
    "    print(\"second round\")\n",
    "else:\n",
    "    print(\"Go to home\")"
   ]
  },
  {
   "cell_type": "code",
   "execution_count": null,
   "id": "e8ef6568",
   "metadata": {},
   "outputs": [],
   "source": [
    "\n"
   ]
  }
 ],
 "metadata": {
  "kernelspec": {
   "display_name": "Python 3 (ipykernel)",
   "language": "python",
   "name": "python3"
  },
  "language_info": {
   "codemirror_mode": {
    "name": "ipython",
    "version": 3
   },
   "file_extension": ".py",
   "mimetype": "text/x-python",
   "name": "python",
   "nbconvert_exporter": "python",
   "pygments_lexer": "ipython3",
   "version": "3.11.5"
  }
 },
 "nbformat": 4,
 "nbformat_minor": 5
}
