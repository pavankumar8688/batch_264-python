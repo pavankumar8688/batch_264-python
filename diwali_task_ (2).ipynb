{
 "cells": [
  {
   "cell_type": "markdown",
   "id": "c34bd39a",
   "metadata": {},
   "source": [
    "# (DICTIONARY)\n",
    "In Python, a dictionary is a built-in data type that is used to store and organize data in key-value pairs. It is sometimes referred to as an associative array, map, or hash table in other programming languages. Dictionaries are mutable, meaning their contents can be changed after they are created"
   ]
  },
  {
   "cell_type": "markdown",
   "id": "2480ae18",
   "metadata": {},
   "source": [
    "# clear"
   ]
  },
  {
   "cell_type": "code",
   "execution_count": 26,
   "id": "2ba6e702",
   "metadata": {},
   "outputs": [
    {
     "name": "stdout",
     "output_type": "stream",
     "text": [
      "before clear_dict {10, 5, 90, 30}\n",
      "after clear_dict set()\n"
     ]
    }
   ],
   "source": [
    "## clear dictionary\n",
    "def clear_dict(my_dict):\n",
    "    \"\"\"\n",
    "    Clears the content of the object based on its mutability.\n",
    "    Parameters:\n",
    "    obj (object): The object to be cleared.\n",
    "    \"\"\"\n",
    "    keys_to_remove = list(my_dict.keys())\n",
    "    \n",
    "    for key in keys_to_remove:\n",
    "        del my_dict[key]\n",
    "        \n",
    "a ={10,5,90,10,30}\n",
    "print('before clear_dict',a)\n",
    "a.clear()\n",
    "print('after clear_dict',a)\n",
    "for element in a:\n",
    "    print(element)"
   ]
  },
  {
   "cell_type": "code",
   "execution_count": 11,
   "id": "f969cc79",
   "metadata": {},
   "outputs": [
    {
     "name": "stdout",
     "output_type": "stream",
     "text": [
      "{}\n"
     ]
    }
   ],
   "source": [
    "#clear dictionary\n",
    "def clear_dict(my_dict):\n",
    "    keys_to_remove = list(my_dict.keys())\n",
    "    \n",
    "    for key in keys_to_remove:\n",
    "        del my_dict[key]\n",
    "\n",
    "a = {'a': 1, \n",
    "     'b': 2, \n",
    "     'c': 3}\n",
    "clear_dict(a)\n",
    "print(a)"
   ]
  },
  {
   "cell_type": "markdown",
   "id": "83c7d637",
   "metadata": {},
   "source": [
    "# copy"
   ]
  },
  {
   "cell_type": "code",
   "execution_count": 18,
   "id": "259ed301",
   "metadata": {},
   "outputs": [
    {
     "name": "stdout",
     "output_type": "stream",
     "text": [
      "{'x': 11, 'y': 22, 'z': 33}\n",
      "{'x': 50, 'y': 40, 'z': 30}\n"
     ]
    }
   ],
   "source": [
    "## copy dictionary\n",
    "def copy_dict(original_dict):\n",
    "    \"\"\"\n",
    "    Creates a copy of the object based on its mutability.\n",
    "    Parameters:\n",
    "    obj (object): The object to be copied.\n",
    "    object: The copied object.\n",
    "    \"\"\"\n",
    "    new_dict = {}\n",
    "    for key, value in original_dict.items():\n",
    "        new_dict[key] = value\n",
    "    \n",
    "    return new_dict\n",
    "\n",
    "my_dict = {'x': 11, 'y': 22, 'z': 33}\n",
    "new_dict = copy_dict(my_dict)\n",
    "new_dict['x'] = 50\n",
    "new_dict['y']=40\n",
    "new_dict['z']=30\n",
    "\n",
    "print(my_dict) \n",
    "print(new_dict) "
   ]
  },
  {
   "cell_type": "markdown",
   "id": "529628c4",
   "metadata": {},
   "source": [
    "# fromkeys"
   ]
  },
  {
   "cell_type": "code",
   "execution_count": 25,
   "id": "b08f1200",
   "metadata": {},
   "outputs": [
    {
     "name": "stdout",
     "output_type": "stream",
     "text": [
      "{'pavan': 20, 'bhanu': 20, 'naveen': 20}\n"
     ]
    }
   ],
   "source": [
    "# fromkeys dictionary\n",
    "def fromkeys_dict(iterable, value=None):\n",
    "    \"\"\"\n",
    "    Create a new dictionary with keys from the iterable and values set to the specified value.\n",
    "    Parameters:\n",
    "    - iterable: Iterable containing keys for the new dictionary.\n",
    "    - value: Value to set for each key. Defaults to None.\n",
    "    - A new dictionary with keys from the iterable and values set to the specified value.\n",
    "    \"\"\"\n",
    "    result_dict = {}\n",
    "    for key in iterable:\n",
    "        result_dict[key] = value\n",
    "    return result_dict\n",
    "\n",
    "keys = ['pavan', 'bhanu', 'naveen']\n",
    "custom_dict = fromkeys_dict(keys,20)\n",
    "print(custom_dict)\n"
   ]
  },
  {
   "cell_type": "markdown",
   "id": "a6eea97f",
   "metadata": {},
   "source": [
    "# items"
   ]
  },
  {
   "cell_type": "code",
   "execution_count": 17,
   "id": "a12dc6bd",
   "metadata": {},
   "outputs": [
    {
     "name": "stdout",
     "output_type": "stream",
     "text": [
      "[('x', 11), ('y', 22), ('z', 33)]\n"
     ]
    }
   ],
   "source": [
    "## items dictionary\n",
    "def custom_items(input_dict):\n",
    "    \"\"\"\n",
    "    Simulates the behavior of the items() method for dictionaries.\n",
    "    obj (dict-like): The dictionary-like object.\n",
    "    list: A list of (key, value) pairs.\n",
    "    \"\"\"\n",
    "    result_items = [(key, input_dict[key]) for key in input_dict]\n",
    "    return result_items\n",
    "\n",
    "my_dict = {'x': 11, 'y': 22, 'z': 33}\n",
    "result = custom_items(my_dict)\n",
    "print(result)\n"
   ]
  },
  {
   "cell_type": "code",
   "execution_count": null,
   "id": "740ca687",
   "metadata": {},
   "outputs": [],
   "source": []
  },
  {
   "cell_type": "markdown",
   "id": "610251f3",
   "metadata": {},
   "source": [
    "# (list)\n",
    "* Lists are used to store multiple items in a single variable.\n",
    "* Lists are one of 4 built-in data types in Python used to store collections of data, the other 3 are Tuple, Set, and Dictionary, all with different qualities and usage.\n",
    "\n",
    "* Lists are created using square brackets:\n"
   ]
  },
  {
   "cell_type": "markdown",
   "id": "7e74e48f",
   "metadata": {},
   "source": [
    "# insert"
   ]
  },
  {
   "cell_type": "code",
   "execution_count": 24,
   "id": "cb39a55e",
   "metadata": {},
   "outputs": [
    {
     "name": "stdout",
     "output_type": "stream",
     "text": [
      "List after custom insert: ['pavan', 'karthik', 'bhanu', 'naveen']\n"
     ]
    }
   ],
   "source": [
    "def custom_insert(my_list, index, value):\n",
    "    \"\"\"\n",
    "    Simulates the behavior of the insert() method for lists.\n",
    "    Parameters:\n",
    "    my_list (list): The list to insert into.\n",
    "    index (int): The index at which to insert the value.\n",
    "    value: The value to insert.\n",
    "    \"\"\"\n",
    "    if not isinstance(my_list, list):\n",
    "        raise TypeError(\"custom_insert() only works with lists.\")\n",
    "\n",
    "    if not (0 <= index <= len(my_list)):\n",
    "        raise IndexError(\"Index out of range.\")\n",
    "    new_list = my_list[:index] + [value] + my_list[index:]\n",
    "    my_list[:] = new_list\n",
    "    \n",
    "my_list = ['pavan','bhanu','naveen']\n",
    "custom_insert(my_list, 1,'karthik')\n",
    "print(\"List after custom insert:\", my_list)\n"
   ]
  },
  {
   "cell_type": "markdown",
   "id": "f88c0555",
   "metadata": {},
   "source": [
    "# pop"
   ]
  },
  {
   "cell_type": "code",
   "execution_count": 29,
   "id": "0c2e92e7",
   "metadata": {},
   "outputs": [
    {
     "name": "stdout",
     "output_type": "stream",
     "text": [
      "Popped value: naveen\n",
      "List after custom pop: ['pavan', 'bhanu', 'pavan', 'bhanu', 'naveen']\n"
     ]
    }
   ],
   "source": [
    "def custom_pop(my_list, index=-1):\n",
    "    \"\"\"\n",
    "    Simulates the behavior of the pop() method for lists.\n",
    "    my_list (list): The list to pop from.\n",
    "    index (int, optional): The index of the item to pop. Default is -1:\n",
    "    Returns:\n",
    "    The popped value.\n",
    "    \"\"\"\n",
    "    if not isinstance(my_list, list):\n",
    "        raise TypeError(\"custom_pop() only works with lists.\")\n",
    "\n",
    "    if not my_list:\n",
    "        raise IndexError(\"pop from an empty list.\")\n",
    "\n",
    "    if not (-len(my_list) <= index < len(my_list)):\n",
    "        raise IndexError(\"Index out of range.\")\n",
    "    popped_value = my_list[index]\n",
    "    new_list = my_list[:index] + my_list[index + 1:]\n",
    "    my_list[:] = new_list\n",
    "\n",
    "    return popped_value\n",
    "my_list = ['pavan','bhanu','naveen']\n",
    "popped_value = custom_pop(my_list) \n",
    "print('Popped value:', popped_value)\n",
    "print('List after custom pop:', my_list)\n"
   ]
  },
  {
   "cell_type": "markdown",
   "id": "8b48969b",
   "metadata": {},
   "source": [
    "# reveres"
   ]
  },
  {
   "cell_type": "code",
   "execution_count": 31,
   "id": "db060d90",
   "metadata": {},
   "outputs": [
    {
     "name": "stdout",
     "output_type": "stream",
     "text": [
      "List after custom reverse: ['karthik', 'bhanu', 'naveen', 'pavan']\n"
     ]
    }
   ],
   "source": [
    "def custom_reverse(my_list):\n",
    "    \"\"\"\n",
    "    Simulates the behavior of the reverse() method for lists.\n",
    "    my_list (list): The list to reverse:\n",
    "    \n",
    "    \"\"\"\n",
    "    if not isinstance(my_list, list):\n",
    "        raise TypeError('custom_reverse() only works with lists.')\n",
    "    length = len(my_list)\n",
    "    mid_point = length // 2\n",
    "    for i in range(mid_point):\n",
    "        my_list[i], my_list[length - 1 - i] = my_list[length - 1 - i], my_list[i]\n",
    "my_list = ['pavan','naveen','bhanu','karthik']\n",
    "custom_reverse(my_list)\n",
    "print(\"List after custom reverse:\", my_list)\n"
   ]
  },
  {
   "cell_type": "code",
   "execution_count": null,
   "id": "73ec48d1",
   "metadata": {},
   "outputs": [],
   "source": []
  }
 ],
 "metadata": {
  "kernelspec": {
   "display_name": "Python 3 (ipykernel)",
   "language": "python",
   "name": "python3"
  },
  "language_info": {
   "codemirror_mode": {
    "name": "ipython",
    "version": 3
   },
   "file_extension": ".py",
   "mimetype": "text/x-python",
   "name": "python",
   "nbconvert_exporter": "python",
   "pygments_lexer": "ipython3",
   "version": "3.11.5"
  }
 },
 "nbformat": 4,
 "nbformat_minor": 5
}
