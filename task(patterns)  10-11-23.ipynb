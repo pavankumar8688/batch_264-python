{
 "cells": [
  {
   "cell_type": "markdown",
   "metadata": {},
   "source": [
    "# patterns"
   ]
  },
  {
   "cell_type": "code",
   "execution_count": 8,
   "metadata": {
    "scrolled": true
   },
   "outputs": [
    {
     "name": "stdout",
     "output_type": "stream",
     "text": [
      "enter row value : 6\n",
      "          * \n",
      "        * * * \n",
      "      * * * * * \n",
      "    * * * * * * * \n",
      "  * * * * * * * * * \n",
      "* * * * * * * * * * * \n"
     ]
    }
   ],
   "source": [
    "r = int(input('enter row value : '))\n",
    "def pattern1():\n",
    "    for i in range(r):\n",
    "        for j in range(r-i-1):\n",
    "            print(' ',end = ' ')\n",
    "        for k in range(2*i+1):\n",
    "            print(chr(42), end = ' ')\n",
    "        print( )\n",
    "pattern1()"
   ]
  },
  {
   "cell_type": "code",
   "execution_count": 9,
   "metadata": {},
   "outputs": [
    {
     "name": "stdout",
     "output_type": "stream",
     "text": [
      "enter row values : 6\n",
      "          1 \n",
      "        1 2 3 \n",
      "      1 2 3 4 5 \n",
      "    1 2 3 4 5 6 7 \n",
      "  1 2 3 4 5 6 7 8 9 \n",
      "1 2 3 4 5 6 7 8 9 10 11 \n"
     ]
    }
   ],
   "source": [
    "r = int(input('enter row values : '))\n",
    "def pattern2():\n",
    "    for i in range(r):\n",
    "        for j in range(r-i-1):\n",
    "            print(' ',end = ' ')\n",
    "        for k in range(2*i+1):\n",
    "            print(int(1+k), end = ' ')\n",
    "        print( )\n",
    "pattern2()"
   ]
  },
  {
   "cell_type": "code",
   "execution_count": 10,
   "metadata": {},
   "outputs": [
    {
     "name": "stdout",
     "output_type": "stream",
     "text": [
      "enter row values : 5\n",
      "        A \n",
      "      A B C \n",
      "    A B C D E \n",
      "  A B C D E F G \n",
      "A B C D E F G H I \n"
     ]
    }
   ],
   "source": [
    "r = int(input('enter row values : '))\n",
    "def pattern3():\n",
    "    for i in range(r):\n",
    "        for j in range(r-i-1):\n",
    "            print(' ',end = ' ')\n",
    "        for k in range(2*i+1):\n",
    "            print(chr(65+k), end = ' ')\n",
    "        print( )\n",
    "pattern3()"
   ]
  },
  {
   "cell_type": "code",
   "execution_count": 11,
   "metadata": {},
   "outputs": [
    {
     "name": "stdout",
     "output_type": "stream",
     "text": [
      "enter row values : 5\n",
      "* * * * * * * * * \n",
      "  * * * * * * * \n",
      "    * * * * * \n",
      "      * * * \n",
      "        * \n"
     ]
    }
   ],
   "source": [
    "r = int(input('enter row values : '))\n",
    "def pattern4():\n",
    "    for i in range(r-0):\n",
    "        for j in range(i):\n",
    "            print(' ',end = ' ')\n",
    "        for k in range(2*(r-i)-1):\n",
    "            print(chr(42), end = ' ')\n",
    "        print( )\n",
    "pattern4()"
   ]
  },
  {
   "cell_type": "code",
   "execution_count": 12,
   "metadata": {},
   "outputs": [
    {
     "name": "stdout",
     "output_type": "stream",
     "text": [
      "enter row values : 5\n",
      "A B C D E F G H I \n",
      "  A B C D E F G \n",
      "    A B C D E \n",
      "      A B C \n",
      "        A \n"
     ]
    }
   ],
   "source": [
    "r = int(input('enter row values : '))\n",
    "def pattern5():\n",
    "    for i in range(r-0):\n",
    "        for j in range(i):\n",
    "            print(' ',end = ' ')\n",
    "        for k in range(2*(r-i)-1):\n",
    "            print(chr(65+k), end = ' ')\n",
    "        print( )\n",
    "pattern5()"
   ]
  },
  {
   "cell_type": "code",
   "execution_count": 13,
   "metadata": {},
   "outputs": [
    {
     "name": "stdout",
     "output_type": "stream",
     "text": [
      "enter row values : 5\n",
      "1 2 3 4 5 6 7 8 9 \n",
      "  1 2 3 4 5 6 7 \n",
      "    1 2 3 4 5 \n",
      "      1 2 3 \n",
      "        1 \n"
     ]
    }
   ],
   "source": [
    "r = int(input('enter row values : '))\n",
    "def pattern6():\n",
    "    for i in range(r-0):\n",
    "        for j in range(i):\n",
    "            print(' ',end = ' ')\n",
    "        for k in range(2*(r-i)-1):\n",
    "            print(int(1+k), end = ' ')\n",
    "        print( )\n",
    "pattern6()"
   ]
  },
  {
   "cell_type": "code",
   "execution_count": 14,
   "metadata": {},
   "outputs": [
    {
     "name": "stdout",
     "output_type": "stream",
     "text": [
      "enter row values : 5\n",
      "* * * * * * * * * \n",
      "  * * * * * * * \n",
      "    * * * * * \n",
      "      * * * \n",
      "        * \n",
      "      * * * \n",
      "    * * * * * \n",
      "  * * * * * * * \n",
      "* * * * * * * * * \n"
     ]
    }
   ],
   "source": [
    "r = int(input('enter row values : '))\n",
    "def pattern7():\n",
    "    for i in range(r-1):\n",
    "        for j in range(i):\n",
    "            print(' ',end = ' ')\n",
    "        for k in range(2*(r-i)-1):\n",
    "            print(chr(42), end = ' ')\n",
    "        print( )\n",
    "    for i in range(r):\n",
    "        for j in range(r-i-1):\n",
    "            print(' ',end = ' ')\n",
    "        for k in range(2*i+1):\n",
    "            print(chr(42), end = ' ')\n",
    "        print( )\n",
    "pattern7()"
   ]
  },
  {
   "cell_type": "code",
   "execution_count": 15,
   "metadata": {},
   "outputs": [
    {
     "data": {
      "text/plain": [
       "42"
      ]
     },
     "execution_count": 15,
     "metadata": {},
     "output_type": "execute_result"
    }
   ],
   "source": [
    "ord('*')"
   ]
  },
  {
   "cell_type": "code",
   "execution_count": 16,
   "metadata": {},
   "outputs": [
    {
     "name": "stdout",
     "output_type": "stream",
     "text": [
      "enter row values : 5\n",
      "A B C D E F G H I \n",
      "  A B C D E F G \n",
      "    A B C D E \n",
      "      A B C \n",
      "        A \n",
      "      A B C \n",
      "    A B C D E \n",
      "  A B C D E F G \n",
      "A B C D E F G H I \n"
     ]
    }
   ],
   "source": [
    "r = int(input('enter row values : '))\n",
    "def pattern8():\n",
    "    for i in range(r-1):\n",
    "        for j in range(i):\n",
    "            print(' ',end = ' ')\n",
    "        for k in range(2*(r-i)-1):\n",
    "            print(chr(65+k), end = ' ')\n",
    "        print( )\n",
    "    for i in range(r):\n",
    "        for j in range(r-i-1):\n",
    "            print(' ',end = ' ')\n",
    "        for k in range(2*i+1):\n",
    "            print(chr(65+k), end = ' ')\n",
    "        print( )\n",
    "pattern8()"
   ]
  },
  {
   "cell_type": "code",
   "execution_count": 17,
   "metadata": {},
   "outputs": [
    {
     "name": "stdout",
     "output_type": "stream",
     "text": [
      "enter row values : 5\n",
      "1 2 3 4 5 6 7 8 9 \n",
      "  1 2 3 4 5 6 7 \n",
      "    1 2 3 4 5 \n",
      "      1 2 3 \n",
      "        1 \n",
      "      1 2 3 \n",
      "    1 2 3 4 5 \n",
      "  1 2 3 4 5 6 7 \n",
      "1 2 3 4 5 6 7 8 9 \n"
     ]
    }
   ],
   "source": [
    "r = int(input('enter row values : '))\n",
    "def pattern9():\n",
    "    for i in range(r-1):\n",
    "        for j in range(i):\n",
    "            print(' ',end = ' ')\n",
    "        for k in range(2*(r-i)-1):\n",
    "            print(int(1+k), end = ' ')\n",
    "        print( )\n",
    "    for i in range(r):\n",
    "        for j in range(r-i-1):\n",
    "            print(' ',end = ' ')\n",
    "        for k in range(2*i+1):\n",
    "            print(int(1+k), end = ' ')\n",
    "        print( )\n",
    "pattern9()"
   ]
  },
  {
   "cell_type": "code",
   "execution_count": 18,
   "metadata": {},
   "outputs": [
    {
     "name": "stdout",
     "output_type": "stream",
     "text": [
      "enter row value : 10\n",
      "                  * \n",
      "                * * * \n",
      "              * * * * * \n",
      "            * * * * * * * \n",
      "          * * * * * * * * * \n",
      "        * * * * * * * * * * * \n",
      "      * * * * * * * * * * * * * \n",
      "    * * * * * * * * * * * * * * * \n",
      "  * * * * * * * * * * * * * * * * * \n",
      "* * * * * * * * * * * * * * * * * * * \n",
      "  * * * * * * * * * * * * * * * * * \n",
      "    * * * * * * * * * * * * * * * \n",
      "      * * * * * * * * * * * * * \n",
      "        * * * * * * * * * * * \n",
      "          * * * * * * * * * \n",
      "            * * * * * * * \n",
      "              * * * * * \n",
      "                * * * \n",
      "                  * \n"
     ]
    }
   ],
   "source": [
    "r = int(input('enter row value : '))\n",
    "def pattern10():\n",
    "    for i in range(r):\n",
    "        for j in range(r-i-1):\n",
    "            print(' ', end = ' ')\n",
    "        for j in range(2*i+1):\n",
    "            print(chr(42), end = ' ')\n",
    "        print( )\n",
    "    for i in range(r-1):\n",
    "        for j in range(i+1):\n",
    "            print(' ',end = ' ')\n",
    "        for j in range(2*(r-i-1)-1):\n",
    "            print(chr(42), end = ' ')\n",
    "        print( )\n",
    "pattern10()"
   ]
  },
  {
   "cell_type": "code",
   "execution_count": 19,
   "metadata": {},
   "outputs": [
    {
     "name": "stdout",
     "output_type": "stream",
     "text": [
      "enter row value : 5\n",
      "        1 \n",
      "      1 2 3 \n",
      "    1 2 3 4 5 \n",
      "  1 2 3 4 5 6 7 \n",
      "1 2 3 4 5 6 7 8 9 \n",
      "  1 2 3 4 5 6 7 \n",
      "    1 2 3 4 5 \n",
      "      1 2 3 \n",
      "        1 \n"
     ]
    }
   ],
   "source": [
    "r = int(input('enter row value : '))\n",
    "def pattern12():\n",
    "    for i in range(r):\n",
    "        for j in range(r-i-1):\n",
    "            print(' ', end = ' ')\n",
    "        for j in range(2*i+1):\n",
    "            print(int(1+j), end = ' ')\n",
    "        print( )\n",
    "    for i in range(r-1):\n",
    "        for j in range(i+1):\n",
    "            print(' ',end = ' ')\n",
    "        for j in range(2*(r-i-1)-1):\n",
    "            print(int(1+j), end = ' ')\n",
    "        print( )\n",
    "pattern12()"
   ]
  },
  {
   "cell_type": "code",
   "execution_count": 21,
   "metadata": {},
   "outputs": [
    {
     "name": "stdout",
     "output_type": "stream",
     "text": [
      "* \n",
      "* * \n",
      "* * * \n",
      "* * * * \n",
      "* * * * * \n",
      "* * * * * \n",
      "* * * * \n",
      "* * * \n",
      "* * \n",
      "* \n"
     ]
    }
   ],
   "source": [
    "x=5\n",
    "for i in range(1,x+1):\n",
    "    for j in range(i):\n",
    "        print('*',end=' ')\n",
    "    print()\n",
    "for i in range(x):\n",
    "    for j in range(i,x):\n",
    "        print('*',end=' ')\n",
    "    print()\n"
   ]
  },
  {
   "cell_type": "code",
   "execution_count": 24,
   "metadata": {},
   "outputs": [
    {
     "name": "stdout",
     "output_type": "stream",
     "text": [
      "* \n",
      "* * \n",
      "* * * \n",
      "* * * * \n",
      "* * * * * \n"
     ]
    }
   ],
   "source": [
    "def foo_pattern(x,y):\n",
    "    for i in range(1,6):\n",
    "        for j in range(i):\n",
    "            print('*',end= ' ')\n",
    "        print()\n",
    "foo_pattern(6,'*')"
   ]
  },
  {
   "cell_type": "code",
   "execution_count": 25,
   "metadata": {},
   "outputs": [
    {
     "name": "stdout",
     "output_type": "stream",
     "text": [
      "* * * * * \n",
      "* * * * \n",
      "* * * \n",
      "* * \n",
      "* \n"
     ]
    }
   ],
   "source": [
    "def foo_pattern(x,y):\n",
    "    for i in range(5,0,-1):\n",
    "        for j in range(i):\n",
    "            print('*',end= ' ')\n",
    "        print()\n",
    "foo_pattern(5,'#')"
   ]
  },
  {
   "cell_type": "code",
   "execution_count": null,
   "metadata": {},
   "outputs": [],
   "source": []
  }
 ],
 "metadata": {
  "kernelspec": {
   "display_name": "Python 3 (ipykernel)",
   "language": "python",
   "name": "python3"
  },
  "language_info": {
   "codemirror_mode": {
    "name": "ipython",
    "version": 3
   },
   "file_extension": ".py",
   "mimetype": "text/x-python",
   "name": "python",
   "nbconvert_exporter": "python",
   "pygments_lexer": "ipython3",
   "version": "3.11.5"
  }
 },
 "nbformat": 4,
 "nbformat_minor": 4
}
