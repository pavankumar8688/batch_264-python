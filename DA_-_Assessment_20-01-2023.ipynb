{
 "cells": [
  {
   "cell_type": "markdown",
   "id": "e5780312",
   "metadata": {},
   "source": [
    "# `Module - Python`"
   ]
  },
  {
   "cell_type": "markdown",
   "id": "f1323b47",
   "metadata": {},
   "source": [
    "### 1 )  What will be the out put of the following python program \n",
    "\n",
    "1. error \n",
    "2. none\n",
    "3. False\n",
    "4. True"
   ]
  },
  {
   "cell_type": "code",
   "execution_count": 1,
   "id": "2dbe5373",
   "metadata": {},
   "outputs": [
    {
     "name": "stdout",
     "output_type": "stream",
     "text": [
      "True\n"
     ]
    }
   ],
   "source": [
    "def foo(x):     # function 'foo' that takes a list x as an argument.\n",
    "    x[0]=['def']\n",
    "    x[1]=['abc']\n",
    "    return id(x)     #function returns the id of the modified list (x)\n",
    "q=['abc','def']           #q is a list with ['abc', 'def'].\n",
    "print(id(q)==foo(q))   # cheking both id's are eqaul or not ,if it is equal it prints True "
   ]
  },
  {
   "cell_type": "markdown",
   "id": "75762770",
   "metadata": {},
   "source": [
    "### 2 ) what will be the output of the following python code ?\n",
    "\n",
    "1. error,there is more than one return statement in a single try finally block\n",
    "2. 1\n",
    "3. 1 2\n",
    "4. 2"
   ]
  },
  {
   "cell_type": "code",
   "execution_count": 2,
   "id": "a1ba5d00",
   "metadata": {},
   "outputs": [
    {
     "name": "stdout",
     "output_type": "stream",
     "text": [
      "2\n"
     ]
    }
   ],
   "source": [
    "def fun():\n",
    "    try:\n",
    "        return 1    #The try block is entered, and return 1 is encountered.\n",
    "    finally:\n",
    "        return 2    #Instead of immediately returning, the finally block is executed, which contains return 2.\n",
    "k=fun()\n",
    "print(k)"
   ]
  },
  {
   "cell_type": "markdown",
   "id": "34bc072f",
   "metadata": {},
   "source": [
    "### 3 ) what will be the output of the following code snippet ?\n",
    "\n",
    "1. Local\n",
    "2. Global\n",
    "3. None\n",
    "4. Cannot be predictable \n",
    "\n",
    "#### option 1 is correct "
   ]
  },
  {
   "cell_type": "code",
   "execution_count": 3,
   "id": "fb7ed61c",
   "metadata": {},
   "outputs": [
    {
     "name": "stdout",
     "output_type": "stream",
     "text": [
      "Local\n"
     ]
    }
   ],
   "source": [
    "# explanation\n",
    "def func():\n",
    "    global value       #Initially, you have a global variable value set to 'global'.\n",
    "    value = \"Local\"\n",
    "                      #The function fun is defined, which has a global declaration for value and assigns 'local' to it.\n",
    "value = \"Global\"\n",
    "func()           #call the fun function, but it doesn't have a return statement, so it doesn't explicitly return a value.\n",
    "print(value)"
   ]
  },
  {
   "cell_type": "markdown",
   "id": "8134c354",
   "metadata": {},
   "source": [
    "### 4 ) _______ expectations are raised as a result of an error in opening a particular file.\n",
    "\n",
    "1. Vlaue Error\n",
    "2. TypeError\n",
    "3. ImportError \n",
    "4. IOError \n",
    "\n",
    "### anwer: IOError"
   ]
  },
  {
   "cell_type": "code",
   "execution_count": 4,
   "id": "6f4aea80",
   "metadata": {},
   "outputs": [],
   "source": [
    "\n",
    "#The specific type of exception that is raised when there's an issue with opening a file is called an IOError. This means Input/Output Error. It's like a signal from Python telling you, \"Hey, there's a problem with reading or writing to this file!\""
   ]
  },
  {
   "cell_type": "markdown",
   "id": "15515966",
   "metadata": {},
   "source": [
    "### 5 ) In python we do not specify types, it is directly interpreted by the compiler , so consider the following opeations to be performed.\n",
    "\n",
    "1. x= 13//2\n",
    "2. x= int(13/2)\n",
    "3. x=13%2\n",
    "4. all of the mentioned\n",
    "\n",
    "#### ans:      all of the mentioned"
   ]
  },
  {
   "cell_type": "code",
   "execution_count": 5,
   "id": "25c05f7f",
   "metadata": {},
   "outputs": [],
   "source": [
    "x=13/2 ## it is directly interpreted by the compiler "
   ]
  },
  {
   "cell_type": "code",
   "execution_count": 6,
   "id": "051015b8",
   "metadata": {},
   "outputs": [],
   "source": [
    "x=int(13/2)  #This code calculates the integer division result of 13 divided by 2."
   ]
  },
  {
   "cell_type": "code",
   "execution_count": 7,
   "id": "68b9291f",
   "metadata": {},
   "outputs": [],
   "source": [
    "x=13%2 #since 13 is an odd number, the remainder when divided by 2 is 1."
   ]
  },
  {
   "cell_type": "markdown",
   "id": "9aa0a876",
   "metadata": {},
   "source": [
    "### 6 ) what will be the output of the following python code \n",
    "1. index error\n",
    "2. name error\n",
    "3. value erro\n",
    "4. syntactical error\n",
    "\n",
    "#### ans : 2 is correct "
   ]
  },
  {
   "cell_type": "code",
   "execution_count": 8,
   "id": "224d84f2",
   "metadata": {},
   "outputs": [
    {
     "ename": "NameError",
     "evalue": "name 't' is not defined",
     "output_type": "error",
     "traceback": [
      "\u001b[1;31m---------------------------------------------------------------------------\u001b[0m",
      "\u001b[1;31mNameError\u001b[0m                                 Traceback (most recent call last)",
      "Cell \u001b[1;32mIn[8], line 1\u001b[0m\n\u001b[1;32m----> 1\u001b[0m t[\u001b[38;5;241m5\u001b[39m]\n",
      "\u001b[1;31mNameError\u001b[0m: name 't' is not defined"
     ]
    }
   ],
   "source": [
    "t[5]   # If t is not defined "
   ]
  },
  {
   "cell_type": "markdown",
   "id": "5e339a3d",
   "metadata": {},
   "source": [
    "### 7 ) A while loop in python is used for what type of iteration.\n",
    "1. indefinite\n",
    "2. discriminant\n",
    "3. definite\n",
    "4. indeterminate\n",
    "\n",
    "#### ans : 1 is correct  \n"
   ]
  },
  {
   "cell_type": "code",
   "execution_count": 9,
   "id": "19003147",
   "metadata": {},
   "outputs": [],
   "source": [
    "## In Python, indefinite iteration is performed with a while loop."
   ]
  },
  {
   "cell_type": "markdown",
   "id": "2e46daae",
   "metadata": {},
   "source": [
    "### 8 ) what will be the output of the following python code ?\n",
    "1. a b c d e \n",
    "2. abcde\n",
    "3. i i i i i i i\n",
    "4. Error\n",
    "\n",
    "#### ans :  4 is correct "
   ]
  },
  {
   "cell_type": "code",
   "execution_count": 10,
   "id": "0da74b12",
   "metadata": {},
   "outputs": [
    {
     "ename": "NameError",
     "evalue": "name 'i' is not defined",
     "output_type": "error",
     "traceback": [
      "\u001b[1;31m---------------------------------------------------------------------------\u001b[0m",
      "\u001b[1;31mNameError\u001b[0m                                 Traceback (most recent call last)",
      "Cell \u001b[1;32mIn[10], line 2\u001b[0m\n\u001b[0;32m      1\u001b[0m x \u001b[38;5;241m=\u001b[39m \u001b[38;5;124m\"\u001b[39m\u001b[38;5;124m abcde \u001b[39m\u001b[38;5;124m\"\u001b[39m\n\u001b[1;32m----> 2\u001b[0m \u001b[38;5;28;01mwhile\u001b[39;00m i \u001b[38;5;129;01min\u001b[39;00m x:   \u001b[38;5;66;03m# The while loop in Python is typically used with a condition that evaluates to either True or False. In your initial code:\u001b[39;00m\n\u001b[0;32m      3\u001b[0m     \u001b[38;5;28mprint\u001b[39m(i,end\u001b[38;5;241m=\u001b[39m\u001b[38;5;124m\"\u001b[39m\u001b[38;5;124m \u001b[39m\u001b[38;5;124m\"\u001b[39m)\n",
      "\u001b[1;31mNameError\u001b[0m: name 'i' is not defined"
     ]
    }
   ],
   "source": [
    "x = \" abcde \"\n",
    "while i in x:   # The while loop in Python is typically used with a condition that evaluates to either True or False. In your initial code:\n",
    "    print(i,end=\" \")"
   ]
  },
  {
   "cell_type": "markdown",
   "id": "e885b1ac",
   "metadata": {},
   "source": [
    "### 9 ) what is the main advantages of using decorators in python ?\n",
    "\n",
    "1. They make the code more complex \n",
    "2. They simplify the syntax of the decorated.\n",
    "3. They reduce the performance of the code.\n",
    "4. They provide additional security features.\n",
    "\n",
    "#### ans :  option 2"
   ]
  },
  {
   "cell_type": "code",
   "execution_count": 11,
   "id": "b2f64e2b",
   "metadata": {},
   "outputs": [],
   "source": [
    "# The main advantage of using decorators in Python is that they simplify the syntax of the decorated functions by allowing you to add functionality without modifying their code directly."
   ]
  },
  {
   "cell_type": "markdown",
   "id": "0a3127b6",
   "metadata": {},
   "source": [
    "### 10 ) if return statement is not used inside the funciton,the funciton will return : \n",
    "\n",
    "1. None \n",
    "2. 0\n",
    "3. Null\n",
    "4. Arbitary Value\n",
    "\n",
    "#### ans : 1 is correct"
   ]
  },
  {
   "cell_type": "code",
   "execution_count": 12,
   "id": "b5e0fd9d",
   "metadata": {},
   "outputs": [],
   "source": [
    "def foo():  #If a return statement is not used inside a function, Python automatically returns None by default.\n",
    "    x=0"
   ]
  },
  {
   "cell_type": "markdown",
   "id": "681e092b",
   "metadata": {},
   "source": [
    "### 11 ) what is called when a function is defined inside a class ?\n",
    "1. class \n",
    "2. function\n",
    "3. method \n",
    "4. module \n",
    "#### ans : 3 is correct "
   ]
  },
  {
   "cell_type": "code",
   "execution_count": 13,
   "id": "029eb731",
   "metadata": {},
   "outputs": [],
   "source": [
    "## function is defined inside a class in Python, it is called a method"
   ]
  },
  {
   "cell_type": "markdown",
   "id": "0e5d4c5d",
   "metadata": {},
   "source": [
    "### 12 ) Which operator is used in python to import modules from packages ?\n",
    "1.    .\n",
    "2.    *\n",
    "3.   ->\n",
    "4.   &\n",
    "\n",
    "#### ans : 1 is correct "
   ]
  },
  {
   "cell_type": "code",
   "execution_count": 14,
   "id": "66dc8701",
   "metadata": {},
   "outputs": [],
   "source": [
    "# # When a function is defined inside a class in Python, it is called a method.\n",
    "# In Python, the dot (.) operator is used to import modules from packages. The syntax typically involves specifying the package name followed by a dot and then the module name. "
   ]
  },
  {
   "cell_type": "markdown",
   "id": "123890c6",
   "metadata": {},
   "source": [
    "### 13 ) \n",
    "1.value Error\n",
    "\n",
    "2.invalid\n",
    "\n",
    "3.6\n",
    "\n",
    "4.valueError(\"invalid\")\n",
    "\n",
    "\n",
    "#### ans : 3 is correct"
   ]
  },
  {
   "cell_type": "code",
   "execution_count": 15,
   "id": "21c6b7fe",
   "metadata": {},
   "outputs": [
    {
     "name": "stdout",
     "output_type": "stream",
     "text": [
      "6\n"
     ]
    }
   ],
   "source": [
    "def getMonth(m):   # writing function which accepts a one argument\n",
    "    if m<1 or m>12:   # its checking wheather the given argument is in between 1 to 12 ,if it is true it goes for print statement\n",
    "        raise ValueError (\"Invalid\")  # if we give below 1 and above 12 it throws an error as invalid\n",
    "    print(m)\n",
    "getMonth(6)"
   ]
  },
  {
   "cell_type": "markdown",
   "id": "0e2b2b47",
   "metadata": {},
   "source": [
    "### 14 ) in the python programming language syntax error is detected by ___at ____\n",
    "\n",
    "1. Interpreter / Compile time \n",
    "2. Run time / interpreter \n",
    "3. interpreter / Run time\n",
    "4. Compile time / Run time\n",
    "\n",
    "#### ans :3 is correct \n"
   ]
  },
  {
   "cell_type": "code",
   "execution_count": 16,
   "id": "90ae1575",
   "metadata": {},
   "outputs": [],
   "source": [
    "# In the Python programming language, syntax errors are detected by the interpreter at compile time."
   ]
  },
  {
   "cell_type": "markdown",
   "id": "cdae5412",
   "metadata": {},
   "source": [
    "### 15 ) \n",
    "1. both book1 and book2 will have refernece to two different of class Book\n",
    "2. id(book1) and id(book2) will have same value \n",
    "3. it will throw error as multiple reference to object is not possible \n",
    "4. None of the above \n",
    "\n",
    "#### ans :  2 is correct"
   ]
  },
  {
   "cell_type": "code",
   "execution_count": 17,
   "id": "2ed2188a",
   "metadata": {},
   "outputs": [],
   "source": [
    "class Book:\n",
    "    def __init__(self,author):\n",
    "        self.author=author\n",
    "book1=Book(\"V.M.Shah\")    ## Create an instance of the Book class with author \"V.M.Shah\"\n",
    "book2=book1           # Assign the reference of book1 to book2, they now both point to the same object\n"
   ]
  },
  {
   "cell_type": "code",
   "execution_count": 18,
   "id": "12d153bb",
   "metadata": {},
   "outputs": [
    {
     "data": {
      "text/plain": [
       "(1611347698832, 1611347698832)"
      ]
     },
     "execution_count": 18,
     "metadata": {},
     "output_type": "execute_result"
    }
   ],
   "source": [
    "id(book1),id(book2)   #After executing this code, both book1 and book2 reference the same Book instance. "
   ]
  },
  {
   "cell_type": "markdown",
   "id": "5dfda151",
   "metadata": {},
   "source": [
    "## module- Data Analysis"
   ]
  },
  {
   "cell_type": "code",
   "execution_count": 19,
   "id": "6c7bdfd8",
   "metadata": {},
   "outputs": [],
   "source": [
    "import pandas as pd,numpy as np"
   ]
  },
  {
   "cell_type": "code",
   "execution_count": 20,
   "id": "bb4d267a",
   "metadata": {},
   "outputs": [
    {
     "data": {
      "text/html": [
       "<div>\n",
       "<style scoped>\n",
       "    .dataframe tbody tr th:only-of-type {\n",
       "        vertical-align: middle;\n",
       "    }\n",
       "\n",
       "    .dataframe tbody tr th {\n",
       "        vertical-align: top;\n",
       "    }\n",
       "\n",
       "    .dataframe thead th {\n",
       "        text-align: right;\n",
       "    }\n",
       "</style>\n",
       "<table border=\"1\" class=\"dataframe\">\n",
       "  <thead>\n",
       "    <tr style=\"text-align: right;\">\n",
       "      <th></th>\n",
       "      <th>date</th>\n",
       "      <th>Category</th>\n",
       "      <th>Product</th>\n",
       "      <th>Customer-Id</th>\n",
       "      <th>Quantity</th>\n",
       "      <th>UnitPrice</th>\n",
       "    </tr>\n",
       "  </thead>\n",
       "  <tbody>\n",
       "    <tr>\n",
       "      <th>0</th>\n",
       "      <td>2024-01-01</td>\n",
       "      <td>Beverage</td>\n",
       "      <td>Cappuccino</td>\n",
       "      <td>C004</td>\n",
       "      <td>1</td>\n",
       "      <td>3.0</td>\n",
       "    </tr>\n",
       "    <tr>\n",
       "      <th>1</th>\n",
       "      <td>2024-01-02</td>\n",
       "      <td>Food</td>\n",
       "      <td>Croissant</td>\n",
       "      <td>C002</td>\n",
       "      <td>2</td>\n",
       "      <td>2.0</td>\n",
       "    </tr>\n",
       "    <tr>\n",
       "      <th>2</th>\n",
       "      <td>2024-01-03</td>\n",
       "      <td>Beverage</td>\n",
       "      <td>Espresso</td>\n",
       "      <td>C001</td>\n",
       "      <td>2</td>\n",
       "      <td>2.0</td>\n",
       "    </tr>\n",
       "    <tr>\n",
       "      <th>3</th>\n",
       "      <td>2024-01-10</td>\n",
       "      <td>Beverage</td>\n",
       "      <td>Latte</td>\n",
       "      <td>C001</td>\n",
       "      <td>3</td>\n",
       "      <td>3.5</td>\n",
       "    </tr>\n",
       "    <tr>\n",
       "      <th>4</th>\n",
       "      <td>2024-01-9</td>\n",
       "      <td>Beverage</td>\n",
       "      <td>Lattle</td>\n",
       "      <td>C003</td>\n",
       "      <td>1</td>\n",
       "      <td>3.5</td>\n",
       "    </tr>\n",
       "    <tr>\n",
       "      <th>5</th>\n",
       "      <td>2024-01-8</td>\n",
       "      <td>Food</td>\n",
       "      <td>Muffin</td>\n",
       "      <td>C002</td>\n",
       "      <td>1</td>\n",
       "      <td>2.5</td>\n",
       "    </tr>\n",
       "  </tbody>\n",
       "</table>\n",
       "</div>"
      ],
      "text/plain": [
       "         date  Category     Product Customer-Id  Quantity  UnitPrice\n",
       "0  2024-01-01  Beverage  Cappuccino        C004         1        3.0\n",
       "1  2024-01-02      Food   Croissant        C002         2        2.0\n",
       "2  2024-01-03  Beverage    Espresso        C001         2        2.0\n",
       "3  2024-01-10  Beverage       Latte        C001         3        3.5\n",
       "4   2024-01-9  Beverage      Lattle        C003         1        3.5\n",
       "5   2024-01-8      Food      Muffin        C002         1        2.5"
      ]
     },
     "execution_count": 20,
     "metadata": {},
     "output_type": "execute_result"
    }
   ],
   "source": [
    "df=pd.DataFrame({'date':['2024-01-01','2024-01-02','2024-01-03','2024-01-10','2024-01-9','2024-01-8'],\n",
    "             'Category':['Beverage','Food','Beverage','Beverage','Beverage','Food'],\n",
    "             'Product':['Cappuccino','Croissant','Espresso','Latte','Lattle','Muffin'],\n",
    "             'Customer-Id':['C004','C002','C001','C001','C003','C002'],\n",
    "             'Quantity':[1,2,2,3,1,1,],\n",
    "             'UnitPrice':[3,2,2,3.5,3.5,2.5]}) \n",
    "df       #This code creates a DataFrame with the specified columns and data."
   ]
  },
  {
   "cell_type": "code",
   "execution_count": 21,
   "id": "65aa6f27",
   "metadata": {},
   "outputs": [
    {
     "name": "stdout",
     "output_type": "stream",
     "text": [
      "<class 'pandas.core.frame.DataFrame'>\n",
      "RangeIndex: 6 entries, 0 to 5\n",
      "Data columns (total 6 columns):\n",
      " #   Column       Non-Null Count  Dtype  \n",
      "---  ------       --------------  -----  \n",
      " 0   date         6 non-null      object \n",
      " 1   Category     6 non-null      object \n",
      " 2   Product      6 non-null      object \n",
      " 3   Customer-Id  6 non-null      object \n",
      " 4   Quantity     6 non-null      int64  \n",
      " 5   UnitPrice    6 non-null      float64\n",
      "dtypes: float64(1), int64(1), object(4)\n",
      "memory usage: 420.0+ bytes\n"
     ]
    }
   ],
   "source": [
    "df.info()  #method in pandas provides a concise summary of a DataFrame, including information about the data types, non-null values, and memory usage."
   ]
  },
  {
   "cell_type": "code",
   "execution_count": 22,
   "id": "4ee42afb",
   "metadata": {},
   "outputs": [],
   "source": [
    "x=pd.to_datetime(df['date'])"
   ]
  },
  {
   "cell_type": "code",
   "execution_count": 23,
   "id": "00b26494",
   "metadata": {},
   "outputs": [],
   "source": [
    "df['Date_column']=x"
   ]
  },
  {
   "cell_type": "code",
   "execution_count": 24,
   "id": "be9d913c",
   "metadata": {},
   "outputs": [
    {
     "data": {
      "text/html": [
       "<div>\n",
       "<style scoped>\n",
       "    .dataframe tbody tr th:only-of-type {\n",
       "        vertical-align: middle;\n",
       "    }\n",
       "\n",
       "    .dataframe tbody tr th {\n",
       "        vertical-align: top;\n",
       "    }\n",
       "\n",
       "    .dataframe thead th {\n",
       "        text-align: right;\n",
       "    }\n",
       "</style>\n",
       "<table border=\"1\" class=\"dataframe\">\n",
       "  <thead>\n",
       "    <tr style=\"text-align: right;\">\n",
       "      <th></th>\n",
       "      <th>date</th>\n",
       "      <th>Category</th>\n",
       "      <th>Product</th>\n",
       "      <th>Customer-Id</th>\n",
       "      <th>Quantity</th>\n",
       "      <th>UnitPrice</th>\n",
       "      <th>Date_column</th>\n",
       "    </tr>\n",
       "  </thead>\n",
       "  <tbody>\n",
       "    <tr>\n",
       "      <th>0</th>\n",
       "      <td>2024-01-01</td>\n",
       "      <td>Beverage</td>\n",
       "      <td>Cappuccino</td>\n",
       "      <td>C004</td>\n",
       "      <td>1</td>\n",
       "      <td>3.0</td>\n",
       "      <td>2024-01-01</td>\n",
       "    </tr>\n",
       "    <tr>\n",
       "      <th>1</th>\n",
       "      <td>2024-01-02</td>\n",
       "      <td>Food</td>\n",
       "      <td>Croissant</td>\n",
       "      <td>C002</td>\n",
       "      <td>2</td>\n",
       "      <td>2.0</td>\n",
       "      <td>2024-01-02</td>\n",
       "    </tr>\n",
       "    <tr>\n",
       "      <th>2</th>\n",
       "      <td>2024-01-03</td>\n",
       "      <td>Beverage</td>\n",
       "      <td>Espresso</td>\n",
       "      <td>C001</td>\n",
       "      <td>2</td>\n",
       "      <td>2.0</td>\n",
       "      <td>2024-01-03</td>\n",
       "    </tr>\n",
       "    <tr>\n",
       "      <th>3</th>\n",
       "      <td>2024-01-10</td>\n",
       "      <td>Beverage</td>\n",
       "      <td>Latte</td>\n",
       "      <td>C001</td>\n",
       "      <td>3</td>\n",
       "      <td>3.5</td>\n",
       "      <td>2024-01-10</td>\n",
       "    </tr>\n",
       "    <tr>\n",
       "      <th>4</th>\n",
       "      <td>2024-01-9</td>\n",
       "      <td>Beverage</td>\n",
       "      <td>Lattle</td>\n",
       "      <td>C003</td>\n",
       "      <td>1</td>\n",
       "      <td>3.5</td>\n",
       "      <td>2024-01-09</td>\n",
       "    </tr>\n",
       "    <tr>\n",
       "      <th>5</th>\n",
       "      <td>2024-01-8</td>\n",
       "      <td>Food</td>\n",
       "      <td>Muffin</td>\n",
       "      <td>C002</td>\n",
       "      <td>1</td>\n",
       "      <td>2.5</td>\n",
       "      <td>2024-01-08</td>\n",
       "    </tr>\n",
       "  </tbody>\n",
       "</table>\n",
       "</div>"
      ],
      "text/plain": [
       "         date  Category     Product Customer-Id  Quantity  UnitPrice  \\\n",
       "0  2024-01-01  Beverage  Cappuccino        C004         1        3.0   \n",
       "1  2024-01-02      Food   Croissant        C002         2        2.0   \n",
       "2  2024-01-03  Beverage    Espresso        C001         2        2.0   \n",
       "3  2024-01-10  Beverage       Latte        C001         3        3.5   \n",
       "4   2024-01-9  Beverage      Lattle        C003         1        3.5   \n",
       "5   2024-01-8      Food      Muffin        C002         1        2.5   \n",
       "\n",
       "  Date_column  \n",
       "0  2024-01-01  \n",
       "1  2024-01-02  \n",
       "2  2024-01-03  \n",
       "3  2024-01-10  \n",
       "4  2024-01-09  \n",
       "5  2024-01-08  "
      ]
     },
     "execution_count": 24,
     "metadata": {},
     "output_type": "execute_result"
    }
   ],
   "source": [
    "df"
   ]
  },
  {
   "cell_type": "markdown",
   "id": "3e07b826",
   "metadata": {},
   "source": [
    "### 16 ) How to create a new column 'Revenue' ,which has value equals to the quantity * unitprice of the current row \n",
    "1. df['Revenue'] = df['Quantity'] * df['UnitPrice']\n",
    "2. df['Revenue'] = df.apply(lambda x:x['Quantity'] * x['UnitPrice'],axis=1)\n",
    "3. df['Revenue'] = df.apply(lambda x:x['Quantity'] * x['UnitPrice'],axis=0)\n",
    "3. df['Revenue'] = df['Quantity'] ** df['UnitPrice']\n",
    "\n",
    "##### ans :  1,2 both options are right"
   ]
  },
  {
   "cell_type": "code",
   "execution_count": 25,
   "id": "0171da7d",
   "metadata": {},
   "outputs": [],
   "source": [
    "df['Revenue']=df['Quantity'] * df['UnitPrice']  #To create a new column 'Revenue' in the DataFrame df with values equal to the product of 'Quantity' and 'UnitPrice' for each row,"
   ]
  },
  {
   "cell_type": "code",
   "execution_count": 26,
   "id": "3fd64b99",
   "metadata": {},
   "outputs": [
    {
     "data": {
      "text/html": [
       "<div>\n",
       "<style scoped>\n",
       "    .dataframe tbody tr th:only-of-type {\n",
       "        vertical-align: middle;\n",
       "    }\n",
       "\n",
       "    .dataframe tbody tr th {\n",
       "        vertical-align: top;\n",
       "    }\n",
       "\n",
       "    .dataframe thead th {\n",
       "        text-align: right;\n",
       "    }\n",
       "</style>\n",
       "<table border=\"1\" class=\"dataframe\">\n",
       "  <thead>\n",
       "    <tr style=\"text-align: right;\">\n",
       "      <th></th>\n",
       "      <th>date</th>\n",
       "      <th>Category</th>\n",
       "      <th>Product</th>\n",
       "      <th>Customer-Id</th>\n",
       "      <th>Quantity</th>\n",
       "      <th>UnitPrice</th>\n",
       "      <th>Date_column</th>\n",
       "      <th>Revenue</th>\n",
       "    </tr>\n",
       "  </thead>\n",
       "  <tbody>\n",
       "    <tr>\n",
       "      <th>0</th>\n",
       "      <td>2024-01-01</td>\n",
       "      <td>Beverage</td>\n",
       "      <td>Cappuccino</td>\n",
       "      <td>C004</td>\n",
       "      <td>1</td>\n",
       "      <td>3.0</td>\n",
       "      <td>2024-01-01</td>\n",
       "      <td>3.0</td>\n",
       "    </tr>\n",
       "    <tr>\n",
       "      <th>1</th>\n",
       "      <td>2024-01-02</td>\n",
       "      <td>Food</td>\n",
       "      <td>Croissant</td>\n",
       "      <td>C002</td>\n",
       "      <td>2</td>\n",
       "      <td>2.0</td>\n",
       "      <td>2024-01-02</td>\n",
       "      <td>4.0</td>\n",
       "    </tr>\n",
       "    <tr>\n",
       "      <th>2</th>\n",
       "      <td>2024-01-03</td>\n",
       "      <td>Beverage</td>\n",
       "      <td>Espresso</td>\n",
       "      <td>C001</td>\n",
       "      <td>2</td>\n",
       "      <td>2.0</td>\n",
       "      <td>2024-01-03</td>\n",
       "      <td>4.0</td>\n",
       "    </tr>\n",
       "    <tr>\n",
       "      <th>3</th>\n",
       "      <td>2024-01-10</td>\n",
       "      <td>Beverage</td>\n",
       "      <td>Latte</td>\n",
       "      <td>C001</td>\n",
       "      <td>3</td>\n",
       "      <td>3.5</td>\n",
       "      <td>2024-01-10</td>\n",
       "      <td>10.5</td>\n",
       "    </tr>\n",
       "    <tr>\n",
       "      <th>4</th>\n",
       "      <td>2024-01-9</td>\n",
       "      <td>Beverage</td>\n",
       "      <td>Lattle</td>\n",
       "      <td>C003</td>\n",
       "      <td>1</td>\n",
       "      <td>3.5</td>\n",
       "      <td>2024-01-09</td>\n",
       "      <td>3.5</td>\n",
       "    </tr>\n",
       "    <tr>\n",
       "      <th>5</th>\n",
       "      <td>2024-01-8</td>\n",
       "      <td>Food</td>\n",
       "      <td>Muffin</td>\n",
       "      <td>C002</td>\n",
       "      <td>1</td>\n",
       "      <td>2.5</td>\n",
       "      <td>2024-01-08</td>\n",
       "      <td>2.5</td>\n",
       "    </tr>\n",
       "  </tbody>\n",
       "</table>\n",
       "</div>"
      ],
      "text/plain": [
       "         date  Category     Product Customer-Id  Quantity  UnitPrice  \\\n",
       "0  2024-01-01  Beverage  Cappuccino        C004         1        3.0   \n",
       "1  2024-01-02      Food   Croissant        C002         2        2.0   \n",
       "2  2024-01-03  Beverage    Espresso        C001         2        2.0   \n",
       "3  2024-01-10  Beverage       Latte        C001         3        3.5   \n",
       "4   2024-01-9  Beverage      Lattle        C003         1        3.5   \n",
       "5   2024-01-8      Food      Muffin        C002         1        2.5   \n",
       "\n",
       "  Date_column  Revenue  \n",
       "0  2024-01-01      3.0  \n",
       "1  2024-01-02      4.0  \n",
       "2  2024-01-03      4.0  \n",
       "3  2024-01-10     10.5  \n",
       "4  2024-01-09      3.5  \n",
       "5  2024-01-08      2.5  "
      ]
     },
     "execution_count": 26,
     "metadata": {},
     "output_type": "execute_result"
    }
   ],
   "source": [
    "df"
   ]
  },
  {
   "cell_type": "code",
   "execution_count": 27,
   "id": "5ae5f811",
   "metadata": {},
   "outputs": [],
   "source": [
    "df['Revenue'] = df.apply(lambda x:x['Quantity'] * x['UnitPrice'],axis=1) \n",
    "## it multiplies the quantity and unitprice ,by taking axis as 1 ,axis=1 (row wise)"
   ]
  },
  {
   "cell_type": "code",
   "execution_count": 28,
   "id": "6f78a3b2",
   "metadata": {},
   "outputs": [
    {
     "data": {
      "text/html": [
       "<div>\n",
       "<style scoped>\n",
       "    .dataframe tbody tr th:only-of-type {\n",
       "        vertical-align: middle;\n",
       "    }\n",
       "\n",
       "    .dataframe tbody tr th {\n",
       "        vertical-align: top;\n",
       "    }\n",
       "\n",
       "    .dataframe thead th {\n",
       "        text-align: right;\n",
       "    }\n",
       "</style>\n",
       "<table border=\"1\" class=\"dataframe\">\n",
       "  <thead>\n",
       "    <tr style=\"text-align: right;\">\n",
       "      <th></th>\n",
       "      <th>date</th>\n",
       "      <th>Category</th>\n",
       "      <th>Product</th>\n",
       "      <th>Customer-Id</th>\n",
       "      <th>Quantity</th>\n",
       "      <th>UnitPrice</th>\n",
       "      <th>Date_column</th>\n",
       "      <th>Revenue</th>\n",
       "    </tr>\n",
       "  </thead>\n",
       "  <tbody>\n",
       "    <tr>\n",
       "      <th>0</th>\n",
       "      <td>2024-01-01</td>\n",
       "      <td>Beverage</td>\n",
       "      <td>Cappuccino</td>\n",
       "      <td>C004</td>\n",
       "      <td>1</td>\n",
       "      <td>3.0</td>\n",
       "      <td>2024-01-01</td>\n",
       "      <td>3.0</td>\n",
       "    </tr>\n",
       "    <tr>\n",
       "      <th>1</th>\n",
       "      <td>2024-01-02</td>\n",
       "      <td>Food</td>\n",
       "      <td>Croissant</td>\n",
       "      <td>C002</td>\n",
       "      <td>2</td>\n",
       "      <td>2.0</td>\n",
       "      <td>2024-01-02</td>\n",
       "      <td>4.0</td>\n",
       "    </tr>\n",
       "    <tr>\n",
       "      <th>2</th>\n",
       "      <td>2024-01-03</td>\n",
       "      <td>Beverage</td>\n",
       "      <td>Espresso</td>\n",
       "      <td>C001</td>\n",
       "      <td>2</td>\n",
       "      <td>2.0</td>\n",
       "      <td>2024-01-03</td>\n",
       "      <td>4.0</td>\n",
       "    </tr>\n",
       "    <tr>\n",
       "      <th>3</th>\n",
       "      <td>2024-01-10</td>\n",
       "      <td>Beverage</td>\n",
       "      <td>Latte</td>\n",
       "      <td>C001</td>\n",
       "      <td>3</td>\n",
       "      <td>3.5</td>\n",
       "      <td>2024-01-10</td>\n",
       "      <td>10.5</td>\n",
       "    </tr>\n",
       "    <tr>\n",
       "      <th>4</th>\n",
       "      <td>2024-01-9</td>\n",
       "      <td>Beverage</td>\n",
       "      <td>Lattle</td>\n",
       "      <td>C003</td>\n",
       "      <td>1</td>\n",
       "      <td>3.5</td>\n",
       "      <td>2024-01-09</td>\n",
       "      <td>3.5</td>\n",
       "    </tr>\n",
       "    <tr>\n",
       "      <th>5</th>\n",
       "      <td>2024-01-8</td>\n",
       "      <td>Food</td>\n",
       "      <td>Muffin</td>\n",
       "      <td>C002</td>\n",
       "      <td>1</td>\n",
       "      <td>2.5</td>\n",
       "      <td>2024-01-08</td>\n",
       "      <td>2.5</td>\n",
       "    </tr>\n",
       "  </tbody>\n",
       "</table>\n",
       "</div>"
      ],
      "text/plain": [
       "         date  Category     Product Customer-Id  Quantity  UnitPrice  \\\n",
       "0  2024-01-01  Beverage  Cappuccino        C004         1        3.0   \n",
       "1  2024-01-02      Food   Croissant        C002         2        2.0   \n",
       "2  2024-01-03  Beverage    Espresso        C001         2        2.0   \n",
       "3  2024-01-10  Beverage       Latte        C001         3        3.5   \n",
       "4   2024-01-9  Beverage      Lattle        C003         1        3.5   \n",
       "5   2024-01-8      Food      Muffin        C002         1        2.5   \n",
       "\n",
       "  Date_column  Revenue  \n",
       "0  2024-01-01      3.0  \n",
       "1  2024-01-02      4.0  \n",
       "2  2024-01-03      4.0  \n",
       "3  2024-01-10     10.5  \n",
       "4  2024-01-09      3.5  \n",
       "5  2024-01-08      2.5  "
      ]
     },
     "execution_count": 28,
     "metadata": {},
     "output_type": "execute_result"
    }
   ],
   "source": [
    "df"
   ]
  },
  {
   "cell_type": "markdown",
   "id": "b97a7de4",
   "metadata": {},
   "source": [
    "### 17 ) what is the syntax to find categorical wise revenue ? \n",
    "1. df.groupby('Category')['Revenue'].mean()\n",
    "2. df.groupby('Category')['Revenue'].sum()\n",
    "3. df.groupby('Category')['Revenue'].agg(np.sum)\n",
    "4. df.groupby('Category')['Revenue'].agg('sum')\n",
    "\n",
    "#### for the above question 2,3,4 are correct options"
   ]
  },
  {
   "cell_type": "code",
   "execution_count": 29,
   "id": "66a21622",
   "metadata": {},
   "outputs": [
    {
     "data": {
      "text/plain": [
       "Category\n",
       "Beverage    21.0\n",
       "Food         6.5\n",
       "Name: Revenue, dtype: float64"
      ]
     },
     "execution_count": 29,
     "metadata": {},
     "output_type": "execute_result"
    }
   ],
   "source": [
    "df.groupby('Category')['Revenue'].sum() #syntax groups the DataFrame df by the 'Category' column and calculates the sum of the 'Revenue' column for each category."
   ]
  },
  {
   "cell_type": "code",
   "execution_count": 30,
   "id": "995b33c8",
   "metadata": {},
   "outputs": [
    {
     "data": {
      "text/plain": [
       "Category\n",
       "Beverage    21.0\n",
       "Food         6.5\n",
       "Name: Revenue, dtype: float64"
      ]
     },
     "execution_count": 30,
     "metadata": {},
     "output_type": "execute_result"
    }
   ],
   "source": [
    "df.groupby('Category')['Revenue'].agg(np.sum)  ##the agg method with np.sum to calculate the sum of 'Revenue' for each category. "
   ]
  },
  {
   "cell_type": "code",
   "execution_count": 31,
   "id": "3c19d2d8",
   "metadata": {},
   "outputs": [
    {
     "data": {
      "text/plain": [
       "Category\n",
       "Beverage    21.0\n",
       "Food         6.5\n",
       "Name: Revenue, dtype: float64"
      ]
     },
     "execution_count": 31,
     "metadata": {},
     "output_type": "execute_result"
    }
   ],
   "source": [
    "df.groupby('Category')['Revenue'].agg('sum')   # in way to use the agg method, specifying the string 'sum' as the aggregation function. "
   ]
  },
  {
   "cell_type": "markdown",
   "id": "9bbbe1ec",
   "metadata": {},
   "source": [
    "### 18 ) to find the average quantity wrt to date and product,what is the correct syntax ?(\n",
    "1. df.groupby(['Date','Product'])['Quantity'].avg()\n",
    "2. df.groupby(['Date','Product'])['Quantity'].mean()\n",
    "3. df.groupby(['Product','Date'])['Quantity'].avg()\n",
    "4. df.groupby(['Product','Mean'])['Quanity'].mean()\n",
    "#### ans :  2 is correct"
   ]
  },
  {
   "cell_type": "code",
   "execution_count": 32,
   "id": "acd7fe9e",
   "metadata": {},
   "outputs": [
    {
     "data": {
      "text/plain": [
       "Date_column  Product   \n",
       "2024-01-01   Cappuccino    1.0\n",
       "2024-01-02   Croissant     2.0\n",
       "2024-01-03   Espresso      2.0\n",
       "2024-01-08   Muffin        1.0\n",
       "2024-01-09   Lattle        1.0\n",
       "2024-01-10   Latte         3.0\n",
       "Name: Quantity, dtype: float64"
      ]
     },
     "execution_count": 32,
     "metadata": {},
     "output_type": "execute_result"
    }
   ],
   "source": [
    "df.groupby(['Date_column','Product'])['Quantity'].mean()  #the data by the columns 'Date_column' and 'Product', and then calculate the mean of the 'Quantity' column for each group. "
   ]
  },
  {
   "cell_type": "markdown",
   "id": "80d4d7c0",
   "metadata": {},
   "source": [
    "### 19 ) Categorical wise revenue for beverage and food respectively are \n",
    "\n",
    "1. 28.5,6.0\n",
    "2. 6.0,27.5\n",
    "3. 28.5,7.0\n",
    "4. 7.0,28.5"
   ]
  },
  {
   "cell_type": "code",
   "execution_count": 34,
   "id": "9122d737",
   "metadata": {},
   "outputs": [
    {
     "name": "stdout",
     "output_type": "stream",
     "text": [
      "Beverage Revenue: 21.0\n",
      "Food Revenue: 6.5\n"
     ]
    }
   ],
   "source": [
    "beverage_revenue = df[df['Category'] == 'Beverage']['Revenue'].sum()\n",
    "food_revenue = df[df['Category'] == 'Food']['Revenue'].sum()\n",
    "print(\"Beverage Revenue:\", beverage_revenue)\n",
    "print(\"Food Revenue:\", food_revenue)"
   ]
  },
  {
   "cell_type": "markdown",
   "id": "b9ed0353",
   "metadata": {},
   "source": [
    "### 20 ) using transform what is the syntax to create a column which has a unitprice difference wrt its category mean ?\n",
    "\n",
    "1. df.groupby('Category')['UnitPrice'].transform(lambda x:x-x.mean())\n",
    "2. df.groupby('Category')('UnitPrice').transform(lambda x:x-x.mean())\n",
    "3. df.groupby['Category']['UnitPrice'].transform(lambda x:x-x.mean())\n",
    "4. df.groupby(['Category','UnitPrice']).transform(lambda x:x-x.mean())\n",
    "\n",
    "#### ans :  1 is correct"
   ]
  },
  {
   "cell_type": "code",
   "execution_count": 35,
   "id": "15500f52",
   "metadata": {},
   "outputs": [
    {
     "data": {
      "text/plain": [
       "0    0.00\n",
       "1   -0.25\n",
       "2   -1.00\n",
       "3    0.50\n",
       "4    0.50\n",
       "5    0.25\n",
       "Name: UnitPrice, dtype: float64"
      ]
     },
     "execution_count": 35,
     "metadata": {},
     "output_type": "execute_result"
    }
   ],
   "source": [
    "df.groupby('Category')['UnitPrice'].transform(lambda x:x-x.mean())\n",
    " #create a column which has the unit price difference with respect to its category mean using transform would be\n",
    "    #the 'UnitPrice' of each row and the mean 'UnitPrice' of its respective category."
   ]
  },
  {
   "cell_type": "markdown",
   "id": "829d58df",
   "metadata": {},
   "source": [
    "### 21 ) what is the correct syntax to get data wrt 'Monday'.\n",
    "\n",
    "1. df.groupby(df.Date.dt.day_name()).get_groupby('Monday')\n",
    "2. df.groupby(df.Date.dt.dayname()).get_group('Monday')\n",
    "3. df.groupby(df.Date.dt.dayofweek()).get_groupby('Monday')\n",
    "4. df.groupby(df.Date.dt.day_of_week()).get_group('Monday')\n",
    "\n",
    "#### option 1 is correct"
   ]
  },
  {
   "cell_type": "code",
   "execution_count": 47,
   "id": "c8d51edb",
   "metadata": {},
   "outputs": [
    {
     "data": {
      "text/html": [
       "<div>\n",
       "<style scoped>\n",
       "    .dataframe tbody tr th:only-of-type {\n",
       "        vertical-align: middle;\n",
       "    }\n",
       "\n",
       "    .dataframe tbody tr th {\n",
       "        vertical-align: top;\n",
       "    }\n",
       "\n",
       "    .dataframe thead th {\n",
       "        text-align: right;\n",
       "    }\n",
       "</style>\n",
       "<table border=\"1\" class=\"dataframe\">\n",
       "  <thead>\n",
       "    <tr style=\"text-align: right;\">\n",
       "      <th></th>\n",
       "      <th>date</th>\n",
       "      <th>Category</th>\n",
       "      <th>Product</th>\n",
       "      <th>Customer-Id</th>\n",
       "      <th>Quantity</th>\n",
       "      <th>UnitPrice</th>\n",
       "      <th>Date_column</th>\n",
       "      <th>Revenue</th>\n",
       "    </tr>\n",
       "  </thead>\n",
       "  <tbody>\n",
       "    <tr>\n",
       "      <th>0</th>\n",
       "      <td>2024-01-01</td>\n",
       "      <td>Beverage</td>\n",
       "      <td>Cappuccino</td>\n",
       "      <td>C004</td>\n",
       "      <td>1</td>\n",
       "      <td>3.0</td>\n",
       "      <td>2024-01-01</td>\n",
       "      <td>3.0</td>\n",
       "    </tr>\n",
       "    <tr>\n",
       "      <th>5</th>\n",
       "      <td>2024-01-8</td>\n",
       "      <td>Food</td>\n",
       "      <td>Muffin</td>\n",
       "      <td>C002</td>\n",
       "      <td>1</td>\n",
       "      <td>2.5</td>\n",
       "      <td>2024-01-08</td>\n",
       "      <td>2.5</td>\n",
       "    </tr>\n",
       "  </tbody>\n",
       "</table>\n",
       "</div>"
      ],
      "text/plain": [
       "         date  Category     Product Customer-Id  Quantity  UnitPrice  \\\n",
       "0  2024-01-01  Beverage  Cappuccino        C004         1        3.0   \n",
       "5   2024-01-8      Food      Muffin        C002         1        2.5   \n",
       "\n",
       "  Date_column  Revenue  \n",
       "0  2024-01-01      3.0  \n",
       "5  2024-01-08      2.5  "
      ]
     },
     "execution_count": 47,
     "metadata": {},
     "output_type": "execute_result"
    }
   ],
   "source": [
    "df.groupby(df.Date_column.dt.day_name()).get_group('Monday')\n",
    "#the DataFrame to include only the rows where the day name of the 'Date' column is 'Monday'."
   ]
  },
  {
   "cell_type": "code",
   "execution_count": 48,
   "id": "15afa240",
   "metadata": {},
   "outputs": [
    {
     "ename": "AttributeError",
     "evalue": "'DatetimeProperties' object has no attribute 'dayname'",
     "output_type": "error",
     "traceback": [
      "\u001b[1;31m---------------------------------------------------------------------------\u001b[0m",
      "\u001b[1;31mAttributeError\u001b[0m                            Traceback (most recent call last)",
      "Cell \u001b[1;32mIn[48], line 1\u001b[0m\n\u001b[1;32m----> 1\u001b[0m df\u001b[38;5;241m.\u001b[39mgroupby(df\u001b[38;5;241m.\u001b[39mDate_column\u001b[38;5;241m.\u001b[39mdt\u001b[38;5;241m.\u001b[39mdayname())\u001b[38;5;241m.\u001b[39mget_group(\u001b[38;5;124m'\u001b[39m\u001b[38;5;124mMonday\u001b[39m\u001b[38;5;124m'\u001b[39m)\n",
      "\u001b[1;31mAttributeError\u001b[0m: 'DatetimeProperties' object has no attribute 'dayname'"
     ]
    }
   ],
   "source": [
    "df.groupby(df.Date_column.dt.dayname()).get_group('Monday')\n",
    "## it throws an error because ,we dont have \" dayname \" attribute for dt method "
   ]
  },
  {
   "cell_type": "code",
   "execution_count": 49,
   "id": "6e05133a",
   "metadata": {},
   "outputs": [
    {
     "ename": "TypeError",
     "evalue": "'Series' object is not callable",
     "output_type": "error",
     "traceback": [
      "\u001b[1;31m---------------------------------------------------------------------------\u001b[0m",
      "\u001b[1;31mTypeError\u001b[0m                                 Traceback (most recent call last)",
      "Cell \u001b[1;32mIn[49], line 1\u001b[0m\n\u001b[1;32m----> 1\u001b[0m df\u001b[38;5;241m.\u001b[39mgroupby(df\u001b[38;5;241m.\u001b[39mDate_column\u001b[38;5;241m.\u001b[39mdt\u001b[38;5;241m.\u001b[39mdayofweek())\u001b[38;5;241m.\u001b[39mget_groupby(\u001b[38;5;124m'\u001b[39m\u001b[38;5;124mMonday\u001b[39m\u001b[38;5;124m'\u001b[39m)\n",
      "\u001b[1;31mTypeError\u001b[0m: 'Series' object is not callable"
     ]
    }
   ],
   "source": [
    "df.groupby(df.Date_column.dt.dayofweek()).get_groupby('Monday')\n",
    " ## it throws an error (Type Error )"
   ]
  },
  {
   "cell_type": "code",
   "execution_count": 50,
   "id": "24127fbf",
   "metadata": {},
   "outputs": [
    {
     "ename": "NameError",
     "evalue": "name 'data' is not defined",
     "output_type": "error",
     "traceback": [
      "\u001b[1;31m---------------------------------------------------------------------------\u001b[0m",
      "\u001b[1;31mNameError\u001b[0m                                 Traceback (most recent call last)",
      "Cell \u001b[1;32mIn[50], line 1\u001b[0m\n\u001b[1;32m----> 1\u001b[0m data\u001b[38;5;241m.\u001b[39mgroupby(data\u001b[38;5;241m.\u001b[39mDate_column\u001b[38;5;241m.\u001b[39mdt\u001b[38;5;241m.\u001b[39mday_of_week())\u001b[38;5;241m.\u001b[39mget_group(\u001b[38;5;124m'\u001b[39m\u001b[38;5;124mMonday\u001b[39m\u001b[38;5;124m'\u001b[39m)\n",
      "\u001b[1;31mNameError\u001b[0m: name 'data' is not defined"
     ]
    }
   ],
   "source": [
    "data.groupby(data.Date_column.dt.day_of_week()).get_group('Monday')\n",
    " ## it throws an error (Type Error )"
   ]
  },
  {
   "cell_type": "markdown",
   "id": "3f439cd4",
   "metadata": {},
   "source": [
    "### 22 ) which of the following statements is/are True ? \n",
    "\n",
    "1. apply() can be applied on rows \n",
    "2. apply function can't be applied on rows \n",
    "3. apply applies the function on the entire series at a time.\n",
    "4. apply apllies the function one cell at a time.\n",
    "\n",
    "#### ans : 1,3 options are correct \n"
   ]
  },
  {
   "cell_type": "code",
   "execution_count": 51,
   "id": "f0988c46",
   "metadata": {},
   "outputs": [],
   "source": [
    "# 1.apply() can be applied on rows : \n",
    "       #The apply() function in pandas can be used to apply a function along the axis of a DataFrame, either on rows or columns. \n",
    "        #By default, it operates on columns, but you can specify axis=1 to apply it on rows."
   ]
  },
  {
   "cell_type": "code",
   "execution_count": 52,
   "id": "71ecc3d7",
   "metadata": {},
   "outputs": [],
   "source": [
    "# 3. apply applies the function on the entire series at a time :\n",
    "        #without specifying the axis parameter, it applies the function to each column (entire series) of the DataFrame.\n",
    "      #If you specify axis=1, it applies the function to each row."
   ]
  },
  {
   "cell_type": "markdown",
   "id": "8b187a53",
   "metadata": {},
   "source": [
    "### 23 ) Which of the following statement is/are True ?\n",
    "\n",
    "1. Map applies the functionality on entire data Frame\n",
    "2. applymap applies the functionality on series be it row or a column\n",
    "3. apply and map are vectorized applications \n",
    "4. none of the above \n",
    "\n",
    "### ans :  3 is correct"
   ]
  },
  {
   "cell_type": "markdown",
   "id": "5fe1cda4",
   "metadata": {},
   "source": [
    "##### 1) Map applies the functionality on the entire DataFrame.\n",
    "* The map function in pandas is generally used for element-wise transformations on a Series, not the entire DataFrame. It's not commonly used on entire DataFrames directly.\n",
    "##### 2) Applymap applies the functionality on a series, be it a row or a column.\n",
    "* The applymap function is used for element-wise transformations on all elements of a DataFrame, not just a Series. It is applied to each individual element, not rows or columns.\n",
    "##### 3) Apply and Map are vectorized applications.\n",
    "* This statement is partially true. apply and map can be used for vectorized operations, but the degree of vectorization depends on the specific function provided."
   ]
  },
  {
   "cell_type": "code",
   "execution_count": 53,
   "id": "9a5dda1d",
   "metadata": {},
   "outputs": [],
   "source": [
    "df1=pd.DataFrame({'Date':['2024-01-10','2024-01-11','2024-01-10','2024-01-12','2024-01-11','2024-01-12'],\n",
    "                 'Region':['North','South','East','West','North','East'],\n",
    "                 'Salesperson':['Ajay','Balu','Chirag','Ajay','Balu','Chirag'],\n",
    "                 'Product':['Notebook','Pen','Notebook','Pen','Binder','Binder'],\n",
    "                 'Quantity':[5,10,7,15,20,10],\n",
    "                 'Untprice':[12,3,12,3,5,5]})"
   ]
  },
  {
   "cell_type": "code",
   "execution_count": 54,
   "id": "9d8c17ca",
   "metadata": {},
   "outputs": [
    {
     "data": {
      "text/html": [
       "<div>\n",
       "<style scoped>\n",
       "    .dataframe tbody tr th:only-of-type {\n",
       "        vertical-align: middle;\n",
       "    }\n",
       "\n",
       "    .dataframe tbody tr th {\n",
       "        vertical-align: top;\n",
       "    }\n",
       "\n",
       "    .dataframe thead th {\n",
       "        text-align: right;\n",
       "    }\n",
       "</style>\n",
       "<table border=\"1\" class=\"dataframe\">\n",
       "  <thead>\n",
       "    <tr style=\"text-align: right;\">\n",
       "      <th></th>\n",
       "      <th>Date</th>\n",
       "      <th>Region</th>\n",
       "      <th>Salesperson</th>\n",
       "      <th>Product</th>\n",
       "      <th>Quantity</th>\n",
       "      <th>Untprice</th>\n",
       "    </tr>\n",
       "  </thead>\n",
       "  <tbody>\n",
       "    <tr>\n",
       "      <th>0</th>\n",
       "      <td>2024-01-10</td>\n",
       "      <td>North</td>\n",
       "      <td>Ajay</td>\n",
       "      <td>Notebook</td>\n",
       "      <td>5</td>\n",
       "      <td>12</td>\n",
       "    </tr>\n",
       "    <tr>\n",
       "      <th>1</th>\n",
       "      <td>2024-01-11</td>\n",
       "      <td>South</td>\n",
       "      <td>Balu</td>\n",
       "      <td>Pen</td>\n",
       "      <td>10</td>\n",
       "      <td>3</td>\n",
       "    </tr>\n",
       "    <tr>\n",
       "      <th>2</th>\n",
       "      <td>2024-01-10</td>\n",
       "      <td>East</td>\n",
       "      <td>Chirag</td>\n",
       "      <td>Notebook</td>\n",
       "      <td>7</td>\n",
       "      <td>12</td>\n",
       "    </tr>\n",
       "    <tr>\n",
       "      <th>3</th>\n",
       "      <td>2024-01-12</td>\n",
       "      <td>West</td>\n",
       "      <td>Ajay</td>\n",
       "      <td>Pen</td>\n",
       "      <td>15</td>\n",
       "      <td>3</td>\n",
       "    </tr>\n",
       "    <tr>\n",
       "      <th>4</th>\n",
       "      <td>2024-01-11</td>\n",
       "      <td>North</td>\n",
       "      <td>Balu</td>\n",
       "      <td>Binder</td>\n",
       "      <td>20</td>\n",
       "      <td>5</td>\n",
       "    </tr>\n",
       "    <tr>\n",
       "      <th>5</th>\n",
       "      <td>2024-01-12</td>\n",
       "      <td>East</td>\n",
       "      <td>Chirag</td>\n",
       "      <td>Binder</td>\n",
       "      <td>10</td>\n",
       "      <td>5</td>\n",
       "    </tr>\n",
       "  </tbody>\n",
       "</table>\n",
       "</div>"
      ],
      "text/plain": [
       "         Date Region Salesperson   Product  Quantity  Untprice\n",
       "0  2024-01-10  North        Ajay  Notebook         5        12\n",
       "1  2024-01-11  South        Balu       Pen        10         3\n",
       "2  2024-01-10   East      Chirag  Notebook         7        12\n",
       "3  2024-01-12   West        Ajay       Pen        15         3\n",
       "4  2024-01-11  North        Balu    Binder        20         5\n",
       "5  2024-01-12   East      Chirag    Binder        10         5"
      ]
     },
     "execution_count": 54,
     "metadata": {},
     "output_type": "execute_result"
    }
   ],
   "source": [
    "df1"
   ]
  },
  {
   "cell_type": "markdown",
   "id": "740e5b5e",
   "metadata": {},
   "source": [
    "### 24 ) what is the syntax to create a pivot table with indedx as north and south and columns as product where values are sum of quantites sold ?\n",
    "\n",
    "1. df1[df1['Region'].isin(['North','South']).pivot_table(index='Product',columns='Product',values='Quantity',agg='sum')\n",
    "2. df1[df1['Region'].isin(['North','South']).pivot_table(index='Product',columns='Product',values='Quantity',aggfun='sum')\n",
    "3. df1[(df1['Region']=='North')|(df1['Region']=='South')]).pivot_table(index='Product',columns='Product',values='Quantity',agg='sum')\n",
    "4. df1[(df1['Region']=='North')|(df1['Region']=='South')]).pivot_table(index='Product',columns='Product',values='Quantity',aggfun='sum')\n",
    "\n",
    "#### ans : 2 is correct"
   ]
  },
  {
   "cell_type": "code",
   "execution_count": 59,
   "id": "20cd053c",
   "metadata": {},
   "outputs": [
    {
     "ename": "TypeError",
     "evalue": "DataFrame.pivot_table() got an unexpected keyword argument 'agg'",
     "output_type": "error",
     "traceback": [
      "\u001b[1;31m---------------------------------------------------------------------------\u001b[0m",
      "\u001b[1;31mTypeError\u001b[0m                                 Traceback (most recent call last)",
      "Cell \u001b[1;32mIn[59], line 1\u001b[0m\n\u001b[1;32m----> 1\u001b[0m df1[df1[\u001b[38;5;124m'\u001b[39m\u001b[38;5;124mRegion\u001b[39m\u001b[38;5;124m'\u001b[39m]\u001b[38;5;241m.\u001b[39misin([\u001b[38;5;124m'\u001b[39m\u001b[38;5;124mNorth\u001b[39m\u001b[38;5;124m'\u001b[39m,\u001b[38;5;124m'\u001b[39m\u001b[38;5;124mSouth\u001b[39m\u001b[38;5;124m'\u001b[39m])]\u001b[38;5;241m.\u001b[39mpivot_table(index\u001b[38;5;241m=\u001b[39m\u001b[38;5;124m'\u001b[39m\u001b[38;5;124mProduct\u001b[39m\u001b[38;5;124m'\u001b[39m,columns\u001b[38;5;241m=\u001b[39m\u001b[38;5;124m'\u001b[39m\u001b[38;5;124mProduct\u001b[39m\u001b[38;5;124m'\u001b[39m,values\u001b[38;5;241m=\u001b[39m\u001b[38;5;124m'\u001b[39m\u001b[38;5;124mQuantity\u001b[39m\u001b[38;5;124m'\u001b[39m,agg\u001b[38;5;241m=\u001b[39m\u001b[38;5;124m'\u001b[39m\u001b[38;5;124msum\u001b[39m\u001b[38;5;124m'\u001b[39m)\n",
      "\u001b[1;31mTypeError\u001b[0m: DataFrame.pivot_table() got an unexpected keyword argument 'agg'"
     ]
    }
   ],
   "source": [
    "df1[df1['Region'].isin(['North','South'])].pivot_table(index='Product',columns='Product',values='Quantity',agg='sum')\n",
    "## we dont have agg parameter in pivot_table "
   ]
  },
  {
   "cell_type": "code",
   "execution_count": 66,
   "id": "8fa2fc13",
   "metadata": {},
   "outputs": [
    {
     "data": {
      "text/html": [
       "<div>\n",
       "<style scoped>\n",
       "    .dataframe tbody tr th:only-of-type {\n",
       "        vertical-align: middle;\n",
       "    }\n",
       "\n",
       "    .dataframe tbody tr th {\n",
       "        vertical-align: top;\n",
       "    }\n",
       "\n",
       "    .dataframe thead th {\n",
       "        text-align: right;\n",
       "    }\n",
       "</style>\n",
       "<table border=\"1\" class=\"dataframe\">\n",
       "  <thead>\n",
       "    <tr style=\"text-align: right;\">\n",
       "      <th>Product</th>\n",
       "      <th>Binder</th>\n",
       "      <th>Notebook</th>\n",
       "      <th>Pen</th>\n",
       "    </tr>\n",
       "    <tr>\n",
       "      <th>Region</th>\n",
       "      <th></th>\n",
       "      <th></th>\n",
       "      <th></th>\n",
       "    </tr>\n",
       "  </thead>\n",
       "  <tbody>\n",
       "    <tr>\n",
       "      <th>North</th>\n",
       "      <td>20.0</td>\n",
       "      <td>5.0</td>\n",
       "      <td>NaN</td>\n",
       "    </tr>\n",
       "    <tr>\n",
       "      <th>South</th>\n",
       "      <td>NaN</td>\n",
       "      <td>NaN</td>\n",
       "      <td>10.0</td>\n",
       "    </tr>\n",
       "  </tbody>\n",
       "</table>\n",
       "</div>"
      ],
      "text/plain": [
       "Product  Binder  Notebook   Pen\n",
       "Region                         \n",
       "North      20.0       5.0   NaN\n",
       "South       NaN       NaN  10.0"
      ]
     },
     "execution_count": 66,
     "metadata": {},
     "output_type": "execute_result"
    }
   ],
   "source": [
    "df1[df1['Region'].isin(['North','South'])].pivot_table(index='Region',columns='Product',values='Quantity',aggfunc='sum')\n",
    "# Filters the DataFrame to include only rows where the 'Region' is either 'North' or 'South'.\n",
    "#Creates a pivot table with 'Region' as the index, 'Product' as the columns, and the sum of 'Quantity' as the values."
   ]
  },
  {
   "cell_type": "code",
   "execution_count": 65,
   "id": "56a35721",
   "metadata": {},
   "outputs": [
    {
     "ename": "SyntaxError",
     "evalue": "unmatched ')' (530455230.py, line 1)",
     "output_type": "error",
     "traceback": [
      "\u001b[1;36m  Cell \u001b[1;32mIn[65], line 1\u001b[1;36m\u001b[0m\n\u001b[1;33m    df1[(df1['Region']=='North')|(df1['Region']=='South')]).pivot_table(index='Product',columns='Product',values='Quantity',agg='sum')\u001b[0m\n\u001b[1;37m                                                          ^\u001b[0m\n\u001b[1;31mSyntaxError\u001b[0m\u001b[1;31m:\u001b[0m unmatched ')'\n"
     ]
    }
   ],
   "source": [
    "df1[(df1['Region']=='North')|(df1['Region']=='South')]).pivot_table(index='Product',columns='Product',values='Quantity',agg='sum')\n",
    "## we dont have agg parameter in pivot_table "
   ]
  },
  {
   "cell_type": "code",
   "execution_count": 64,
   "id": "7842e556",
   "metadata": {},
   "outputs": [
    {
     "ename": "SyntaxError",
     "evalue": "unmatched ')' (3147633097.py, line 1)",
     "output_type": "error",
     "traceback": [
      "\u001b[1;36m  Cell \u001b[1;32mIn[64], line 1\u001b[1;36m\u001b[0m\n\u001b[1;33m    df1[(df1['Region']=='North')|(df1['Region']=='South')]).pivot_table(index='Product',columns='Product',values='Quantity',aggfun='sum')\u001b[0m\n\u001b[1;37m                                                          ^\u001b[0m\n\u001b[1;31mSyntaxError\u001b[0m\u001b[1;31m:\u001b[0m unmatched ')'\n"
     ]
    }
   ],
   "source": [
    "df1[(df1['Region']=='North')|(df1['Region']=='South')]).pivot_table(index='Product',columns='Product',values='Quantity',aggfun='sum')"
   ]
  },
  {
   "cell_type": "markdown",
   "id": "93e56199",
   "metadata": {},
   "source": [
    "### 25 ) which of the following statements is/are True ? \n",
    "\n",
    "1. .iloc method includes the last element when used for slicing \n",
    "2. .loc method doesnt includes the last element when used for slicing\n",
    "3. we can use .loc method and pass default integer index of rows when slicing \n",
    "4. None of the above \n",
    "\n",
    "#### ans :  3 are correct"
   ]
  },
  {
   "cell_type": "markdown",
   "id": "f2b935ad",
   "metadata": {},
   "source": [
    "* we can use .loc method and pass default integer index of rows when slicing\n",
    "\n",
    "> True. The .loc method allows you to slice based on the label/index of rows, and if the default integer index is used, it will work as well."
   ]
  },
  {
   "cell_type": "markdown",
   "id": "eef086c0",
   "metadata": {},
   "source": [
    "### 26 ) Using a pivot table is it possible to create a multi-index data frame,if so what is the syntax to have a multi index of Date and Region with total product sold as values\n",
    "\n",
    "1. no we can't create a multi-index table uisng pivot table\n",
    "2. df1.pivot_table(index=['Date','Region'],columns='Product',values='Quantity',aggfunc='sum')\n",
    "3. df1.pivot_table(index=['Date','Region'],columns='Product',values='Quantity',agg='sum')\n",
    "4. None of these\n",
    "\n",
    "#### ans : 2 is correct "
   ]
  },
  {
   "cell_type": "code",
   "execution_count": 67,
   "id": "64ef7df8",
   "metadata": {},
   "outputs": [
    {
     "data": {
      "text/html": [
       "<div>\n",
       "<style scoped>\n",
       "    .dataframe tbody tr th:only-of-type {\n",
       "        vertical-align: middle;\n",
       "    }\n",
       "\n",
       "    .dataframe tbody tr th {\n",
       "        vertical-align: top;\n",
       "    }\n",
       "\n",
       "    .dataframe thead th {\n",
       "        text-align: right;\n",
       "    }\n",
       "</style>\n",
       "<table border=\"1\" class=\"dataframe\">\n",
       "  <thead>\n",
       "    <tr style=\"text-align: right;\">\n",
       "      <th></th>\n",
       "      <th>Product</th>\n",
       "      <th>Binder</th>\n",
       "      <th>Notebook</th>\n",
       "      <th>Pen</th>\n",
       "    </tr>\n",
       "    <tr>\n",
       "      <th>Date</th>\n",
       "      <th>Region</th>\n",
       "      <th></th>\n",
       "      <th></th>\n",
       "      <th></th>\n",
       "    </tr>\n",
       "  </thead>\n",
       "  <tbody>\n",
       "    <tr>\n",
       "      <th rowspan=\"2\" valign=\"top\">2024-01-10</th>\n",
       "      <th>East</th>\n",
       "      <td>NaN</td>\n",
       "      <td>7.0</td>\n",
       "      <td>NaN</td>\n",
       "    </tr>\n",
       "    <tr>\n",
       "      <th>North</th>\n",
       "      <td>NaN</td>\n",
       "      <td>5.0</td>\n",
       "      <td>NaN</td>\n",
       "    </tr>\n",
       "    <tr>\n",
       "      <th rowspan=\"2\" valign=\"top\">2024-01-11</th>\n",
       "      <th>North</th>\n",
       "      <td>20.0</td>\n",
       "      <td>NaN</td>\n",
       "      <td>NaN</td>\n",
       "    </tr>\n",
       "    <tr>\n",
       "      <th>South</th>\n",
       "      <td>NaN</td>\n",
       "      <td>NaN</td>\n",
       "      <td>10.0</td>\n",
       "    </tr>\n",
       "    <tr>\n",
       "      <th rowspan=\"2\" valign=\"top\">2024-01-12</th>\n",
       "      <th>East</th>\n",
       "      <td>10.0</td>\n",
       "      <td>NaN</td>\n",
       "      <td>NaN</td>\n",
       "    </tr>\n",
       "    <tr>\n",
       "      <th>West</th>\n",
       "      <td>NaN</td>\n",
       "      <td>NaN</td>\n",
       "      <td>15.0</td>\n",
       "    </tr>\n",
       "  </tbody>\n",
       "</table>\n",
       "</div>"
      ],
      "text/plain": [
       "Product            Binder  Notebook   Pen\n",
       "Date       Region                        \n",
       "2024-01-10 East       NaN       7.0   NaN\n",
       "           North      NaN       5.0   NaN\n",
       "2024-01-11 North     20.0       NaN   NaN\n",
       "           South      NaN       NaN  10.0\n",
       "2024-01-12 East      10.0       NaN   NaN\n",
       "           West       NaN       NaN  15.0"
      ]
     },
     "execution_count": 67,
     "metadata": {},
     "output_type": "execute_result"
    }
   ],
   "source": [
    "df1.pivot_table(index=['Date','Region'],columns='Product',values='Quantity',aggfunc='sum') ## by using pivot_table we can create multiple indexes "
   ]
  },
  {
   "cell_type": "markdown",
   "id": "50d25484",
   "metadata": {},
   "source": [
    "### 27 ) what does the margins parameter in the pivot_table( ) function allow you to include in the pivot table ?\n",
    "\n",
    "1. additional margins and subtotals for rows and columns.\n",
    "2. a list of column names to exclude from the pivot table\n",
    "3. the number of rows and columns to skip at the bigginning of the pivot table \n",
    "4. the maximum number of rows and columns to display in the pivot table \n",
    "\n",
    "#### ans :  1 is correct"
   ]
  },
  {
   "cell_type": "code",
   "execution_count": 72,
   "id": "351068af",
   "metadata": {},
   "outputs": [
    {
     "data": {
      "text/html": [
       "<div>\n",
       "<style scoped>\n",
       "    .dataframe tbody tr th:only-of-type {\n",
       "        vertical-align: middle;\n",
       "    }\n",
       "\n",
       "    .dataframe tbody tr th {\n",
       "        vertical-align: top;\n",
       "    }\n",
       "\n",
       "    .dataframe thead th {\n",
       "        text-align: right;\n",
       "    }\n",
       "</style>\n",
       "<table border=\"1\" class=\"dataframe\">\n",
       "  <thead>\n",
       "    <tr style=\"text-align: right;\">\n",
       "      <th></th>\n",
       "      <th>Fruits</th>\n",
       "      <th>Price</th>\n",
       "    </tr>\n",
       "  </thead>\n",
       "  <tbody>\n",
       "    <tr>\n",
       "      <th>0</th>\n",
       "      <td>apple</td>\n",
       "      <td></td>\n",
       "    </tr>\n",
       "    <tr>\n",
       "      <th>1</th>\n",
       "      <td>banana</td>\n",
       "      <td></td>\n",
       "    </tr>\n",
       "    <tr>\n",
       "      <th>2</th>\n",
       "      <td>apple</td>\n",
       "      <td>205</td>\n",
       "    </tr>\n",
       "    <tr>\n",
       "      <th>3</th>\n",
       "      <td>apple</td>\n",
       "      <td>200</td>\n",
       "    </tr>\n",
       "    <tr>\n",
       "      <th>4</th>\n",
       "      <td>banana</td>\n",
       "      <td>40</td>\n",
       "    </tr>\n",
       "    <tr>\n",
       "      <th>5</th>\n",
       "      <td>apple</td>\n",
       "      <td>210</td>\n",
       "    </tr>\n",
       "    <tr>\n",
       "      <th>6</th>\n",
       "      <td>kiwi</td>\n",
       "      <td>300</td>\n",
       "    </tr>\n",
       "    <tr>\n",
       "      <th>7</th>\n",
       "      <td>kiwi</td>\n",
       "      <td>320</td>\n",
       "    </tr>\n",
       "    <tr>\n",
       "      <th>8</th>\n",
       "      <td>banana</td>\n",
       "      <td></td>\n",
       "    </tr>\n",
       "    <tr>\n",
       "      <th>9</th>\n",
       "      <td>apple</td>\n",
       "      <td>180</td>\n",
       "    </tr>\n",
       "    <tr>\n",
       "      <th>10</th>\n",
       "      <td>kiwi</td>\n",
       "      <td>350</td>\n",
       "    </tr>\n",
       "    <tr>\n",
       "      <th>11</th>\n",
       "      <td>apple</td>\n",
       "      <td></td>\n",
       "    </tr>\n",
       "    <tr>\n",
       "      <th>12</th>\n",
       "      <td>banana</td>\n",
       "      <td>35</td>\n",
       "    </tr>\n",
       "    <tr>\n",
       "      <th>13</th>\n",
       "      <td>grape</td>\n",
       "      <td></td>\n",
       "    </tr>\n",
       "    <tr>\n",
       "      <th>14</th>\n",
       "      <td>apple</td>\n",
       "      <td>215</td>\n",
       "    </tr>\n",
       "    <tr>\n",
       "      <th>15</th>\n",
       "      <td>banana</td>\n",
       "      <td>40</td>\n",
       "    </tr>\n",
       "    <tr>\n",
       "      <th>16</th>\n",
       "      <td>apple</td>\n",
       "      <td></td>\n",
       "    </tr>\n",
       "    <tr>\n",
       "      <th>17</th>\n",
       "      <td>apple</td>\n",
       "      <td></td>\n",
       "    </tr>\n",
       "    <tr>\n",
       "      <th>18</th>\n",
       "      <td>grape</td>\n",
       "      <td></td>\n",
       "    </tr>\n",
       "  </tbody>\n",
       "</table>\n",
       "</div>"
      ],
      "text/plain": [
       "    Fruits Price\n",
       "0    apple      \n",
       "1   banana      \n",
       "2    apple   205\n",
       "3    apple   200\n",
       "4   banana    40\n",
       "5    apple   210\n",
       "6     kiwi   300\n",
       "7     kiwi   320\n",
       "8   banana      \n",
       "9    apple   180\n",
       "10    kiwi   350\n",
       "11   apple      \n",
       "12  banana    35\n",
       "13   grape      \n",
       "14   apple   215\n",
       "15  banana    40\n",
       "16   apple      \n",
       "17   apple      \n",
       "18   grape      "
      ]
     },
     "execution_count": 72,
     "metadata": {},
     "output_type": "execute_result"
    }
   ],
   "source": [
    "df2 = pd.DataFrame({\n",
    "    'Fruits': ['apple', 'banana', 'apple', 'apple', 'banana', 'apple', 'kiwi', 'kiwi', 'banana', 'apple', 'kiwi', 'apple', 'banana', 'grape', 'apple', 'banana', 'apple', 'apple', 'grape'],\n",
    "    'Price': ['', '', 205, 200, 40, 210, 300, 320, '', 180, 350, '', 35, '', 215, 40, '', '', '']})\n",
    "df2"
   ]
  },
  {
   "cell_type": "markdown",
   "id": "15c9790a",
   "metadata": {},
   "source": [
    "### 28 ) if we choose to impute missing values in price col by chaining ffill() and bfill() while limiting the imputation to 1,1 respectively,how many missing values will be left post imputation ?\n",
    "\n",
    "1. 2\n",
    "2. 0\n",
    "3. 1\n",
    "4. 3\n",
    "\n",
    "#### ans :  4 is correct "
   ]
  },
  {
   "cell_type": "code",
   "execution_count": 73,
   "id": "61b294e2",
   "metadata": {},
   "outputs": [
    {
     "data": {
      "text/html": [
       "<div>\n",
       "<style scoped>\n",
       "    .dataframe tbody tr th:only-of-type {\n",
       "        vertical-align: middle;\n",
       "    }\n",
       "\n",
       "    .dataframe tbody tr th {\n",
       "        vertical-align: top;\n",
       "    }\n",
       "\n",
       "    .dataframe thead th {\n",
       "        text-align: right;\n",
       "    }\n",
       "</style>\n",
       "<table border=\"1\" class=\"dataframe\">\n",
       "  <thead>\n",
       "    <tr style=\"text-align: right;\">\n",
       "      <th></th>\n",
       "      <th>Fruits</th>\n",
       "      <th>Price</th>\n",
       "    </tr>\n",
       "  </thead>\n",
       "  <tbody>\n",
       "    <tr>\n",
       "      <th>0</th>\n",
       "      <td>apple</td>\n",
       "      <td>NaN</td>\n",
       "    </tr>\n",
       "    <tr>\n",
       "      <th>1</th>\n",
       "      <td>banana</td>\n",
       "      <td>205.0</td>\n",
       "    </tr>\n",
       "    <tr>\n",
       "      <th>2</th>\n",
       "      <td>apple</td>\n",
       "      <td>205.0</td>\n",
       "    </tr>\n",
       "    <tr>\n",
       "      <th>3</th>\n",
       "      <td>apple</td>\n",
       "      <td>200.0</td>\n",
       "    </tr>\n",
       "    <tr>\n",
       "      <th>4</th>\n",
       "      <td>banana</td>\n",
       "      <td>40.0</td>\n",
       "    </tr>\n",
       "    <tr>\n",
       "      <th>5</th>\n",
       "      <td>apple</td>\n",
       "      <td>210.0</td>\n",
       "    </tr>\n",
       "    <tr>\n",
       "      <th>6</th>\n",
       "      <td>kiwi</td>\n",
       "      <td>300.0</td>\n",
       "    </tr>\n",
       "    <tr>\n",
       "      <th>7</th>\n",
       "      <td>kiwi</td>\n",
       "      <td>320.0</td>\n",
       "    </tr>\n",
       "    <tr>\n",
       "      <th>8</th>\n",
       "      <td>banana</td>\n",
       "      <td>320.0</td>\n",
       "    </tr>\n",
       "    <tr>\n",
       "      <th>9</th>\n",
       "      <td>apple</td>\n",
       "      <td>180.0</td>\n",
       "    </tr>\n",
       "    <tr>\n",
       "      <th>10</th>\n",
       "      <td>kiwi</td>\n",
       "      <td>350.0</td>\n",
       "    </tr>\n",
       "    <tr>\n",
       "      <th>11</th>\n",
       "      <td>apple</td>\n",
       "      <td>350.0</td>\n",
       "    </tr>\n",
       "    <tr>\n",
       "      <th>12</th>\n",
       "      <td>banana</td>\n",
       "      <td>35.0</td>\n",
       "    </tr>\n",
       "    <tr>\n",
       "      <th>13</th>\n",
       "      <td>grape</td>\n",
       "      <td>35.0</td>\n",
       "    </tr>\n",
       "    <tr>\n",
       "      <th>14</th>\n",
       "      <td>apple</td>\n",
       "      <td>215.0</td>\n",
       "    </tr>\n",
       "    <tr>\n",
       "      <th>15</th>\n",
       "      <td>banana</td>\n",
       "      <td>40.0</td>\n",
       "    </tr>\n",
       "    <tr>\n",
       "      <th>16</th>\n",
       "      <td>apple</td>\n",
       "      <td>40.0</td>\n",
       "    </tr>\n",
       "    <tr>\n",
       "      <th>17</th>\n",
       "      <td>apple</td>\n",
       "      <td>NaN</td>\n",
       "    </tr>\n",
       "    <tr>\n",
       "      <th>18</th>\n",
       "      <td>grape</td>\n",
       "      <td>NaN</td>\n",
       "    </tr>\n",
       "  </tbody>\n",
       "</table>\n",
       "</div>"
      ],
      "text/plain": [
       "    Fruits  Price\n",
       "0    apple    NaN\n",
       "1   banana  205.0\n",
       "2    apple  205.0\n",
       "3    apple  200.0\n",
       "4   banana   40.0\n",
       "5    apple  210.0\n",
       "6     kiwi  300.0\n",
       "7     kiwi  320.0\n",
       "8   banana  320.0\n",
       "9    apple  180.0\n",
       "10    kiwi  350.0\n",
       "11   apple  350.0\n",
       "12  banana   35.0\n",
       "13   grape   35.0\n",
       "14   apple  215.0\n",
       "15  banana   40.0\n",
       "16   apple   40.0\n",
       "17   apple    NaN\n",
       "18   grape    NaN"
      ]
     },
     "execution_count": 73,
     "metadata": {},
     "output_type": "execute_result"
    }
   ],
   "source": [
    "df2['Price'] = pd.to_numeric(df2['Price'])\n",
    "df2['Price'] = df2['Price'].ffill(limit=1).bfill(limit=1) ## ffill is forward filling,bfill backward fill \n",
    "df2 ## limit =1 is for it only fill one value in both ffill and bfill"
   ]
  },
  {
   "cell_type": "markdown",
   "id": "16d88bb1",
   "metadata": {},
   "source": [
    "### 29 ) what kind of missing values handling technique is appropriate for df2?\n",
    "1. imputing price col with Price's mean.\n",
    "2. impution price col with prices median.\n",
    "3. imputation price col with individuals fruits'prices median\n",
    "4. dropping missing values\n",
    "\n",
    "#### ans :  3 is correct "
   ]
  },
  {
   "cell_type": "markdown",
   "id": "0150141c",
   "metadata": {},
   "source": [
    "##### 1.Imputing 'Price' column with Price's mean:\n",
    "\n",
    "* This could be a reasonable option if the missing values are not systematically related to other variables, and the distribution of 'Price' is approximately normal. Imputing with the mean can be sensitive to outliers.\n",
    "##### 2.Imputing 'Price' column with Price's median:\n",
    "\n",
    "* This is often a more robust choice than using the mean, especially if the distribution of 'Price' has outliers. Median is less sensitive to extreme values.\n",
    "##### 3.Imputation 'Price' column with individual fruits' prices median:\n",
    "\n",
    "* If the missing values are related to specific 'Fruits' and you believe that the prices of fruits are not interchangeable, imputing with the median of each fruit's prices might be a more contextually relevant choice.\n",
    "##### 4.Dropping missing values:\n",
    "\n",
    "* If the missing values are relatively few and randomly distributed, dropping them might not significantly impact the analysis. However, if missing values are non-random, dropping them could lead to biased results."
   ]
  },
  {
   "cell_type": "code",
   "execution_count": null,
   "id": "44941a9d",
   "metadata": {},
   "outputs": [],
   "source": []
  },
  {
   "cell_type": "code",
   "execution_count": 75,
   "id": "f0f69b47",
   "metadata": {},
   "outputs": [
    {
     "data": {
      "text/html": [
       "<div>\n",
       "<style scoped>\n",
       "    .dataframe tbody tr th:only-of-type {\n",
       "        vertical-align: middle;\n",
       "    }\n",
       "\n",
       "    .dataframe tbody tr th {\n",
       "        vertical-align: top;\n",
       "    }\n",
       "\n",
       "    .dataframe thead th {\n",
       "        text-align: right;\n",
       "    }\n",
       "</style>\n",
       "<table border=\"1\" class=\"dataframe\">\n",
       "  <thead>\n",
       "    <tr style=\"text-align: right;\">\n",
       "      <th></th>\n",
       "      <th>Fruits</th>\n",
       "      <th>Price</th>\n",
       "    </tr>\n",
       "  </thead>\n",
       "  <tbody>\n",
       "    <tr>\n",
       "      <th>0</th>\n",
       "      <td>apple</td>\n",
       "      <td>200.0</td>\n",
       "    </tr>\n",
       "    <tr>\n",
       "      <th>1</th>\n",
       "      <td>banana</td>\n",
       "      <td>205.0</td>\n",
       "    </tr>\n",
       "    <tr>\n",
       "      <th>2</th>\n",
       "      <td>apple</td>\n",
       "      <td>205.0</td>\n",
       "    </tr>\n",
       "    <tr>\n",
       "      <th>3</th>\n",
       "      <td>apple</td>\n",
       "      <td>200.0</td>\n",
       "    </tr>\n",
       "    <tr>\n",
       "      <th>4</th>\n",
       "      <td>banana</td>\n",
       "      <td>40.0</td>\n",
       "    </tr>\n",
       "    <tr>\n",
       "      <th>5</th>\n",
       "      <td>apple</td>\n",
       "      <td>210.0</td>\n",
       "    </tr>\n",
       "    <tr>\n",
       "      <th>6</th>\n",
       "      <td>kiwi</td>\n",
       "      <td>300.0</td>\n",
       "    </tr>\n",
       "    <tr>\n",
       "      <th>7</th>\n",
       "      <td>kiwi</td>\n",
       "      <td>320.0</td>\n",
       "    </tr>\n",
       "    <tr>\n",
       "      <th>8</th>\n",
       "      <td>banana</td>\n",
       "      <td>320.0</td>\n",
       "    </tr>\n",
       "    <tr>\n",
       "      <th>9</th>\n",
       "      <td>apple</td>\n",
       "      <td>180.0</td>\n",
       "    </tr>\n",
       "    <tr>\n",
       "      <th>10</th>\n",
       "      <td>kiwi</td>\n",
       "      <td>350.0</td>\n",
       "    </tr>\n",
       "    <tr>\n",
       "      <th>11</th>\n",
       "      <td>apple</td>\n",
       "      <td>350.0</td>\n",
       "    </tr>\n",
       "    <tr>\n",
       "      <th>12</th>\n",
       "      <td>banana</td>\n",
       "      <td>35.0</td>\n",
       "    </tr>\n",
       "    <tr>\n",
       "      <th>13</th>\n",
       "      <td>grape</td>\n",
       "      <td>35.0</td>\n",
       "    </tr>\n",
       "    <tr>\n",
       "      <th>14</th>\n",
       "      <td>apple</td>\n",
       "      <td>215.0</td>\n",
       "    </tr>\n",
       "    <tr>\n",
       "      <th>15</th>\n",
       "      <td>banana</td>\n",
       "      <td>40.0</td>\n",
       "    </tr>\n",
       "    <tr>\n",
       "      <th>16</th>\n",
       "      <td>apple</td>\n",
       "      <td>40.0</td>\n",
       "    </tr>\n",
       "    <tr>\n",
       "      <th>17</th>\n",
       "      <td>apple</td>\n",
       "      <td>200.0</td>\n",
       "    </tr>\n",
       "    <tr>\n",
       "      <th>18</th>\n",
       "      <td>grape</td>\n",
       "      <td>35.0</td>\n",
       "    </tr>\n",
       "  </tbody>\n",
       "</table>\n",
       "</div>"
      ],
      "text/plain": [
       "    Fruits  Price\n",
       "0    apple  200.0\n",
       "1   banana  205.0\n",
       "2    apple  205.0\n",
       "3    apple  200.0\n",
       "4   banana   40.0\n",
       "5    apple  210.0\n",
       "6     kiwi  300.0\n",
       "7     kiwi  320.0\n",
       "8   banana  320.0\n",
       "9    apple  180.0\n",
       "10    kiwi  350.0\n",
       "11   apple  350.0\n",
       "12  banana   35.0\n",
       "13   grape   35.0\n",
       "14   apple  215.0\n",
       "15  banana   40.0\n",
       "16   apple   40.0\n",
       "17   apple  200.0\n",
       "18   grape   35.0"
      ]
     },
     "execution_count": 75,
     "metadata": {},
     "output_type": "execute_result"
    }
   ],
   "source": [
    "df2['Price'] = pd.to_numeric(df2['Price'])#converting to numeric\n",
    "df2['Price'] = df2.groupby('Fruits')['Price'].transform(lambda x: x.fillna(x.mean()))\n",
    "df2"
   ]
  },
  {
   "cell_type": "markdown",
   "id": "aa39a3d6",
   "metadata": {},
   "source": [
    "### 30 ) if we choose to impute missing values in price col by with individual fruits prices mean how many missing values will be post imputatiion ? \n",
    "\n",
    "1. 2\n",
    "2. 0\n",
    "3. 1\n",
    "4. 3\n",
    "\n",
    "#### option 2 is correct "
   ]
  },
  {
   "cell_type": "code",
   "execution_count": 78,
   "id": "b8eefcc1",
   "metadata": {},
   "outputs": [],
   "source": [
    "df2['Price'] = df2.groupby('Fruits')['Price'].transform(lambda x: x.fillna(x.mean()))\n"
   ]
  },
  {
   "cell_type": "markdown",
   "id": "a3f83702",
   "metadata": {},
   "source": [
    "### 31 ) what will be the output of a.interpolate()\n",
    "1.[nan,1.0,2.0,2.3,2.7,3.1,3.5,4.0,5.0,7.0]\n",
    "\n",
    "2.[nan,1.0,2.0,2.5,2.9,3.3,3.8,4.0,5.0,7.0]\n",
    "\n",
    "3.[nan,1.0,2.0,2.4,2.8,3.2,3.6,4.0,5.0,7.0]\n",
    "\n",
    "4.Error\n",
    "\n",
    "#### ans : c is correct"
   ]
  },
  {
   "cell_type": "code",
   "execution_count": 79,
   "id": "e49c5fa1",
   "metadata": {},
   "outputs": [],
   "source": [
    "a= pd.Series ([np.nan,1,2,np.nan,np.nan,np.nan,np.nan,4,5,7])"
   ]
  },
  {
   "cell_type": "code",
   "execution_count": 81,
   "id": "c2ba8cd7",
   "metadata": {},
   "outputs": [
    {
     "data": {
      "text/plain": [
       "0    NaN\n",
       "1    1.0\n",
       "2    2.0\n",
       "3    2.4\n",
       "4    2.8\n",
       "5    3.2\n",
       "6    3.6\n",
       "7    4.0\n",
       "8    5.0\n",
       "9    7.0\n",
       "dtype: float64"
      ]
     },
     "execution_count": 81,
     "metadata": {},
     "output_type": "execute_result"
    }
   ],
   "source": [
    "a.interpolate()    #To determine the output of a.interpolate(), I need to know the values of the variable a that you are applying the interpolate() method on. "
   ]
  },
  {
   "cell_type": "markdown",
   "id": "c94971c2",
   "metadata": {},
   "source": [
    "### 32 ) what is the use of the normalization parameter in the crosstab method pf pandas ?\n",
    "\n",
    "1. it is used to normalize values by dividing them by the total count\n",
    "2. to add margings \n",
    "3. there is no parameter called as normalize in crosstab.\n",
    "4. Both a&c\n",
    "\n",
    "#### ans :  1 is correct "
   ]
  },
  {
   "cell_type": "code",
   "execution_count": null,
   "id": "b6ecb6c5",
   "metadata": {},
   "outputs": [],
   "source": [
    "## explanation : \n",
    "# It is used to normalize values by dividing them by the total count:\n",
    "# This statement is true. The normalize parameter in the crosstab method of pandas allows to normalize the values by dividing them by the total count, which can be useful for obtaining percentages or proportions."
   ]
  },
  {
   "cell_type": "code",
   "execution_count": null,
   "id": "5162eb11",
   "metadata": {},
   "outputs": [],
   "source": []
  },
  {
   "cell_type": "code",
   "execution_count": 83,
   "id": "a7067943",
   "metadata": {},
   "outputs": [
    {
     "data": {
      "text/html": [
       "<div>\n",
       "<style scoped>\n",
       "    .dataframe tbody tr th:only-of-type {\n",
       "        vertical-align: middle;\n",
       "    }\n",
       "\n",
       "    .dataframe tbody tr th {\n",
       "        vertical-align: top;\n",
       "    }\n",
       "\n",
       "    .dataframe thead th {\n",
       "        text-align: right;\n",
       "    }\n",
       "</style>\n",
       "<table border=\"1\" class=\"dataframe\">\n",
       "  <thead>\n",
       "    <tr style=\"text-align: right;\">\n",
       "      <th></th>\n",
       "      <th>Age Group</th>\n",
       "      <th>Favorite Color</th>\n",
       "      <th>Gender</th>\n",
       "      <th>Has Pet</th>\n",
       "    </tr>\n",
       "  </thead>\n",
       "  <tbody>\n",
       "    <tr>\n",
       "      <th>0</th>\n",
       "      <td>26-35</td>\n",
       "      <td>Blue</td>\n",
       "      <td>Male</td>\n",
       "      <td>Yes</td>\n",
       "    </tr>\n",
       "    <tr>\n",
       "      <th>1</th>\n",
       "      <td>18-25</td>\n",
       "      <td>Red</td>\n",
       "      <td>Female</td>\n",
       "      <td>Yes</td>\n",
       "    </tr>\n",
       "    <tr>\n",
       "      <th>2</th>\n",
       "      <td>18-25</td>\n",
       "      <td>Red</td>\n",
       "      <td>Male</td>\n",
       "      <td>Yes</td>\n",
       "    </tr>\n",
       "    <tr>\n",
       "      <th>3</th>\n",
       "      <td>26-35</td>\n",
       "      <td>Blue</td>\n",
       "      <td>Female</td>\n",
       "      <td>Yes</td>\n",
       "    </tr>\n",
       "    <tr>\n",
       "      <th>4</th>\n",
       "      <td>18-25</td>\n",
       "      <td>Red</td>\n",
       "      <td>Female</td>\n",
       "      <td>Yes</td>\n",
       "    </tr>\n",
       "    <tr>\n",
       "      <th>5</th>\n",
       "      <td>18-25</td>\n",
       "      <td>Blue</td>\n",
       "      <td>Female</td>\n",
       "      <td>No</td>\n",
       "    </tr>\n",
       "  </tbody>\n",
       "</table>\n",
       "</div>"
      ],
      "text/plain": [
       "  Age Group Favorite Color  Gender Has Pet\n",
       "0     26-35           Blue    Male     Yes\n",
       "1     18-25            Red  Female     Yes\n",
       "2     18-25            Red    Male     Yes\n",
       "3     26-35           Blue  Female     Yes\n",
       "4     18-25            Red  Female     Yes\n",
       "5     18-25           Blue  Female      No"
      ]
     },
     "execution_count": 83,
     "metadata": {},
     "output_type": "execute_result"
    }
   ],
   "source": [
    "df3 = pd.DataFrame({'Age Group': ['26-35', '18-25', '18-25', '26-35', '18-25', '18-25'],\n",
    "                    'Favorite Color': ['Blue', 'Red', 'Red', 'Blue', 'Red', 'Blue'],\n",
    "                    'Gender': ['Male', 'Female', 'Male', 'Female', 'Female', 'Female'],\n",
    "                    'Has Pet': ['Yes', 'Yes', 'Yes', 'Yes', 'Yes', 'No']})\n",
    "\n",
    "df3"
   ]
  },
  {
   "cell_type": "markdown",
   "id": "d3d70aab",
   "metadata": {},
   "source": [
    "### 33. What is the probabilty of finding a Male and having a Pet in df3\n",
    "1)0.333\n",
    "\n",
    "2)0.666\n",
    "\n",
    "3)0.5\n",
    "\n",
    "4)0.1667\n",
    "\n",
    "\n",
    "#### ans : 1 is currect"
   ]
  },
  {
   "cell_type": "code",
   "execution_count": 84,
   "id": "161dbfbc",
   "metadata": {},
   "outputs": [
    {
     "data": {
      "text/plain": [
       "0.3333333333333333"
      ]
     },
     "execution_count": 84,
     "metadata": {},
     "output_type": "execute_result"
    }
   ],
   "source": [
    "total_observations = len(df3)\n",
    "male_and_has_pet = len(df3[(df3['Gender'] == 'Male') & (df3['Has Pet'] == 'Yes')])\n",
    "probability = male_and_has_pet / total_observations\n",
    "probability"
   ]
  },
  {
   "cell_type": "markdown",
   "id": "5c3faeb7",
   "metadata": {},
   "source": [
    "### 34. What is the probabilty of finding a person having Pet given they belong to the age group 18-25 in df3\n",
    "a) 0.25\n",
    "\n",
    "b) 0\n",
    "\n",
    "c) 0.75\n",
    "\n",
    "d) 1\n",
    "\n",
    "#### ans : 1 is correct"
   ]
  },
  {
   "cell_type": "code",
   "execution_count": 85,
   "id": "87adfdfb",
   "metadata": {},
   "outputs": [
    {
     "name": "stdout",
     "output_type": "stream",
     "text": [
      "0.75\n"
     ]
    }
   ],
   "source": [
    "age_group_18_25 = len(df3[df3['Age Group'] == '18-25'])\n",
    "has_pet_and_age_group_18_25 = len(df3[(df3['Age Group'] == '18-25') & (df3['Has Pet'] == 'Yes')])\n",
    "probability = has_pet_and_age_group_18_25 / age_group_18_25\n",
    "\n",
    "print(probability)"
   ]
  },
  {
   "cell_type": "markdown",
   "id": "58e3f8d3",
   "metadata": {},
   "source": [
    "### 35. Which distribution is appropriate for modeling the number of defects in a large batch of products\n",
    "a) Normal\n",
    "\n",
    "b) Binomial\n",
    "\n",
    "c) Bernouli\n",
    "\n",
    "d) Uniform\n",
    "\n",
    "#### ans : b iscorrect"
   ]
  },
  {
   "cell_type": "code",
   "execution_count": 86,
   "id": "e85baeac",
   "metadata": {},
   "outputs": [],
   "source": [
    "# Binomial Distribution: This distribution is suitable for modeling the number of successes (defects, in this case) in a fixe"
   ]
  },
  {
   "cell_type": "markdown",
   "id": "63c5fad7",
   "metadata": {},
   "source": [
    "### 36. A survey asks participants to rate their satisfaction with product on a scale of 1 to 5 What type of data is being collected\n",
    "a) Categorical data\n",
    "\n",
    "b) Ordinal data\n",
    "\n",
    "c) Continuous data\n",
    "\n",
    "d) Discrete data\n",
    "\n",
    "#### ans : b is correct"
   ]
  },
  {
   "cell_type": "code",
   "execution_count": 87,
   "id": "582289bf",
   "metadata": {},
   "outputs": [],
   "source": [
    "# Ordinal Data: Imagine you have toys of different sizes. Now, if you arrange them from smallest to largest, you can tell wh"
   ]
  },
  {
   "cell_type": "markdown",
   "id": "2a97d6e7",
   "metadata": {},
   "source": [
    "### 37. From given fig. in question , what kind of distribution does the data follow\n",
    "a) Right skewed\n",
    "b) Left skewed\n",
    "c) Normal\n",
    "d) Uniform\n",
    "#### ans : a is correct"
   ]
  },
  {
   "cell_type": "markdown",
   "id": "f8ab2f4d",
   "metadata": {},
   "source": [
    "### 38. In data with outliers , what is the best measure to estimate the dispersion\n",
    "a) Standard Deviation\n",
    "b) Z-score\n",
    "c) Median Absolute Deviation\n",
    "d) Uniform\n",
    "#### ans : c is correct"
   ]
  },
  {
   "cell_type": "code",
   "execution_count": 89,
   "id": "95fee902",
   "metadata": {},
   "outputs": [],
   "source": [
    "# a) Standard Deviation: Standard deviation is sensitive to outliers. Outliers can greatly affect the mean, and since standard deviation is based on the mean, it may not be the best choice when dealing with data containing outliers.\n",
    "\n",
    "# b) Z-score: Z-score is a measure of how far a data point is from the mean in terms of standard deviations. Since standard deviation is affected by outliers, Z-score may not be the best choice when there are outliers in the data.\n",
    "\n",
    "# d) Uniform: Uniform is not a measure of dispersion. It refers to a distribution where all values have equal probability.\n",
    "\n",
    " #correct option is:\n",
    "# c) Median Absolute Deviation (MAD): Imagine you have a group of friends and you want to find the middle person. The median is lik"
   ]
  },
  {
   "cell_type": "code",
   "execution_count": null,
   "id": "2eaf23e3",
   "metadata": {},
   "outputs": [],
   "source": []
  }
 ],
 "metadata": {
  "kernelspec": {
   "display_name": "Python 3 (ipykernel)",
   "language": "python",
   "name": "python3"
  },
  "language_info": {
   "codemirror_mode": {
    "name": "ipython",
    "version": 3
   },
   "file_extension": ".py",
   "mimetype": "text/x-python",
   "name": "python",
   "nbconvert_exporter": "python",
   "pygments_lexer": "ipython3",
   "version": "3.11.5"
  }
 },
 "nbformat": 4,
 "nbformat_minor": 5
}
